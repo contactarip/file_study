{
 "cells": [
  {
   "cell_type": "markdown",
   "id": "ab69e8e9",
   "metadata": {},
   "source": [
    "**1) Tulis program NumPy untuk membuat array berisi 10 element bernilai\n",
    "nol, 10 element bernilai satu, dan 10 element bernilai lima.**"
   ]
  },
  {
   "cell_type": "markdown",
   "id": "88557f68",
   "metadata": {},
   "source": [
    "**Jawab**\n",
    "* Seluruh program menggunakan numpy methode "
   ]
  },
  {
   "cell_type": "code",
   "execution_count": 170,
   "id": "de58445a",
   "metadata": {},
   "outputs": [],
   "source": [
    "import numpy as np "
   ]
  },
  {
   "cell_type": "markdown",
   "id": "d08a2474",
   "metadata": {},
   "source": [
    "* Membuat array dengan vektor 1 dimensi terdiri 10 elemen, dengan nilai elemen adalah 0"
   ]
  },
  {
   "cell_type": "code",
   "execution_count": 171,
   "id": "fc1ac977",
   "metadata": {},
   "outputs": [
    {
     "name": "stdout",
     "output_type": "stream",
     "text": [
      "[[0. 0. 0. 0. 0. 0. 0. 0. 0. 0.]]\n"
     ]
    }
   ],
   "source": [
    "a = np.zeros ((1,10))\n",
    "print (a)"
   ]
  },
  {
   "cell_type": "markdown",
   "id": "571cc6a0",
   "metadata": {},
   "source": [
    "* Membuat array dengan vektor 1 dimensi terdiri 10 elemen, dengan nilai elemen adalah 1"
   ]
  },
  {
   "cell_type": "code",
   "execution_count": 172,
   "id": "f80a51c8",
   "metadata": {},
   "outputs": [
    {
     "name": "stdout",
     "output_type": "stream",
     "text": [
      "[[1. 1. 1. 1. 1. 1. 1. 1. 1. 1.]]\n"
     ]
    }
   ],
   "source": [
    "b = np.ones((1,10))\n",
    "print (b)"
   ]
  },
  {
   "cell_type": "markdown",
   "id": "ab6acb89",
   "metadata": {},
   "source": [
    "* Membuat array dengan vektor 1 dimensi terdiri 10 elemen, dengan nilai elemen adalah 5\n",
    "* Menggunakan metode full untuk mengisi setiap elemen array\n",
    "* full ((row,col),value)"
   ]
  },
  {
   "cell_type": "code",
   "execution_count": 173,
   "id": "def35256",
   "metadata": {},
   "outputs": [
    {
     "data": {
      "text/plain": [
       "array([[5, 5, 5, 5, 5, 5, 5, 5, 5, 5]])"
      ]
     },
     "execution_count": 173,
     "metadata": {},
     "output_type": "execute_result"
    }
   ],
   "source": [
    "c = np.full((1,10), (5))\n",
    "c"
   ]
  },
  {
   "cell_type": "markdown",
   "id": "378d25fa",
   "metadata": {},
   "source": [
    "* menggabungkan ketiga array ke dalam 1 array"
   ]
  },
  {
   "cell_type": "code",
   "execution_count": 174,
   "id": "3ebfefec",
   "metadata": {},
   "outputs": [
    {
     "name": "stdout",
     "output_type": "stream",
     "text": [
      "[[[0. 0. 0. 0. 0. 0. 0. 0. 0. 0.]]\n",
      "\n",
      " [[1. 1. 1. 1. 1. 1. 1. 1. 1. 1.]]\n",
      "\n",
      " [[5. 5. 5. 5. 5. 5. 5. 5. 5. 5.]]]\n",
      "<class 'numpy.ndarray'>\n"
     ]
    }
   ],
   "source": [
    "num_ = np.array ((a,b,c))\n",
    "print (num_)\n",
    "print (type(num_))\n"
   ]
  },
  {
   "cell_type": "markdown",
   "id": "fe845da7",
   "metadata": {},
   "source": [
    "**2) Tulis program NumPy untuk membuat vektor dengan panjang 10 element dengan nilai yang didistribusikan secara merata antara 5 dan 50.**"
   ]
  },
  {
   "cell_type": "markdown",
   "id": "caa70682",
   "metadata": {},
   "source": [
    "**Jawab**\n",
    "* Menggunakan metode linspace untuk membagi rata nilai pada array dalam suatu range.\n",
    "* Linspace merupakan fungsi yang mengembalikan baris yang berisi nilai dengan sejumlah elemen dengan jarak yang saya untuk suatu rentang. "
   ]
  },
  {
   "cell_type": "code",
   "execution_count": 175,
   "id": "af577bce",
   "metadata": {},
   "outputs": [],
   "source": [
    "a3 = np.linspace(5,50,10)"
   ]
  },
  {
   "cell_type": "code",
   "execution_count": 176,
   "id": "73271444",
   "metadata": {},
   "outputs": [
    {
     "data": {
      "text/plain": [
       "array([ 5., 10., 15., 20., 25., 30., 35., 40., 45., 50.])"
      ]
     },
     "execution_count": 176,
     "metadata": {},
     "output_type": "execute_result"
    }
   ],
   "source": [
    "a3"
   ]
  },
  {
   "cell_type": "markdown",
   "id": "0eb36a1b",
   "metadata": {},
   "source": [
    "* mengecek jumlah elemen dari array a3\n",
    "* elemen a3 berisi sebanyak 10 elemen "
   ]
  },
  {
   "cell_type": "code",
   "execution_count": 177,
   "id": "baf0d73b",
   "metadata": {},
   "outputs": [
    {
     "data": {
      "text/plain": [
       "10"
      ]
     },
     "execution_count": 177,
     "metadata": {},
     "output_type": "execute_result"
    }
   ],
   "source": [
    "a3.size"
   ]
  },
  {
   "cell_type": "markdown",
   "id": "f52635ac",
   "metadata": {},
   "source": [
    "**3) Tulis program NumPy untuk mendapatkan elemen unik dari array.**"
   ]
  },
  {
   "cell_type": "markdown",
   "id": "0e0ef386",
   "metadata": {},
   "source": [
    "**Jawab**\n",
    "* Menggunakan metode unique untuk mendapatkan nilai unik dari sebuah array"
   ]
  },
  {
   "cell_type": "code",
   "execution_count": 178,
   "id": "d9c4696a",
   "metadata": {},
   "outputs": [
    {
     "name": "stdout",
     "output_type": "stream",
     "text": [
      "[ 5. 10. 15. 20. 25. 30. 35. 40. 45. 50.]\n"
     ]
    }
   ],
   "source": [
    "a4 = np.unique(a3)\n",
    "print (a4)"
   ]
  },
  {
   "cell_type": "markdown",
   "id": "cd2fe98e",
   "metadata": {},
   "source": [
    "* Pembuatan array dengan metode yang lain, kemudian diambil unique value untuk menghasilkan array baru"
   ]
  },
  {
   "cell_type": "code",
   "execution_count": 179,
   "id": "fc2df0d1",
   "metadata": {},
   "outputs": [
    {
     "data": {
      "text/plain": [
       "array([[ 5,  3, 11,  6,  7],\n",
       "       [ 2,  1,  1,  7,  3],\n",
       "       [ 3,  4, 10,  5,  2]])"
      ]
     },
     "execution_count": 179,
     "metadata": {},
     "output_type": "execute_result"
    }
   ],
   "source": [
    "a5 = np.random.randint (15, size = (3,5))\n",
    "a5"
   ]
  },
  {
   "cell_type": "code",
   "execution_count": 180,
   "id": "7bad182e",
   "metadata": {},
   "outputs": [
    {
     "name": "stdout",
     "output_type": "stream",
     "text": [
      "[ 1  2  3  4  5  6  7 10 11]\n",
      "<class 'numpy.ndarray'>\n"
     ]
    }
   ],
   "source": [
    "aa= np.unique (a5)\n",
    "print (aa)\n",
    "print (type(aa))"
   ]
  },
  {
   "cell_type": "code",
   "execution_count": 181,
   "id": "ab3ebd8e",
   "metadata": {},
   "outputs": [
    {
     "data": {
      "text/plain": [
       "array([ 1,  1,  4,  5,  7,  9, 11, 23, 22, 33,  1,  2])"
      ]
     },
     "execution_count": 181,
     "metadata": {},
     "output_type": "execute_result"
    }
   ],
   "source": [
    "a_ = [ 1,1,4,5,7,9,11,23,22,33,1,2]\n",
    "aa_ = np.array(a_)\n",
    "aa_"
   ]
  },
  {
   "cell_type": "code",
   "execution_count": 182,
   "id": "978a7245",
   "metadata": {},
   "outputs": [
    {
     "data": {
      "text/plain": [
       "array([ 1,  2,  4,  5,  7,  9, 11, 22, 23, 33])"
      ]
     },
     "execution_count": 182,
     "metadata": {},
     "output_type": "execute_result"
    }
   ],
   "source": [
    "ab= np.unique(aa_)\n",
    "ab"
   ]
  },
  {
   "cell_type": "markdown",
   "id": "fd5cbd6d",
   "metadata": {},
   "source": [
    "**4) Tulis program NumPy untuk menemukan indeks dari nilai maksimum\n",
    "dan minimum di sepanjang array yang diberikan.**"
   ]
  },
  {
   "cell_type": "markdown",
   "id": "913a5b3a",
   "metadata": {},
   "source": [
    "**Jawab**\n",
    "* Menggunakan metode min dan max sebagai pilihan untuk menemukan nilai minimun dan maksimum di sepanjang \n",
    "  array yang diberikan.\n",
    "* hal ini mengambil nilai min dan max dari array a3, dengan nilai antara 5 dan 50"
   ]
  },
  {
   "cell_type": "code",
   "execution_count": 183,
   "id": "837afac8",
   "metadata": {},
   "outputs": [
    {
     "data": {
      "text/plain": [
       "5.0"
      ]
     },
     "execution_count": 183,
     "metadata": {},
     "output_type": "execute_result"
    }
   ],
   "source": [
    "ac = np.min(a3)\n",
    "ac"
   ]
  },
  {
   "cell_type": "code",
   "execution_count": 184,
   "id": "c31a4be8",
   "metadata": {},
   "outputs": [
    {
     "data": {
      "text/plain": [
       "50.0"
      ]
     },
     "execution_count": 184,
     "metadata": {},
     "output_type": "execute_result"
    }
   ],
   "source": [
    "ac_ = np.max (a3)\n",
    "ac_ "
   ]
  },
  {
   "cell_type": "code",
   "execution_count": 185,
   "id": "30280e4b",
   "metadata": {},
   "outputs": [
    {
     "name": "stdout",
     "output_type": "stream",
     "text": [
      "5.0 50.0\n"
     ]
    }
   ],
   "source": [
    "print (ac, ac_)"
   ]
  },
  {
   "cell_type": "markdown",
   "id": "4974fd26",
   "metadata": {},
   "source": [
    "* Menggunakan fungsi keyword def untuk mengambil nilai minimum dan maksimum secara bersamaan dari sebuah array"
   ]
  },
  {
   "cell_type": "code",
   "execution_count": 186,
   "id": "8a8317ea",
   "metadata": {},
   "outputs": [],
   "source": [
    "def n_max(deret_bilangan):\n",
    "    n_max = deret_bilangan[0]\n",
    "\n",
    "    for n in deret_bilangan:\n",
    "        if n > nilai_terbesar:\n",
    "             nilai_terbesar = n\n",
    "\n",
    "    return nilai_terbesar\n",
    "\n",
    "def n_min(deret_bilangan):\n",
    "    n_min = deret_bilangan[0]\n",
    "\n",
    "    for n in deret_bilangan:\n",
    "        if n < nilai_terkecil:\n",
    "             nilai_terkecil = n\n",
    "\n",
    "    return nilai_terkecil"
   ]
  },
  {
   "cell_type": "code",
   "execution_count": 187,
   "id": "9f699f3c",
   "metadata": {},
   "outputs": [
    {
     "name": "stdout",
     "output_type": "stream",
     "text": [
      "[ 5. 10. 15. 20. 25. 30. 35. 40. 45. 50.]\n",
      "5.0\n",
      "50.0\n"
     ]
    }
   ],
   "source": [
    "print (a3)\n",
    "print (nilai_minimal(a3))\n",
    "print (nilai_maksimal(a3))"
   ]
  },
  {
   "cell_type": "code",
   "execution_count": 188,
   "id": "89717836",
   "metadata": {},
   "outputs": [
    {
     "data": {
      "text/plain": [
       "(5.0, 50.0)"
      ]
     },
     "execution_count": 188,
     "metadata": {},
     "output_type": "execute_result"
    }
   ],
   "source": [
    "min(a3), max(a3)"
   ]
  },
  {
   "cell_type": "markdown",
   "id": "4475d8a2",
   "metadata": {},
   "source": [
    "**5) Tulis program NumPy untuk membulatkan elemen array ke jumlah\n",
    "desimal yang diberikan.**"
   ]
  },
  {
   "cell_type": "markdown",
   "id": "c738febd",
   "metadata": {},
   "source": [
    "**Jawab**\n",
    "* Membuat array secara random dengan nilai elemen berisi desimal dengan 8 angka desimal\n",
    "* Kemudian membulatkan elemen menjadi 2 angka desimal\n",
    "* Menggunakan metode rounding (pembulatan) sebagai pilihan untuk membulatkan nilai desimal sebuah array.\n",
    "* Around merupakan fungsi untuk menaikkan digit atau desimal sebelumnya sebesar 1 jika >= 5."
   ]
  },
  {
   "cell_type": "code",
   "execution_count": 189,
   "id": "71bc2fe7",
   "metadata": {},
   "outputs": [
    {
     "data": {
      "text/plain": [
       "array([0.52372527, 0.2631821 , 0.89238297, 0.38075977, 0.02042997,\n",
       "       0.23010535, 0.98729767, 0.58541408, 0.21997369, 0.63712178,\n",
       "       0.97233457, 0.5130355 , 0.27931295, 0.06175911, 0.32593641,\n",
       "       0.78416564, 0.4203336 , 0.71066843, 0.55237197, 0.50531843])"
      ]
     },
     "execution_count": 189,
     "metadata": {},
     "output_type": "execute_result"
    }
   ],
   "source": [
    "a5 = np.random.random(20)\n",
    "a5"
   ]
  },
  {
   "cell_type": "code",
   "execution_count": 190,
   "id": "5728d138",
   "metadata": {},
   "outputs": [
    {
     "data": {
      "text/plain": [
       "array([0.52, 0.26, 0.89, 0.38, 0.02, 0.23, 0.99, 0.59, 0.22, 0.64, 0.97,\n",
       "       0.51, 0.28, 0.06, 0.33, 0.78, 0.42, 0.71, 0.55, 0.51])"
      ]
     },
     "execution_count": 190,
     "metadata": {},
     "output_type": "execute_result"
    }
   ],
   "source": [
    "a6= np.around(a5,2)\n",
    "a6"
   ]
  },
  {
   "cell_type": "markdown",
   "id": "b4d22b10",
   "metadata": {},
   "source": [
    "* Membuat array secara acak denga nilai elemen antara 1 hingga 5 dengan nilai distribusi merata sebesar 0.069"
   ]
  },
  {
   "cell_type": "code",
   "execution_count": 191,
   "id": "a4160720",
   "metadata": {},
   "outputs": [
    {
     "data": {
      "text/plain": [
       "array([1.   , 1.069, 1.138, 1.207, 1.276, 1.345, 1.414, 1.483, 1.552,\n",
       "       1.621, 1.69 , 1.759, 1.828, 1.897, 1.966, 2.035, 2.104, 2.173,\n",
       "       2.242, 2.311, 2.38 , 2.449, 2.518, 2.587, 2.656, 2.725, 2.794,\n",
       "       2.863, 2.932, 3.001, 3.07 , 3.139, 3.208, 3.277, 3.346, 3.415,\n",
       "       3.484, 3.553, 3.622, 3.691, 3.76 , 3.829, 3.898, 3.967, 4.036,\n",
       "       4.105, 4.174, 4.243, 4.312, 4.381, 4.45 , 4.519, 4.588, 4.657,\n",
       "       4.726, 4.795, 4.864, 4.933])"
      ]
     },
     "execution_count": 191,
     "metadata": {},
     "output_type": "execute_result"
    }
   ],
   "source": [
    "a5_ = np.arange (1,5,0.069)\n",
    "a5_"
   ]
  },
  {
   "cell_type": "markdown",
   "id": "27e3b451",
   "metadata": {},
   "source": [
    "* Menggunakan metode around untuk membulatkan elemen ke 1 angka diblakang koma. "
   ]
  },
  {
   "cell_type": "code",
   "execution_count": 192,
   "id": "5f84c69b",
   "metadata": {},
   "outputs": [
    {
     "data": {
      "text/plain": [
       "array([1. , 1.1, 1.1, 1.2, 1.3, 1.3, 1.4, 1.5, 1.6, 1.6, 1.7, 1.8, 1.8,\n",
       "       1.9, 2. , 2. , 2.1, 2.2, 2.2, 2.3, 2.4, 2.4, 2.5, 2.6, 2.7, 2.7,\n",
       "       2.8, 2.9, 2.9, 3. , 3.1, 3.1, 3.2, 3.3, 3.3, 3.4, 3.5, 3.6, 3.6,\n",
       "       3.7, 3.8, 3.8, 3.9, 4. , 4. , 4.1, 4.2, 4.2, 4.3, 4.4, 4.4, 4.5,\n",
       "       4.6, 4.7, 4.7, 4.8, 4.9, 4.9])"
      ]
     },
     "execution_count": 192,
     "metadata": {},
     "output_type": "execute_result"
    }
   ],
   "source": [
    "a56 = np.around (a5_, 1)\n",
    "a56"
   ]
  },
  {
   "cell_type": "markdown",
   "id": "f31f1160",
   "metadata": {},
   "source": [
    "***FINISHED***"
   ]
  }
 ],
 "metadata": {
  "kernelspec": {
   "display_name": "Python 3",
   "language": "python",
   "name": "python3"
  },
  "language_info": {
   "codemirror_mode": {
    "name": "ipython",
    "version": 3
   },
   "file_extension": ".py",
   "mimetype": "text/x-python",
   "name": "python",
   "nbconvert_exporter": "python",
   "pygments_lexer": "ipython3",
   "version": "3.8.8"
  }
 },
 "nbformat": 4,
 "nbformat_minor": 5
}
