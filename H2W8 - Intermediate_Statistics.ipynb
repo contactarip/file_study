{
 "cells": [
  {
   "cell_type": "markdown",
   "id": "8ea498b0",
   "metadata": {},
   "source": [
    "**1. Seseorang mempunyai 10 buku berbeda yang terdiri atas matematika, kimia,\n",
    "   biologi, dan kamus. Buku-buku tersebut akan disusun sesuai kelompoknya.\n",
    "   Berapa banyaknya kemungkinan susunan berbeda ?**"
   ]
  },
  {
   "cell_type": "markdown",
   "id": "127513c9",
   "metadata": {},
   "source": [
    "**Jawab :** \n",
    "\n",
    "Terdapat banyak sampel buku, \n",
    "- Matematika : 1!\n",
    "\n",
    "- Kimia : 1! \n",
    "\n",
    "- Biologi : 1! \n",
    "\n",
    "- Kamus : 1! \n",
    "\n",
    "Susunan buku adalah :  Matematika x Kimia x Biologi x Kamus = 1! x 1! x 1! x 1! = 1 ,  \n",
    "Kelompok buku berjumlah : 4! , \n",
    "Sehingga seluruh kemungkinan dalam susunan buku yang berbeda adalah: 1! x 4! = 24 susunan berbeda. "
   ]
  },
  {
   "cell_type": "markdown",
   "id": "68865fd4",
   "metadata": {},
   "source": [
    "**2. Bila 10 orang anak akan dibagi dalam 2 tim, yaitu A dan B, dengan masing -\n",
    "   masing beranggotakan 5 orang. Berapa kemungkinan cara membagi tim tersebut ?**"
   ]
  },
  {
   "cell_type": "markdown",
   "id": "ab7886ad",
   "metadata": {},
   "source": [
    "**Jawab :** \n",
    "\n",
    "Anggota tim berjumlah 5, r = 5\n",
    "\n",
    "Total seluruh anak berjumlah 10, n = 10, \n",
    "\n",
    "Sehingga cara yang dapat dilakukan dalam membagi tim adalah: \n",
    "\n",
    "P (n,r) = n! / r!(n-r)! , \n",
    "\n",
    "P = 10! / 5!(10-5)! \n",
    "\n",
    "P = 10! / 5!x5! \n",
    "\n",
    "P = (6 x 7 x 8 x 9 x 10) / (1 x 2 x 3 x 4 x 5)\n",
    "\n",
    "P = 252 cara dalam membagi tim. "
   ]
  },
  {
   "cell_type": "markdown",
   "id": "b6e73eb8",
   "metadata": {},
   "source": [
    "**3. Berikut ini terdapat 52 kartu Bridge.**\n",
    "\n",
    "    a. Berapa peluang munculnya kartu Queen?\n",
    "    \n",
    "    b. Berapa peluang munculnya kartu berwarna merah?\n",
    "    \n",
    "    c. Berapa peluang munculnya kartu dengan angka 5?\n",
    "    \n",
    "    d. Berapa peluang munculnya kartu Queen atau Hitam?"
   ]
  },
  {
   "cell_type": "markdown",
   "id": "f4004584",
   "metadata": {},
   "source": [
    "**Jawab :**\n",
    "\n",
    "\n",
    "Kartu Bridge berjumlah 52, terdiri dari: \n",
    "\n",
    "26 kartu berwarna hitam yang terdiri dari 13 kartu berbentuk sekop dan 13 kartu berbentuk keriting, \n",
    "\n",
    "26 kartu berwarna merah yang terdiri dari 13 kartu berbentuk hati dan 13 kartu berbentuk berlian. "
   ]
  },
  {
   "cell_type": "markdown",
   "id": "a92c9ae2",
   "metadata": {},
   "source": [
    "a. Peluang munculnya kartu Queen: \n",
    "\n",
    "     Dimana kartu Queen berjumlah 4 kartu, maka n(A) = 4 \n",
    "\n",
    "     dan banyaknya kartu berjumlah 52, maka n(S) = 52 \n",
    "\n",
    "     Sehingga Peluang munculnya kartu Queen adalah: \n",
    "\n",
    "     P(A) = n(A)/n(S) \n",
    "\n",
    "     P(A) = 4/52          \n",
    "\n",
    "     P(A) = 1/13"
   ]
  },
  {
   "cell_type": "markdown",
   "id": "cda40dbd",
   "metadata": {},
   "source": [
    "b. Peluang munculnya kartu berwarna merah: \n",
    "\n",
    "    Dimana kartu berwarna merah berjumlah 26 kartu, n(A) = 26\n",
    "\n",
    "    dan total kartu berjumlah 52 kartu Bridge, n(S0 = 52, \n",
    "\n",
    "    Sehingga peluang munculnya kartu berwarna merah adalah: \n",
    "\n",
    "    P(A) = n(A)/n(S) \n",
    "\n",
    "    P(A) = 26/52 \n",
    "\n",
    "    P(A) = 1/2 \n"
   ]
  },
  {
   "cell_type": "markdown",
   "id": "3e1b6525",
   "metadata": {},
   "source": [
    "c. Peluang munculnya kartu dengan angka 5: \n",
    "\n",
    "    Dimana, kartu dengan angka 5 berjumlah 4 sample, n(A) = 4 \n",
    "\n",
    "    dan kartu keseluruhan berjumlah 52, banyak ruang sample n(S) = 52 \n",
    "\n",
    "    Sehingga peluang munculnya kartu dengan angka 5 adalah sebanyak: \n",
    "\n",
    "    P(A) = n(A)/n(S) \n",
    "\n",
    "    P(A) = 4/52 \n",
    "\n",
    "    P(A) = 1/13"
   ]
  },
  {
   "cell_type": "markdown",
   "id": "7cf211e8",
   "metadata": {},
   "source": [
    "d. Peluang munculnya kartu Queen dan Hitam: \n",
    "\n",
    "    Dimana, kartu Queen berjumlah 4. n(A) = 4\n",
    "\n",
    "    Peluang terhadap munculnya kartu Queen P(A) = 4/52 \n",
    "\n",
    "    Kartu berwarna hitam berjumlah 26, n(B) = 26 \n",
    "\n",
    "    peluang terhadap munculnya kartu berwarna hitam adalah P(B) = 26/52 \n",
    "\n",
    "    Dan munculnya kartu muncul secara bersamaan antara Queen dan warna hitam, n(A&B) = 2 \n",
    "\n",
    "    Peluang terhadap munculnya Kartu Queen dengan warna hitam adalah: \n",
    "\n",
    "    P(A&B) = P(A) + P(B) - P(A&B) \n",
    "\n",
    "    P(A&B) = 4/52 + 26/52 - 2/52 \n",
    "\n",
    "    P(A&B) = 28/52 \n",
    "\n",
    "    P(A&B) = 7/13"
   ]
  },
  {
   "cell_type": "markdown",
   "id": "73c76199",
   "metadata": {},
   "source": [
    "******"
   ]
  },
  {
   "cell_type": "markdown",
   "id": "e9421b20",
   "metadata": {},
   "source": [
    "**4. Gambarkan keadaan dari harga rumah pada variable (house price of unit area)\n",
    "   pada dataset Real_estate.csv.**"
   ]
  },
  {
   "cell_type": "code",
   "execution_count": 43,
   "id": "9514e040",
   "metadata": {},
   "outputs": [],
   "source": [
    "import pandas as pd "
   ]
  },
  {
   "cell_type": "code",
   "execution_count": 44,
   "id": "10b88a02",
   "metadata": {},
   "outputs": [],
   "source": [
    "import numpy as np"
   ]
  },
  {
   "cell_type": "code",
   "execution_count": 45,
   "id": "cb4f20a0",
   "metadata": {},
   "outputs": [],
   "source": [
    "import matplotlib.pyplot as plt\n",
    "%matplotlib inline"
   ]
  },
  {
   "cell_type": "code",
   "execution_count": 46,
   "id": "8a4bbd21",
   "metadata": {},
   "outputs": [],
   "source": [
    "real_estate = pd.read_csv(r\"D:\\M Arif\\Digital School\\WEEK 8\\Session 23\\Real_estate - Real_estate.csv\")"
   ]
  },
  {
   "cell_type": "code",
   "execution_count": 47,
   "id": "fb311400",
   "metadata": {},
   "outputs": [
    {
     "data": {
      "text/html": [
       "<div>\n",
       "<style scoped>\n",
       "    .dataframe tbody tr th:only-of-type {\n",
       "        vertical-align: middle;\n",
       "    }\n",
       "\n",
       "    .dataframe tbody tr th {\n",
       "        vertical-align: top;\n",
       "    }\n",
       "\n",
       "    .dataframe thead th {\n",
       "        text-align: right;\n",
       "    }\n",
       "</style>\n",
       "<table border=\"1\" class=\"dataframe\">\n",
       "  <thead>\n",
       "    <tr style=\"text-align: right;\">\n",
       "      <th></th>\n",
       "      <th>No</th>\n",
       "      <th>X1 transaction date</th>\n",
       "      <th>X2 house age</th>\n",
       "      <th>X3 distance to the nearest MRT station</th>\n",
       "      <th>X4 number of convenience stores</th>\n",
       "      <th>X5 latitude</th>\n",
       "      <th>X6 longitude</th>\n",
       "      <th>Y house price of unit area</th>\n",
       "    </tr>\n",
       "  </thead>\n",
       "  <tbody>\n",
       "    <tr>\n",
       "      <th>0</th>\n",
       "      <td>1</td>\n",
       "      <td>2.012.917</td>\n",
       "      <td>32.0</td>\n",
       "      <td>8.487.882</td>\n",
       "      <td>10</td>\n",
       "      <td>2.498.298</td>\n",
       "      <td>12.154.024</td>\n",
       "      <td>37.9</td>\n",
       "    </tr>\n",
       "    <tr>\n",
       "      <th>1</th>\n",
       "      <td>2</td>\n",
       "      <td>2.012.917</td>\n",
       "      <td>19.5</td>\n",
       "      <td>3.065.947</td>\n",
       "      <td>9</td>\n",
       "      <td>2.498.034</td>\n",
       "      <td>12.153.951</td>\n",
       "      <td>42.2</td>\n",
       "    </tr>\n",
       "    <tr>\n",
       "      <th>2</th>\n",
       "      <td>3</td>\n",
       "      <td>2.013.583</td>\n",
       "      <td>13.3</td>\n",
       "      <td>5.619.845</td>\n",
       "      <td>5</td>\n",
       "      <td>2.498.746</td>\n",
       "      <td>12.154.391</td>\n",
       "      <td>47.3</td>\n",
       "    </tr>\n",
       "    <tr>\n",
       "      <th>3</th>\n",
       "      <td>4</td>\n",
       "      <td>2.013.500</td>\n",
       "      <td>13.3</td>\n",
       "      <td>5.619.845</td>\n",
       "      <td>5</td>\n",
       "      <td>2.498.746</td>\n",
       "      <td>12.154.391</td>\n",
       "      <td>54.8</td>\n",
       "    </tr>\n",
       "    <tr>\n",
       "      <th>4</th>\n",
       "      <td>5</td>\n",
       "      <td>2.012.833</td>\n",
       "      <td>5.0</td>\n",
       "      <td>3.905.684</td>\n",
       "      <td>5</td>\n",
       "      <td>2.497.937</td>\n",
       "      <td>12.154.245</td>\n",
       "      <td>43.1</td>\n",
       "    </tr>\n",
       "  </tbody>\n",
       "</table>\n",
       "</div>"
      ],
      "text/plain": [
       "   No X1 transaction date  X2 house age  \\\n",
       "0   1           2.012.917          32.0   \n",
       "1   2           2.012.917          19.5   \n",
       "2   3           2.013.583          13.3   \n",
       "3   4           2.013.500          13.3   \n",
       "4   5           2.012.833           5.0   \n",
       "\n",
       "  X3 distance to the nearest MRT station  X4 number of convenience stores  \\\n",
       "0                              8.487.882                               10   \n",
       "1                              3.065.947                                9   \n",
       "2                              5.619.845                                5   \n",
       "3                              5.619.845                                5   \n",
       "4                              3.905.684                                5   \n",
       "\n",
       "  X5 latitude X6 longitude  Y house price of unit area  \n",
       "0   2.498.298   12.154.024                        37.9  \n",
       "1   2.498.034   12.153.951                        42.2  \n",
       "2   2.498.746   12.154.391                        47.3  \n",
       "3   2.498.746   12.154.391                        54.8  \n",
       "4   2.497.937   12.154.245                        43.1  "
      ]
     },
     "execution_count": 47,
     "metadata": {},
     "output_type": "execute_result"
    }
   ],
   "source": [
    "real_estate.head()"
   ]
  },
  {
   "cell_type": "markdown",
   "id": "eae0536e",
   "metadata": {},
   "source": [
    "***"
   ]
  },
  {
   "cell_type": "markdown",
   "id": "c83df6c8",
   "metadata": {},
   "source": [
    "a. Gambaran dapat dijelaskan melalui statistik deskriptif dari variable harga\n",
    "   rumah tersebut.\n",
    "   ***\n",
    "   **Jawab:**"
   ]
  },
  {
   "cell_type": "code",
   "execution_count": 48,
   "id": "6640f8c0",
   "metadata": {},
   "outputs": [
    {
     "data": {
      "text/plain": [
       "count    414.000000\n",
       "mean      37.980193\n",
       "std       13.606488\n",
       "min        7.600000\n",
       "25%       27.700000\n",
       "50%       38.450000\n",
       "75%       46.600000\n",
       "max      117.500000\n",
       "Name: Y house price of unit area, dtype: float64"
      ]
     },
     "execution_count": 48,
     "metadata": {},
     "output_type": "execute_result"
    }
   ],
   "source": [
    "describe = real_estate['Y house price of unit area'].describe()\n",
    "describe "
   ]
  },
  {
   "cell_type": "code",
   "execution_count": 49,
   "id": "eee92ac2",
   "metadata": {},
   "outputs": [
    {
     "data": {
      "text/plain": [
       "37.98019323671498"
      ]
     },
     "execution_count": 49,
     "metadata": {},
     "output_type": "execute_result"
    }
   ],
   "source": [
    "describe = real_estate['Y house price of unit area'].mean()\n",
    "describe "
   ]
  },
  {
   "cell_type": "code",
   "execution_count": 50,
   "id": "50f67c35",
   "metadata": {},
   "outputs": [
    {
     "data": {
      "text/plain": [
       "38.45"
      ]
     },
     "execution_count": 50,
     "metadata": {},
     "output_type": "execute_result"
    }
   ],
   "source": [
    "describe = real_estate['Y house price of unit area'].median()\n",
    "describe "
   ]
  },
  {
   "cell_type": "code",
   "execution_count": 51,
   "id": "cf10d9f9",
   "metadata": {},
   "outputs": [
    {
     "data": {
      "text/plain": [
       "13.606487697735314"
      ]
     },
     "execution_count": 51,
     "metadata": {},
     "output_type": "execute_result"
    }
   ],
   "source": [
    "describe = real_estate['Y house price of unit area'].std()\n",
    "describe "
   ]
  },
  {
   "cell_type": "code",
   "execution_count": 52,
   "id": "58985ab2",
   "metadata": {},
   "outputs": [
    {
     "data": {
      "text/plain": [
       "37.5    4\n",
       "29.3    4\n",
       "37.4    4\n",
       "42.3    4\n",
       "42.0    4\n",
       "       ..\n",
       "58.8    1\n",
       "23.2    1\n",
       "15.5    1\n",
       "31.9    1\n",
       "50.5    1\n",
       "Name: Y house price of unit area, Length: 270, dtype: int64"
      ]
     },
     "execution_count": 52,
     "metadata": {},
     "output_type": "execute_result"
    }
   ],
   "source": [
    "describe = real_estate['Y house price of unit area'].value_counts()\n",
    "describe "
   ]
  },
  {
   "cell_type": "code",
   "execution_count": 53,
   "id": "e6c2e083",
   "metadata": {},
   "outputs": [
    {
     "data": {
      "text/plain": [
       "0    24.7\n",
       "1    29.3\n",
       "2    31.3\n",
       "3    37.4\n",
       "4    37.5\n",
       "5    40.3\n",
       "6    40.6\n",
       "7    42.0\n",
       "8    42.3\n",
       "9    42.5\n",
       "dtype: float64"
      ]
     },
     "execution_count": 53,
     "metadata": {},
     "output_type": "execute_result"
    }
   ],
   "source": [
    "describe = real_estate['Y house price of unit area'].mode()\n",
    "describe "
   ]
  },
  {
   "cell_type": "code",
   "execution_count": 54,
   "id": "17ec4530",
   "metadata": {},
   "outputs": [
    {
     "data": {
      "text/plain": [
       "46.6"
      ]
     },
     "execution_count": 54,
     "metadata": {},
     "output_type": "execute_result"
    }
   ],
   "source": [
    "describe = np.nanpercentile(real_estate['Y house price of unit area'],75)\n",
    "describe "
   ]
  },
  {
   "cell_type": "code",
   "execution_count": 55,
   "id": "53ae6652",
   "metadata": {},
   "outputs": [
    {
     "data": {
      "text/plain": [
       "54.94"
      ]
     },
     "execution_count": 55,
     "metadata": {},
     "output_type": "execute_result"
    }
   ],
   "source": [
    "describe = np.nanpercentile(real_estate['Y house price of unit area'],90)\n",
    "describe "
   ]
  },
  {
   "cell_type": "code",
   "execution_count": 56,
   "id": "c400574e",
   "metadata": {},
   "outputs": [
    {
     "data": {
      "text/plain": [
       "18.900000000000002"
      ]
     },
     "execution_count": 56,
     "metadata": {},
     "output_type": "execute_result"
    }
   ],
   "source": [
    "q25, q75 = np.nanpercentile(real_estate['Y house price of unit area'],[25,75])\n",
    "\n",
    "IQR = (q75 - q25)\n",
    "\n",
    "IQR"
   ]
  },
  {
   "cell_type": "markdown",
   "id": "05ee8cf2",
   "metadata": {},
   "source": [
    "****"
   ]
  },
  {
   "cell_type": "markdown",
   "id": "62f26d77",
   "metadata": {},
   "source": [
    "b. Bagaimana sebaran harga rumah tersebut?\n",
    "\n",
    "     Hint: Dapat dicek menggunakan statistical plot, kemudian apa key take away\n",
    "     yang bisa diambil? Coba uraikan!\n",
    "***\n",
    "\n",
    "**Jawab:**"
   ]
  },
  {
   "cell_type": "code",
   "execution_count": 57,
   "id": "90e6567b",
   "metadata": {},
   "outputs": [
    {
     "data": {
      "text/html": [
       "<div>\n",
       "<style scoped>\n",
       "    .dataframe tbody tr th:only-of-type {\n",
       "        vertical-align: middle;\n",
       "    }\n",
       "\n",
       "    .dataframe tbody tr th {\n",
       "        vertical-align: top;\n",
       "    }\n",
       "\n",
       "    .dataframe thead th {\n",
       "        text-align: right;\n",
       "    }\n",
       "</style>\n",
       "<table border=\"1\" class=\"dataframe\">\n",
       "  <thead>\n",
       "    <tr style=\"text-align: right;\">\n",
       "      <th></th>\n",
       "      <th>X4 number of convenience stores</th>\n",
       "      <th>Y house price of unit area</th>\n",
       "    </tr>\n",
       "  </thead>\n",
       "  <tbody>\n",
       "    <tr>\n",
       "      <th>X4 number of convenience stores</th>\n",
       "      <td>1.000000</td>\n",
       "      <td>0.571005</td>\n",
       "    </tr>\n",
       "    <tr>\n",
       "      <th>Y house price of unit area</th>\n",
       "      <td>0.571005</td>\n",
       "      <td>1.000000</td>\n",
       "    </tr>\n",
       "  </tbody>\n",
       "</table>\n",
       "</div>"
      ],
      "text/plain": [
       "                                 X4 number of convenience stores  \\\n",
       "X4 number of convenience stores                         1.000000   \n",
       "Y house price of unit area                              0.571005   \n",
       "\n",
       "                                 Y house price of unit area  \n",
       "X4 number of convenience stores                    0.571005  \n",
       "Y house price of unit area                         1.000000  "
      ]
     },
     "execution_count": 57,
     "metadata": {},
     "output_type": "execute_result"
    }
   ],
   "source": [
    "korelasi = real_estate[['X4 number of convenience stores','Y house price of unit area']]\n",
    "korelasi.corr()"
   ]
  },
  {
   "cell_type": "code",
   "execution_count": 58,
   "id": "3d040684",
   "metadata": {},
   "outputs": [
    {
     "data": {
      "image/png": "[encoded data removed]",
      "text/plain": [
       "<Figure size 432x288 with 1 Axes>"
      ]
     },
     "metadata": {
      "needs_background": "light"
     },
     "output_type": "display_data"
    }
   ],
   "source": [
    "x = real_estate ['X4 number of convenience stores']\n",
    "y = real_estate ['Y house price of unit area']\n",
    "\n",
    "fig = plt.figure()\n",
    "ax = fig.add_axes([0,0,1,1])\n",
    "ax.scatter (x,y,color = 'green')\n",
    "ax.set_xlabel('number of convenience stores')\n",
    "ax.set_ylabel('house price of unit area')\n",
    "ax.set_title('Scatter Plot')\n",
    "\n",
    "plt.show()"
   ]
  },
  {
   "cell_type": "code",
   "execution_count": 59,
   "id": "ea74f5b7",
   "metadata": {},
   "outputs": [
    {
     "data": {
      "image/png": "[encoded data removed]",
      "text/plain": [
       "<Figure size 432x288 with 1 Axes>"
      ]
     },
     "metadata": {
      "needs_background": "light"
     },
     "output_type": "display_data"
    }
   ],
   "source": [
    "plt.hist(y)\n",
    "plt.show()"
   ]
  },
  {
   "cell_type": "code",
   "execution_count": 60,
   "id": "e9c8be0c",
   "metadata": {},
   "outputs": [
    {
     "data": {
      "image/png": "[encoded data removed]",
      "text/plain": [
       "<Figure size 432x288 with 1 Axes>"
      ]
     },
     "metadata": {
      "needs_background": "light"
     },
     "output_type": "display_data"
    }
   ],
   "source": [
    "import statsmodels.api as sm\n",
    "import pylab as py\n",
    "\n",
    "sm.qqplot(y)\n",
    "py.show()"
   ]
  },
  {
   "cell_type": "markdown",
   "id": "8fb20e01",
   "metadata": {},
   "source": [
    "***"
   ]
  },
  {
   "cell_type": "code",
   "execution_count": 61,
   "id": "7df4f630",
   "metadata": {},
   "outputs": [
    {
     "data": {
      "text/plain": [
       "<AxesSubplot:>"
      ]
     },
     "execution_count": 61,
     "metadata": {},
     "output_type": "execute_result"
    },
    {
     "data": {
      "image/png": "[encoded data removed]",
      "text/plain": [
       "<Figure size 720x720 with 1 Axes>"
      ]
     },
     "metadata": {
      "needs_background": "light"
     },
     "output_type": "display_data"
    }
   ],
   "source": [
    "real_estate[['Y house price of unit area']].boxplot(figsize=(10, 10))"
   ]
  },
  {
   "cell_type": "markdown",
   "id": "d211a55f",
   "metadata": {},
   "source": [
    "***\n",
    "Diperoleh dari statistical plot dan perhitungan korelasi bahwa hubungan antara 'house price of unit area' dengan 'nearest to the MRT station' memiliki hubungan sebab-akibat dengan nilai korelasi yang cukup besar yaitu sebesar 0.57 , dengan grafik berbentuk condong ke kanan (right skewed). "
   ]
  },
  {
   "cell_type": "markdown",
   "id": "c34897a1",
   "metadata": {},
   "source": [
    "***"
   ]
  },
  {
   "cell_type": "markdown",
   "id": "93d88437",
   "metadata": {},
   "source": [
    "c. Apakah ada nilai outlier pada variabel harga rumah? Jika ada, nilai berapa\n",
    "saja?\n",
    "***\n",
    "**Jawab:**"
   ]
  },
  {
   "cell_type": "code",
   "execution_count": 62,
   "id": "1bdfa204",
   "metadata": {},
   "outputs": [
    {
     "data": {
      "text/plain": [
       "27.7"
      ]
     },
     "execution_count": 62,
     "metadata": {},
     "output_type": "execute_result"
    }
   ],
   "source": [
    "Q1 = np.percentile(real_estate['Y house price of unit area'],25)\n",
    "Q1"
   ]
  },
  {
   "cell_type": "code",
   "execution_count": 63,
   "id": "6ba31e03",
   "metadata": {},
   "outputs": [
    {
     "data": {
      "text/plain": [
       "46.6"
      ]
     },
     "execution_count": 63,
     "metadata": {},
     "output_type": "execute_result"
    }
   ],
   "source": [
    "Q3 = np.percentile(real_estate['Y house price of unit area'],75)\n",
    "Q3"
   ]
  },
  {
   "cell_type": "code",
   "execution_count": 64,
   "id": "7349259b",
   "metadata": {},
   "outputs": [
    {
     "data": {
      "text/plain": [
       "-0.6500000000000021"
      ]
     },
     "execution_count": 64,
     "metadata": {},
     "output_type": "execute_result"
    }
   ],
   "source": [
    "lower_bound = Q1 - (1.5 * IQR)\n",
    "lower_bound "
   ]
  },
  {
   "cell_type": "code",
   "execution_count": 65,
   "id": "b05f8ec9",
   "metadata": {},
   "outputs": [
    {
     "data": {
      "text/plain": [
       "74.95"
      ]
     },
     "execution_count": 65,
     "metadata": {},
     "output_type": "execute_result"
    }
   ],
   "source": [
    "upper_bound = Q3 + (1.5 * IQR)\n",
    "upper_bound "
   ]
  },
  {
   "cell_type": "code",
   "execution_count": 66,
   "id": "88f562f8",
   "metadata": {},
   "outputs": [
    {
     "data": {
      "text/plain": [
       "18.900000000000002"
      ]
     },
     "execution_count": 66,
     "metadata": {},
     "output_type": "execute_result"
    }
   ],
   "source": [
    "IQR"
   ]
  },
  {
   "cell_type": "markdown",
   "id": "22a4e046",
   "metadata": {},
   "source": [
    "Berdasarkan perhitungan outlier pada garis bawah dan garis atas, diperoleh bahwa: \n",
    "\n",
    "         Outlier garis bawah titik mulai bernilai: -0.65 \n",
    "         dan outlier garis atas titik mulai bernilai: 74.95 \n",
    "****"
   ]
  },
  {
   "cell_type": "markdown",
   "id": "23565f84",
   "metadata": {},
   "source": [
    "d. Variabel apa saja yang berkorelasi dengan harga rumah? Bagaimana arah\n",
    "dan seberapa erat hubungannya?\n",
    "\n",
    "      Note :\n",
    "      Jika koef korelasi >= 0.5, ada hubungan antar variabel\n",
    "      Jika koef korelasi < 0.5, tidak ada hubungan antar variabel\n",
    "****\n",
    "**Jawab:**"
   ]
  },
  {
   "cell_type": "code",
   "execution_count": 67,
   "id": "6a6de18e",
   "metadata": {},
   "outputs": [
    {
     "data": {
      "text/html": [
       "<div>\n",
       "<style scoped>\n",
       "    .dataframe tbody tr th:only-of-type {\n",
       "        vertical-align: middle;\n",
       "    }\n",
       "\n",
       "    .dataframe tbody tr th {\n",
       "        vertical-align: top;\n",
       "    }\n",
       "\n",
       "    .dataframe thead th {\n",
       "        text-align: right;\n",
       "    }\n",
       "</style>\n",
       "<table border=\"1\" class=\"dataframe\">\n",
       "  <thead>\n",
       "    <tr style=\"text-align: right;\">\n",
       "      <th></th>\n",
       "      <th>Y house price of unit area</th>\n",
       "    </tr>\n",
       "  </thead>\n",
       "  <tbody>\n",
       "    <tr>\n",
       "      <th>Y house price of unit area</th>\n",
       "      <td>1.0</td>\n",
       "    </tr>\n",
       "  </tbody>\n",
       "</table>\n",
       "</div>"
      ],
      "text/plain": [
       "                            Y house price of unit area\n",
       "Y house price of unit area                         1.0"
      ]
     },
     "execution_count": 67,
     "metadata": {},
     "output_type": "execute_result"
    }
   ],
   "source": [
    "korelasi1 = real_estate[['X1 transaction date','Y house price of unit area']]\n",
    "korelasi1.corr()"
   ]
  },
  {
   "cell_type": "code",
   "execution_count": 68,
   "id": "8aceb32b",
   "metadata": {},
   "outputs": [
    {
     "data": {
      "text/html": [
       "<div>\n",
       "<style scoped>\n",
       "    .dataframe tbody tr th:only-of-type {\n",
       "        vertical-align: middle;\n",
       "    }\n",
       "\n",
       "    .dataframe tbody tr th {\n",
       "        vertical-align: top;\n",
       "    }\n",
       "\n",
       "    .dataframe thead th {\n",
       "        text-align: right;\n",
       "    }\n",
       "</style>\n",
       "<table border=\"1\" class=\"dataframe\">\n",
       "  <thead>\n",
       "    <tr style=\"text-align: right;\">\n",
       "      <th></th>\n",
       "      <th>X2 house age</th>\n",
       "      <th>Y house price of unit area</th>\n",
       "    </tr>\n",
       "  </thead>\n",
       "  <tbody>\n",
       "    <tr>\n",
       "      <th>X2 house age</th>\n",
       "      <td>1.000000</td>\n",
       "      <td>-0.210567</td>\n",
       "    </tr>\n",
       "    <tr>\n",
       "      <th>Y house price of unit area</th>\n",
       "      <td>-0.210567</td>\n",
       "      <td>1.000000</td>\n",
       "    </tr>\n",
       "  </tbody>\n",
       "</table>\n",
       "</div>"
      ],
      "text/plain": [
       "                            X2 house age  Y house price of unit area\n",
       "X2 house age                    1.000000                   -0.210567\n",
       "Y house price of unit area     -0.210567                    1.000000"
      ]
     },
     "execution_count": 68,
     "metadata": {},
     "output_type": "execute_result"
    }
   ],
   "source": [
    "korelasi2 = real_estate[['X2 house age','Y house price of unit area']]\n",
    "korelasi2.corr()"
   ]
  },
  {
   "cell_type": "code",
   "execution_count": 69,
   "id": "919d4a15",
   "metadata": {},
   "outputs": [
    {
     "data": {
      "text/html": [
       "<div>\n",
       "<style scoped>\n",
       "    .dataframe tbody tr th:only-of-type {\n",
       "        vertical-align: middle;\n",
       "    }\n",
       "\n",
       "    .dataframe tbody tr th {\n",
       "        vertical-align: top;\n",
       "    }\n",
       "\n",
       "    .dataframe thead th {\n",
       "        text-align: right;\n",
       "    }\n",
       "</style>\n",
       "<table border=\"1\" class=\"dataframe\">\n",
       "  <thead>\n",
       "    <tr style=\"text-align: right;\">\n",
       "      <th></th>\n",
       "      <th>Y house price of unit area</th>\n",
       "    </tr>\n",
       "  </thead>\n",
       "  <tbody>\n",
       "    <tr>\n",
       "      <th>Y house price of unit area</th>\n",
       "      <td>1.0</td>\n",
       "    </tr>\n",
       "  </tbody>\n",
       "</table>\n",
       "</div>"
      ],
      "text/plain": [
       "                            Y house price of unit area\n",
       "Y house price of unit area                         1.0"
      ]
     },
     "execution_count": 69,
     "metadata": {},
     "output_type": "execute_result"
    }
   ],
   "source": [
    "korelasi3 = real_estate[['X3 distance to the nearest MRT station','Y house price of unit area']]\n",
    "korelasi3.corr()"
   ]
  },
  {
   "cell_type": "code",
   "execution_count": 71,
   "id": "c907c7e4",
   "metadata": {},
   "outputs": [
    {
     "data": {
      "text/html": [
       "<div>\n",
       "<style scoped>\n",
       "    .dataframe tbody tr th:only-of-type {\n",
       "        vertical-align: middle;\n",
       "    }\n",
       "\n",
       "    .dataframe tbody tr th {\n",
       "        vertical-align: top;\n",
       "    }\n",
       "\n",
       "    .dataframe thead th {\n",
       "        text-align: right;\n",
       "    }\n",
       "</style>\n",
       "<table border=\"1\" class=\"dataframe\">\n",
       "  <thead>\n",
       "    <tr style=\"text-align: right;\">\n",
       "      <th></th>\n",
       "      <th>X4 number of convenience stores</th>\n",
       "      <th>Y house price of unit area</th>\n",
       "    </tr>\n",
       "  </thead>\n",
       "  <tbody>\n",
       "    <tr>\n",
       "      <th>X4 number of convenience stores</th>\n",
       "      <td>1.000000</td>\n",
       "      <td>0.571005</td>\n",
       "    </tr>\n",
       "    <tr>\n",
       "      <th>Y house price of unit area</th>\n",
       "      <td>0.571005</td>\n",
       "      <td>1.000000</td>\n",
       "    </tr>\n",
       "  </tbody>\n",
       "</table>\n",
       "</div>"
      ],
      "text/plain": [
       "                                 X4 number of convenience stores  \\\n",
       "X4 number of convenience stores                         1.000000   \n",
       "Y house price of unit area                              0.571005   \n",
       "\n",
       "                                 Y house price of unit area  \n",
       "X4 number of convenience stores                    0.571005  \n",
       "Y house price of unit area                         1.000000  "
      ]
     },
     "execution_count": 71,
     "metadata": {},
     "output_type": "execute_result"
    }
   ],
   "source": [
    "korelasi4 = real_estate[['X4 number of convenience stores','Y house price of unit area']]\n",
    "korelasi4.corr()"
   ]
  },
  {
   "cell_type": "code",
   "execution_count": 72,
   "id": "a6467fbd",
   "metadata": {},
   "outputs": [
    {
     "data": {
      "text/html": [
       "<div>\n",
       "<style scoped>\n",
       "    .dataframe tbody tr th:only-of-type {\n",
       "        vertical-align: middle;\n",
       "    }\n",
       "\n",
       "    .dataframe tbody tr th {\n",
       "        vertical-align: top;\n",
       "    }\n",
       "\n",
       "    .dataframe thead th {\n",
       "        text-align: right;\n",
       "    }\n",
       "</style>\n",
       "<table border=\"1\" class=\"dataframe\">\n",
       "  <thead>\n",
       "    <tr style=\"text-align: right;\">\n",
       "      <th></th>\n",
       "      <th>Y house price of unit area</th>\n",
       "    </tr>\n",
       "  </thead>\n",
       "  <tbody>\n",
       "    <tr>\n",
       "      <th>Y house price of unit area</th>\n",
       "      <td>1.0</td>\n",
       "    </tr>\n",
       "  </tbody>\n",
       "</table>\n",
       "</div>"
      ],
      "text/plain": [
       "                            Y house price of unit area\n",
       "Y house price of unit area                         1.0"
      ]
     },
     "execution_count": 72,
     "metadata": {},
     "output_type": "execute_result"
    }
   ],
   "source": [
    "korelasi5 = real_estate[['X5 latitude','Y house price of unit area']]\n",
    "korelasi5.corr()"
   ]
  },
  {
   "cell_type": "code",
   "execution_count": 73,
   "id": "16ec7e96",
   "metadata": {},
   "outputs": [
    {
     "data": {
      "text/html": [
       "<div>\n",
       "<style scoped>\n",
       "    .dataframe tbody tr th:only-of-type {\n",
       "        vertical-align: middle;\n",
       "    }\n",
       "\n",
       "    .dataframe tbody tr th {\n",
       "        vertical-align: top;\n",
       "    }\n",
       "\n",
       "    .dataframe thead th {\n",
       "        text-align: right;\n",
       "    }\n",
       "</style>\n",
       "<table border=\"1\" class=\"dataframe\">\n",
       "  <thead>\n",
       "    <tr style=\"text-align: right;\">\n",
       "      <th></th>\n",
       "      <th>Y house price of unit area</th>\n",
       "    </tr>\n",
       "  </thead>\n",
       "  <tbody>\n",
       "    <tr>\n",
       "      <th>Y house price of unit area</th>\n",
       "      <td>1.0</td>\n",
       "    </tr>\n",
       "  </tbody>\n",
       "</table>\n",
       "</div>"
      ],
      "text/plain": [
       "                            Y house price of unit area\n",
       "Y house price of unit area                         1.0"
      ]
     },
     "execution_count": 73,
     "metadata": {},
     "output_type": "execute_result"
    }
   ],
   "source": [
    "korelasi5 = real_estate[['X6 longitude','Y house price of unit area']]\n",
    "korelasi5.corr()"
   ]
  },
  {
   "cell_type": "markdown",
   "id": "af802f39",
   "metadata": {},
   "source": [
    "*****\n",
    "Berdasarkan pencarian r-value (nilai koefisien relasi) terhadap variabel 'Y house price of unit area', diperoleh bahwa yang memiliki koefisien relasi adalah : \n",
    "* variable 'X2 house age' dengan nilai sebesar -0,21 dan memiliki arah yang berlawanan terhadap variabel Y. Hal ini menjelaskan bahwa tidak ada hubungan yang erat antara variabel X terhadap variabel Y. \n",
    "* variabel 'X4 number of convenience stores' dengan nilai sebesar 0.57 dan memiliki arah yang searah terhadap variabel Y. Hal ini menjelaskan bahwa adanya hubungan antara variabel X terhadap Y, namun tidak cukup kuat. "
   ]
  },
  {
   "cell_type": "markdown",
   "id": "92e34636",
   "metadata": {},
   "source": [
    "****\n",
    "**FINISHED**"
   ]
  }
 ],
 "metadata": {
  "kernelspec": {
   "display_name": "Python 3",
   "language": "python",
   "name": "python3"
  },
  "language_info": {
   "codemirror_mode": {
    "name": "ipython",
    "version": 3
   },
   "file_extension": ".py",
   "mimetype": "text/x-python",
   "name": "python",
   "nbconvert_exporter": "python",
   "pygments_lexer": "ipython3",
   "version": "3.8.8"
  }
 },
 "nbformat": 4,
 "nbformat_minor": 5
}
