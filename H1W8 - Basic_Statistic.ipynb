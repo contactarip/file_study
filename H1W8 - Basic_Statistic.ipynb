{
 "cells": [
  {
   "cell_type": "markdown",
   "id": "85d7eae7",
   "metadata": {},
   "source": [
    "**Homework untuk materi : Basic Statistics** \n",
    "\n",
    "Dalam homework ini, anda akan diminta melakukan descriptive statistics terhadap dataset yang diberikan. Dataset :  \n",
    "https://archive.ics.uci.edu/ml/datasets/bank+marketing \n",
    "\n",
    "• Silakan download file di link Data Folder : https://archive.ics.uci.edu/ml/machine-learning databases/00222/ \n",
    "\n",
    "• Download file bank-additional.zip\n",
    "\n",
    "• Dataset yang dianalisis adalah : bank-additional.csv "
   ]
  },
  {
   "cell_type": "markdown",
   "id": "93e79d6f",
   "metadata": {},
   "source": [
    "**Instruksi :**  \n",
    "1. Ambil 3 tipe kolom numeric dan 3 tipe kolom categorical, pilihan terserah Anda. \n",
    "2. Kategorikan pilihan anda ke dalam : Nominal, Ordinal, Interval, atau Ratio \n",
    "3. Terhadap ke-enam kolom tersebut, lakukan descriptive statistics, dan bentuknya tabel sebagai  berikut :  \n"
   ]
  },
  {
   "cell_type": "markdown",
   "id": "25d2dcb7",
   "metadata": {},
   "source": [
    "4. Gunakan Python, Pandas, Numpy, atau library lain untuk membentuk tabel di atas. Plus point  apabila rekan-rekan bisa langsung membentuk tabelnya melalui Python, namun apabila tidak,  teman-teman bisa membentuk tabel itu di Excel (formatnya), tapi value-nya harus dicari dengan  menggunakan Python.\n",
    "\n",
    "     a. Apabila metric Mean/Median/dsb tidak applicable untuk tipe yang anda cari, mohon  dapat dikosongi saja.\n",
    " \n",
    " \n",
    "5. Lampirkan jawaban anda dalam file PDF dan Jupyter Notebook.\n"
   ]
  },
  {
   "cell_type": "markdown",
   "id": "66d673ab",
   "metadata": {},
   "source": [
    "**JAWAB :**"
   ]
  },
  {
   "cell_type": "code",
   "execution_count": 1,
   "id": "2d0a8fe4",
   "metadata": {},
   "outputs": [],
   "source": [
    "import pandas as pd "
   ]
  },
  {
   "cell_type": "code",
   "execution_count": 2,
   "id": "58a50343",
   "metadata": {},
   "outputs": [],
   "source": [
    "import numpy as np"
   ]
  },
  {
   "cell_type": "code",
   "execution_count": 3,
   "id": "31ad23e4",
   "metadata": {},
   "outputs": [],
   "source": [
    "data_bank = pd.read_csv(r\"D:\\M Arif\\Digital School\\WEEK 8\\Session 22\\bank-additional\\bank-additional\\bank-additional.csv\", delimiter = ';')"
   ]
  },
  {
   "cell_type": "code",
   "execution_count": 4,
   "id": "13dfc8c8",
   "metadata": {},
   "outputs": [
    {
     "data": {
      "text/html": [
       "<div>\n",
       "<style scoped>\n",
       "    .dataframe tbody tr th:only-of-type {\n",
       "        vertical-align: middle;\n",
       "    }\n",
       "\n",
       "    .dataframe tbody tr th {\n",
       "        vertical-align: top;\n",
       "    }\n",
       "\n",
       "    .dataframe thead th {\n",
       "        text-align: right;\n",
       "    }\n",
       "</style>\n",
       "<table border=\"1\" class=\"dataframe\">\n",
       "  <thead>\n",
       "    <tr style=\"text-align: right;\">\n",
       "      <th></th>\n",
       "      <th>age</th>\n",
       "      <th>job</th>\n",
       "      <th>marital</th>\n",
       "      <th>education</th>\n",
       "      <th>default</th>\n",
       "      <th>housing</th>\n",
       "      <th>loan</th>\n",
       "      <th>contact</th>\n",
       "      <th>month</th>\n",
       "      <th>day_of_week</th>\n",
       "      <th>...</th>\n",
       "      <th>campaign</th>\n",
       "      <th>pdays</th>\n",
       "      <th>previous</th>\n",
       "      <th>poutcome</th>\n",
       "      <th>emp.var.rate</th>\n",
       "      <th>cons.price.idx</th>\n",
       "      <th>cons.conf.idx</th>\n",
       "      <th>euribor3m</th>\n",
       "      <th>nr.employed</th>\n",
       "      <th>y</th>\n",
       "    </tr>\n",
       "  </thead>\n",
       "  <tbody>\n",
       "    <tr>\n",
       "      <th>0</th>\n",
       "      <td>30</td>\n",
       "      <td>blue-collar</td>\n",
       "      <td>married</td>\n",
       "      <td>basic.9y</td>\n",
       "      <td>no</td>\n",
       "      <td>yes</td>\n",
       "      <td>no</td>\n",
       "      <td>cellular</td>\n",
       "      <td>may</td>\n",
       "      <td>fri</td>\n",
       "      <td>...</td>\n",
       "      <td>2</td>\n",
       "      <td>999</td>\n",
       "      <td>0</td>\n",
       "      <td>nonexistent</td>\n",
       "      <td>-1.8</td>\n",
       "      <td>92.893</td>\n",
       "      <td>-46.2</td>\n",
       "      <td>1.313</td>\n",
       "      <td>5099.1</td>\n",
       "      <td>no</td>\n",
       "    </tr>\n",
       "    <tr>\n",
       "      <th>1</th>\n",
       "      <td>39</td>\n",
       "      <td>services</td>\n",
       "      <td>single</td>\n",
       "      <td>high.school</td>\n",
       "      <td>no</td>\n",
       "      <td>no</td>\n",
       "      <td>no</td>\n",
       "      <td>telephone</td>\n",
       "      <td>may</td>\n",
       "      <td>fri</td>\n",
       "      <td>...</td>\n",
       "      <td>4</td>\n",
       "      <td>999</td>\n",
       "      <td>0</td>\n",
       "      <td>nonexistent</td>\n",
       "      <td>1.1</td>\n",
       "      <td>93.994</td>\n",
       "      <td>-36.4</td>\n",
       "      <td>4.855</td>\n",
       "      <td>5191.0</td>\n",
       "      <td>no</td>\n",
       "    </tr>\n",
       "    <tr>\n",
       "      <th>2</th>\n",
       "      <td>25</td>\n",
       "      <td>services</td>\n",
       "      <td>married</td>\n",
       "      <td>high.school</td>\n",
       "      <td>no</td>\n",
       "      <td>yes</td>\n",
       "      <td>no</td>\n",
       "      <td>telephone</td>\n",
       "      <td>jun</td>\n",
       "      <td>wed</td>\n",
       "      <td>...</td>\n",
       "      <td>1</td>\n",
       "      <td>999</td>\n",
       "      <td>0</td>\n",
       "      <td>nonexistent</td>\n",
       "      <td>1.4</td>\n",
       "      <td>94.465</td>\n",
       "      <td>-41.8</td>\n",
       "      <td>4.962</td>\n",
       "      <td>5228.1</td>\n",
       "      <td>no</td>\n",
       "    </tr>\n",
       "    <tr>\n",
       "      <th>3</th>\n",
       "      <td>38</td>\n",
       "      <td>services</td>\n",
       "      <td>married</td>\n",
       "      <td>basic.9y</td>\n",
       "      <td>no</td>\n",
       "      <td>unknown</td>\n",
       "      <td>unknown</td>\n",
       "      <td>telephone</td>\n",
       "      <td>jun</td>\n",
       "      <td>fri</td>\n",
       "      <td>...</td>\n",
       "      <td>3</td>\n",
       "      <td>999</td>\n",
       "      <td>0</td>\n",
       "      <td>nonexistent</td>\n",
       "      <td>1.4</td>\n",
       "      <td>94.465</td>\n",
       "      <td>-41.8</td>\n",
       "      <td>4.959</td>\n",
       "      <td>5228.1</td>\n",
       "      <td>no</td>\n",
       "    </tr>\n",
       "    <tr>\n",
       "      <th>4</th>\n",
       "      <td>47</td>\n",
       "      <td>admin.</td>\n",
       "      <td>married</td>\n",
       "      <td>university.degree</td>\n",
       "      <td>no</td>\n",
       "      <td>yes</td>\n",
       "      <td>no</td>\n",
       "      <td>cellular</td>\n",
       "      <td>nov</td>\n",
       "      <td>mon</td>\n",
       "      <td>...</td>\n",
       "      <td>1</td>\n",
       "      <td>999</td>\n",
       "      <td>0</td>\n",
       "      <td>nonexistent</td>\n",
       "      <td>-0.1</td>\n",
       "      <td>93.200</td>\n",
       "      <td>-42.0</td>\n",
       "      <td>4.191</td>\n",
       "      <td>5195.8</td>\n",
       "      <td>no</td>\n",
       "    </tr>\n",
       "  </tbody>\n",
       "</table>\n",
       "<p>5 rows × 21 columns</p>\n",
       "</div>"
      ],
      "text/plain": [
       "   age          job  marital          education default  housing     loan  \\\n",
       "0   30  blue-collar  married           basic.9y      no      yes       no   \n",
       "1   39     services   single        high.school      no       no       no   \n",
       "2   25     services  married        high.school      no      yes       no   \n",
       "3   38     services  married           basic.9y      no  unknown  unknown   \n",
       "4   47       admin.  married  university.degree      no      yes       no   \n",
       "\n",
       "     contact month day_of_week  ...  campaign  pdays  previous     poutcome  \\\n",
       "0   cellular   may         fri  ...         2    999         0  nonexistent   \n",
       "1  telephone   may         fri  ...         4    999         0  nonexistent   \n",
       "2  telephone   jun         wed  ...         1    999         0  nonexistent   \n",
       "3  telephone   jun         fri  ...         3    999         0  nonexistent   \n",
       "4   cellular   nov         mon  ...         1    999         0  nonexistent   \n",
       "\n",
       "  emp.var.rate  cons.price.idx  cons.conf.idx  euribor3m  nr.employed   y  \n",
       "0         -1.8          92.893          -46.2      1.313       5099.1  no  \n",
       "1          1.1          93.994          -36.4      4.855       5191.0  no  \n",
       "2          1.4          94.465          -41.8      4.962       5228.1  no  \n",
       "3          1.4          94.465          -41.8      4.959       5228.1  no  \n",
       "4         -0.1          93.200          -42.0      4.191       5195.8  no  \n",
       "\n",
       "[5 rows x 21 columns]"
      ]
     },
     "execution_count": 4,
     "metadata": {},
     "output_type": "execute_result"
    }
   ],
   "source": [
    "data_bank.head()"
   ]
  },
  {
   "cell_type": "code",
   "execution_count": null,
   "id": "e85ae0e5",
   "metadata": {},
   "outputs": [],
   "source": []
  },
  {
   "cell_type": "code",
   "execution_count": 5,
   "id": "a2a339b8",
   "metadata": {},
   "outputs": [
    {
     "name": "stdout",
     "output_type": "stream",
     "text": [
      "<class 'pandas.core.frame.DataFrame'>\n",
      "RangeIndex: 4119 entries, 0 to 4118\n",
      "Data columns (total 21 columns):\n",
      " #   Column          Non-Null Count  Dtype  \n",
      "---  ------          --------------  -----  \n",
      " 0   age             4119 non-null   int64  \n",
      " 1   job             4119 non-null   object \n",
      " 2   marital         4119 non-null   object \n",
      " 3   education       4119 non-null   object \n",
      " 4   default         4119 non-null   object \n",
      " 5   housing         4119 non-null   object \n",
      " 6   loan            4119 non-null   object \n",
      " 7   contact         4119 non-null   object \n",
      " 8   month           4119 non-null   object \n",
      " 9   day_of_week     4119 non-null   object \n",
      " 10  duration        4119 non-null   int64  \n",
      " 11  campaign        4119 non-null   int64  \n",
      " 12  pdays           4119 non-null   int64  \n",
      " 13  previous        4119 non-null   int64  \n",
      " 14  poutcome        4119 non-null   object \n",
      " 15  emp.var.rate    4119 non-null   float64\n",
      " 16  cons.price.idx  4119 non-null   float64\n",
      " 17  cons.conf.idx   4119 non-null   float64\n",
      " 18  euribor3m       4119 non-null   float64\n",
      " 19  nr.employed     4119 non-null   float64\n",
      " 20  y               4119 non-null   object \n",
      "dtypes: float64(5), int64(5), object(11)\n",
      "memory usage: 675.9+ KB\n"
     ]
    }
   ],
   "source": [
    "data_bank.info()"
   ]
  },
  {
   "cell_type": "code",
   "execution_count": null,
   "id": "27c9441c",
   "metadata": {},
   "outputs": [],
   "source": []
  },
  {
   "cell_type": "markdown",
   "id": "6b28e860",
   "metadata": {},
   "source": [
    "**1. Memilih Kolom**"
   ]
  },
  {
   "cell_type": "markdown",
   "id": "732f816b",
   "metadata": {},
   "source": [
    "pilihan kolom yang akan dicari value: \n",
    "1. age : numerical (ratio)\n",
    "2. job : kategorical (nominal)\n",
    "3. education: kategori (ordinal)\n",
    "4. contact : kategorikal (nominal)\n",
    "5. cons.price.idx : numerical (ratio)\n",
    "6. cons.conf.idx : numerical (interval)"
   ]
  },
  {
   "cell_type": "markdown",
   "id": "a3cb5b8c",
   "metadata": {},
   "source": [
    "* Membuat variable baru pada pilihan kolom untuk mempermudah dalam mencari value yang diinginkan"
   ]
  },
  {
   "cell_type": "code",
   "execution_count": 6,
   "id": "1aa710de",
   "metadata": {},
   "outputs": [],
   "source": [
    "d1 = data_bank [['age']]"
   ]
  },
  {
   "cell_type": "code",
   "execution_count": 7,
   "id": "05ddea12",
   "metadata": {},
   "outputs": [],
   "source": [
    "d2 = data_bank [['job']]"
   ]
  },
  {
   "cell_type": "code",
   "execution_count": 8,
   "id": "fa0c3bb8",
   "metadata": {},
   "outputs": [],
   "source": [
    "d3 = data_bank [['education']]"
   ]
  },
  {
   "cell_type": "code",
   "execution_count": 9,
   "id": "0f58ef71",
   "metadata": {},
   "outputs": [],
   "source": [
    "d4 = data_bank [['contact']]"
   ]
  },
  {
   "cell_type": "code",
   "execution_count": 10,
   "id": "2a2ece93",
   "metadata": {},
   "outputs": [],
   "source": [
    "d5 = data_bank [['cons.price.idx']]"
   ]
  },
  {
   "cell_type": "code",
   "execution_count": 11,
   "id": "ed0516ab",
   "metadata": {},
   "outputs": [],
   "source": [
    "d6 = data_bank [['cons.conf.idx']]"
   ]
  },
  {
   "cell_type": "code",
   "execution_count": 12,
   "id": "e400fc0d",
   "metadata": {},
   "outputs": [],
   "source": [
    "data_opsi = pd.concat([d1,d2,d3,d4,d5,d6], axis=1)"
   ]
  },
  {
   "cell_type": "code",
   "execution_count": 13,
   "id": "c4eb8373",
   "metadata": {},
   "outputs": [
    {
     "data": {
      "text/html": [
       "<div>\n",
       "<style scoped>\n",
       "    .dataframe tbody tr th:only-of-type {\n",
       "        vertical-align: middle;\n",
       "    }\n",
       "\n",
       "    .dataframe tbody tr th {\n",
       "        vertical-align: top;\n",
       "    }\n",
       "\n",
       "    .dataframe thead th {\n",
       "        text-align: right;\n",
       "    }\n",
       "</style>\n",
       "<table border=\"1\" class=\"dataframe\">\n",
       "  <thead>\n",
       "    <tr style=\"text-align: right;\">\n",
       "      <th></th>\n",
       "      <th>age</th>\n",
       "      <th>job</th>\n",
       "      <th>education</th>\n",
       "      <th>contact</th>\n",
       "      <th>cons.price.idx</th>\n",
       "      <th>cons.conf.idx</th>\n",
       "    </tr>\n",
       "  </thead>\n",
       "  <tbody>\n",
       "    <tr>\n",
       "      <th>0</th>\n",
       "      <td>30</td>\n",
       "      <td>blue-collar</td>\n",
       "      <td>basic.9y</td>\n",
       "      <td>cellular</td>\n",
       "      <td>92.893</td>\n",
       "      <td>-46.2</td>\n",
       "    </tr>\n",
       "    <tr>\n",
       "      <th>1</th>\n",
       "      <td>39</td>\n",
       "      <td>services</td>\n",
       "      <td>high.school</td>\n",
       "      <td>telephone</td>\n",
       "      <td>93.994</td>\n",
       "      <td>-36.4</td>\n",
       "    </tr>\n",
       "    <tr>\n",
       "      <th>2</th>\n",
       "      <td>25</td>\n",
       "      <td>services</td>\n",
       "      <td>high.school</td>\n",
       "      <td>telephone</td>\n",
       "      <td>94.465</td>\n",
       "      <td>-41.8</td>\n",
       "    </tr>\n",
       "    <tr>\n",
       "      <th>3</th>\n",
       "      <td>38</td>\n",
       "      <td>services</td>\n",
       "      <td>basic.9y</td>\n",
       "      <td>telephone</td>\n",
       "      <td>94.465</td>\n",
       "      <td>-41.8</td>\n",
       "    </tr>\n",
       "    <tr>\n",
       "      <th>4</th>\n",
       "      <td>47</td>\n",
       "      <td>admin.</td>\n",
       "      <td>university.degree</td>\n",
       "      <td>cellular</td>\n",
       "      <td>93.200</td>\n",
       "      <td>-42.0</td>\n",
       "    </tr>\n",
       "    <tr>\n",
       "      <th>...</th>\n",
       "      <td>...</td>\n",
       "      <td>...</td>\n",
       "      <td>...</td>\n",
       "      <td>...</td>\n",
       "      <td>...</td>\n",
       "      <td>...</td>\n",
       "    </tr>\n",
       "    <tr>\n",
       "      <th>4114</th>\n",
       "      <td>30</td>\n",
       "      <td>admin.</td>\n",
       "      <td>basic.6y</td>\n",
       "      <td>cellular</td>\n",
       "      <td>93.918</td>\n",
       "      <td>-42.7</td>\n",
       "    </tr>\n",
       "    <tr>\n",
       "      <th>4115</th>\n",
       "      <td>39</td>\n",
       "      <td>admin.</td>\n",
       "      <td>high.school</td>\n",
       "      <td>telephone</td>\n",
       "      <td>93.918</td>\n",
       "      <td>-42.7</td>\n",
       "    </tr>\n",
       "    <tr>\n",
       "      <th>4116</th>\n",
       "      <td>27</td>\n",
       "      <td>student</td>\n",
       "      <td>high.school</td>\n",
       "      <td>cellular</td>\n",
       "      <td>92.893</td>\n",
       "      <td>-46.2</td>\n",
       "    </tr>\n",
       "    <tr>\n",
       "      <th>4117</th>\n",
       "      <td>58</td>\n",
       "      <td>admin.</td>\n",
       "      <td>high.school</td>\n",
       "      <td>cellular</td>\n",
       "      <td>93.444</td>\n",
       "      <td>-36.1</td>\n",
       "    </tr>\n",
       "    <tr>\n",
       "      <th>4118</th>\n",
       "      <td>34</td>\n",
       "      <td>management</td>\n",
       "      <td>high.school</td>\n",
       "      <td>cellular</td>\n",
       "      <td>93.200</td>\n",
       "      <td>-42.0</td>\n",
       "    </tr>\n",
       "  </tbody>\n",
       "</table>\n",
       "<p>4119 rows × 6 columns</p>\n",
       "</div>"
      ],
      "text/plain": [
       "      age          job          education    contact  cons.price.idx  \\\n",
       "0      30  blue-collar           basic.9y   cellular          92.893   \n",
       "1      39     services        high.school  telephone          93.994   \n",
       "2      25     services        high.school  telephone          94.465   \n",
       "3      38     services           basic.9y  telephone          94.465   \n",
       "4      47       admin.  university.degree   cellular          93.200   \n",
       "...   ...          ...                ...        ...             ...   \n",
       "4114   30       admin.           basic.6y   cellular          93.918   \n",
       "4115   39       admin.        high.school  telephone          93.918   \n",
       "4116   27      student        high.school   cellular          92.893   \n",
       "4117   58       admin.        high.school   cellular          93.444   \n",
       "4118   34   management        high.school   cellular          93.200   \n",
       "\n",
       "      cons.conf.idx  \n",
       "0             -46.2  \n",
       "1             -36.4  \n",
       "2             -41.8  \n",
       "3             -41.8  \n",
       "4             -42.0  \n",
       "...             ...  \n",
       "4114          -42.7  \n",
       "4115          -42.7  \n",
       "4116          -46.2  \n",
       "4117          -36.1  \n",
       "4118          -42.0  \n",
       "\n",
       "[4119 rows x 6 columns]"
      ]
     },
     "execution_count": 13,
     "metadata": {},
     "output_type": "execute_result"
    }
   ],
   "source": [
    "data_opsi"
   ]
  },
  {
   "cell_type": "code",
   "execution_count": null,
   "id": "3e892d53",
   "metadata": {},
   "outputs": [],
   "source": []
  },
  {
   "cell_type": "code",
   "execution_count": 85,
   "id": "f1fc7b11",
   "metadata": {},
   "outputs": [],
   "source": [
    "bank1 = pd.DataFrame({\n",
    "                     'nama_kolom': [], \n",
    "                     'Mean' : [], \n",
    "                     'Median' : [], \n",
    "                     'Mode' : [], \n",
    "                     '75%_Percentile' : [],\n",
    "                     '90%_Percentile' : [], \n",
    "                     'Standar_Deviation' : [],\n",
    "                     'Inter_quartile_range' : []\n",
    "                     })"
   ]
  },
  {
   "cell_type": "code",
   "execution_count": 86,
   "id": "b55a492c",
   "metadata": {},
   "outputs": [
    {
     "data": {
      "text/html": [
       "<div>\n",
       "<style scoped>\n",
       "    .dataframe tbody tr th:only-of-type {\n",
       "        vertical-align: middle;\n",
       "    }\n",
       "\n",
       "    .dataframe tbody tr th {\n",
       "        vertical-align: top;\n",
       "    }\n",
       "\n",
       "    .dataframe thead th {\n",
       "        text-align: right;\n",
       "    }\n",
       "</style>\n",
       "<table border=\"1\" class=\"dataframe\">\n",
       "  <thead>\n",
       "    <tr style=\"text-align: right;\">\n",
       "      <th></th>\n",
       "      <th>nama_kolom</th>\n",
       "      <th>Mean</th>\n",
       "      <th>Median</th>\n",
       "      <th>Mode</th>\n",
       "      <th>75%_Percentile</th>\n",
       "      <th>90%_Percentile</th>\n",
       "      <th>Standar_Deviation</th>\n",
       "      <th>Inter_quartile_range</th>\n",
       "    </tr>\n",
       "  </thead>\n",
       "  <tbody>\n",
       "  </tbody>\n",
       "</table>\n",
       "</div>"
      ],
      "text/plain": [
       "Empty DataFrame\n",
       "Columns: [nama_kolom, Mean, Median, Mode, 75%_Percentile, 90%_Percentile, Standar_Deviation, Inter_quartile_range]\n",
       "Index: []"
      ]
     },
     "execution_count": 86,
     "metadata": {},
     "output_type": "execute_result"
    }
   ],
   "source": [
    "bank"
   ]
  },
  {
   "cell_type": "code",
   "execution_count": null,
   "id": "4f412060",
   "metadata": {},
   "outputs": [],
   "source": []
  },
  {
   "cell_type": "markdown",
   "id": "badd2213",
   "metadata": {},
   "source": [
    "**Mencari Value yang diinginkan sesuai feature yang telah dipilih**"
   ]
  },
  {
   "cell_type": "markdown",
   "id": "fc6b8824",
   "metadata": {},
   "source": [
    "* Kolom Mean"
   ]
  },
  {
   "cell_type": "code",
   "execution_count": 14,
   "id": "8ead504e",
   "metadata": {},
   "outputs": [],
   "source": [
    "Mean = data_opsi.mean()"
   ]
  },
  {
   "cell_type": "code",
   "execution_count": 15,
   "id": "cc360b35",
   "metadata": {},
   "outputs": [
    {
     "data": {
      "text/plain": [
       "age               40.113620\n",
       "cons.price.idx    93.579704\n",
       "cons.conf.idx    -40.499102\n",
       "dtype: float64"
      ]
     },
     "execution_count": 15,
     "metadata": {},
     "output_type": "execute_result"
    }
   ],
   "source": [
    "Mean"
   ]
  },
  {
   "cell_type": "markdown",
   "id": "88062726",
   "metadata": {},
   "source": [
    "* Kolom Median"
   ]
  },
  {
   "cell_type": "code",
   "execution_count": 16,
   "id": "f22e68f6",
   "metadata": {},
   "outputs": [],
   "source": [
    "Median = data_opsi.median()"
   ]
  },
  {
   "cell_type": "code",
   "execution_count": 17,
   "id": "96742742",
   "metadata": {},
   "outputs": [
    {
     "data": {
      "text/plain": [
       "age               38.000\n",
       "cons.price.idx    93.749\n",
       "cons.conf.idx    -41.800\n",
       "dtype: float64"
      ]
     },
     "execution_count": 17,
     "metadata": {},
     "output_type": "execute_result"
    }
   ],
   "source": [
    "Median "
   ]
  },
  {
   "cell_type": "markdown",
   "id": "913ffc37",
   "metadata": {},
   "source": [
    "* Kolom Mode"
   ]
  },
  {
   "cell_type": "code",
   "execution_count": 18,
   "id": "c2170cc0",
   "metadata": {},
   "outputs": [],
   "source": [
    "Mode = data_opsi.mode()"
   ]
  },
  {
   "cell_type": "code",
   "execution_count": 19,
   "id": "18f75b09",
   "metadata": {},
   "outputs": [
    {
     "data": {
      "text/html": [
       "<div>\n",
       "<style scoped>\n",
       "    .dataframe tbody tr th:only-of-type {\n",
       "        vertical-align: middle;\n",
       "    }\n",
       "\n",
       "    .dataframe tbody tr th {\n",
       "        vertical-align: top;\n",
       "    }\n",
       "\n",
       "    .dataframe thead th {\n",
       "        text-align: right;\n",
       "    }\n",
       "</style>\n",
       "<table border=\"1\" class=\"dataframe\">\n",
       "  <thead>\n",
       "    <tr style=\"text-align: right;\">\n",
       "      <th></th>\n",
       "      <th>age</th>\n",
       "      <th>job</th>\n",
       "      <th>education</th>\n",
       "      <th>contact</th>\n",
       "      <th>cons.price.idx</th>\n",
       "      <th>cons.conf.idx</th>\n",
       "    </tr>\n",
       "  </thead>\n",
       "  <tbody>\n",
       "    <tr>\n",
       "      <th>0</th>\n",
       "      <td>32</td>\n",
       "      <td>admin.</td>\n",
       "      <td>university.degree</td>\n",
       "      <td>cellular</td>\n",
       "      <td>93.994</td>\n",
       "      <td>-36.4</td>\n",
       "    </tr>\n",
       "  </tbody>\n",
       "</table>\n",
       "</div>"
      ],
      "text/plain": [
       "   age     job          education   contact  cons.price.idx  cons.conf.idx\n",
       "0   32  admin.  university.degree  cellular          93.994          -36.4"
      ]
     },
     "execution_count": 19,
     "metadata": {},
     "output_type": "execute_result"
    }
   ],
   "source": [
    "Mode"
   ]
  },
  {
   "cell_type": "code",
   "execution_count": 20,
   "id": "216e5a82",
   "metadata": {},
   "outputs": [
    {
     "data": {
      "text/html": [
       "<div>\n",
       "<style scoped>\n",
       "    .dataframe tbody tr th:only-of-type {\n",
       "        vertical-align: middle;\n",
       "    }\n",
       "\n",
       "    .dataframe tbody tr th {\n",
       "        vertical-align: top;\n",
       "    }\n",
       "\n",
       "    .dataframe thead th {\n",
       "        text-align: right;\n",
       "    }\n",
       "</style>\n",
       "<table border=\"1\" class=\"dataframe\">\n",
       "  <thead>\n",
       "    <tr style=\"text-align: right;\">\n",
       "      <th></th>\n",
       "      <th>age</th>\n",
       "      <th>cons.price.idx</th>\n",
       "      <th>cons.conf.idx</th>\n",
       "    </tr>\n",
       "  </thead>\n",
       "  <tbody>\n",
       "    <tr>\n",
       "      <th>count</th>\n",
       "      <td>4119.000000</td>\n",
       "      <td>4119.000000</td>\n",
       "      <td>4119.000000</td>\n",
       "    </tr>\n",
       "    <tr>\n",
       "      <th>mean</th>\n",
       "      <td>40.113620</td>\n",
       "      <td>93.579704</td>\n",
       "      <td>-40.499102</td>\n",
       "    </tr>\n",
       "    <tr>\n",
       "      <th>std</th>\n",
       "      <td>10.313362</td>\n",
       "      <td>0.579349</td>\n",
       "      <td>4.594578</td>\n",
       "    </tr>\n",
       "    <tr>\n",
       "      <th>min</th>\n",
       "      <td>18.000000</td>\n",
       "      <td>92.201000</td>\n",
       "      <td>-50.800000</td>\n",
       "    </tr>\n",
       "    <tr>\n",
       "      <th>25%</th>\n",
       "      <td>32.000000</td>\n",
       "      <td>93.075000</td>\n",
       "      <td>-42.700000</td>\n",
       "    </tr>\n",
       "    <tr>\n",
       "      <th>50%</th>\n",
       "      <td>38.000000</td>\n",
       "      <td>93.749000</td>\n",
       "      <td>-41.800000</td>\n",
       "    </tr>\n",
       "    <tr>\n",
       "      <th>75%</th>\n",
       "      <td>47.000000</td>\n",
       "      <td>93.994000</td>\n",
       "      <td>-36.400000</td>\n",
       "    </tr>\n",
       "    <tr>\n",
       "      <th>max</th>\n",
       "      <td>88.000000</td>\n",
       "      <td>94.767000</td>\n",
       "      <td>-26.900000</td>\n",
       "    </tr>\n",
       "  </tbody>\n",
       "</table>\n",
       "</div>"
      ],
      "text/plain": [
       "               age  cons.price.idx  cons.conf.idx\n",
       "count  4119.000000     4119.000000    4119.000000\n",
       "mean     40.113620       93.579704     -40.499102\n",
       "std      10.313362        0.579349       4.594578\n",
       "min      18.000000       92.201000     -50.800000\n",
       "25%      32.000000       93.075000     -42.700000\n",
       "50%      38.000000       93.749000     -41.800000\n",
       "75%      47.000000       93.994000     -36.400000\n",
       "max      88.000000       94.767000     -26.900000"
      ]
     },
     "execution_count": 20,
     "metadata": {},
     "output_type": "execute_result"
    }
   ],
   "source": [
    "data_opsi.describe()"
   ]
  },
  {
   "cell_type": "code",
   "execution_count": null,
   "id": "43453dd6",
   "metadata": {},
   "outputs": [],
   "source": []
  },
  {
   "cell_type": "markdown",
   "id": "e9428856",
   "metadata": {},
   "source": [
    "* Kolom 75% Percentile dan 90% Percentile"
   ]
  },
  {
   "cell_type": "code",
   "execution_count": 22,
   "id": "7826be47",
   "metadata": {},
   "outputs": [
    {
     "data": {
      "text/plain": [
       "47.0"
      ]
     },
     "execution_count": 22,
     "metadata": {},
     "output_type": "execute_result"
    }
   ],
   "source": [
    "np.percentile (data_opsi['age'], 75)"
   ]
  },
  {
   "cell_type": "code",
   "execution_count": 23,
   "id": "f6d27c6e",
   "metadata": {},
   "outputs": [
    {
     "data": {
      "text/plain": [
       "55.0"
      ]
     },
     "execution_count": 23,
     "metadata": {},
     "output_type": "execute_result"
    }
   ],
   "source": [
    "np.percentile (data_opsi['age'], 90)"
   ]
  },
  {
   "cell_type": "code",
   "execution_count": 25,
   "id": "bf6e9895",
   "metadata": {},
   "outputs": [
    {
     "data": {
      "text/plain": [
       "93.994"
      ]
     },
     "execution_count": 25,
     "metadata": {},
     "output_type": "execute_result"
    }
   ],
   "source": [
    "np.percentile (data_opsi['cons.price.idx'], 75)"
   ]
  },
  {
   "cell_type": "code",
   "execution_count": 27,
   "id": "c672a80f",
   "metadata": {},
   "outputs": [
    {
     "data": {
      "text/plain": [
       "94.465"
      ]
     },
     "execution_count": 27,
     "metadata": {},
     "output_type": "execute_result"
    }
   ],
   "source": [
    "np.percentile (data_opsi['cons.price.idx'], 90)"
   ]
  },
  {
   "cell_type": "code",
   "execution_count": 28,
   "id": "8fad3cb5",
   "metadata": {},
   "outputs": [
    {
     "data": {
      "text/plain": [
       "-36.4"
      ]
     },
     "execution_count": 28,
     "metadata": {},
     "output_type": "execute_result"
    }
   ],
   "source": [
    "np.percentile (data_opsi['cons.conf.idx'], 75)"
   ]
  },
  {
   "cell_type": "code",
   "execution_count": 29,
   "id": "845b1f75",
   "metadata": {},
   "outputs": [
    {
     "data": {
      "text/plain": [
       "-36.1"
      ]
     },
     "execution_count": 29,
     "metadata": {},
     "output_type": "execute_result"
    }
   ],
   "source": [
    "np.percentile (data_opsi['cons.conf.idx'], 90)"
   ]
  },
  {
   "cell_type": "code",
   "execution_count": null,
   "id": "916d3188",
   "metadata": {},
   "outputs": [],
   "source": []
  },
  {
   "cell_type": "markdown",
   "id": "b37bbd70",
   "metadata": {},
   "source": [
    "* Kolom Inter_quartile_range"
   ]
  },
  {
   "cell_type": "code",
   "execution_count": 40,
   "id": "67678f16",
   "metadata": {},
   "outputs": [],
   "source": [
    "q25, q75 = np.nanpercentile(data_opsi['age'], [25,75])"
   ]
  },
  {
   "cell_type": "code",
   "execution_count": 42,
   "id": "59be84d4",
   "metadata": {},
   "outputs": [
    {
     "data": {
      "text/plain": [
       "(32.0, 47.0)"
      ]
     },
     "execution_count": 42,
     "metadata": {},
     "output_type": "execute_result"
    }
   ],
   "source": [
    "q25, q75"
   ]
  },
  {
   "cell_type": "code",
   "execution_count": 41,
   "id": "81319c26",
   "metadata": {},
   "outputs": [
    {
     "data": {
      "text/plain": [
       "15.0"
      ]
     },
     "execution_count": 41,
     "metadata": {},
     "output_type": "execute_result"
    }
   ],
   "source": [
    "(q75-q25)"
   ]
  },
  {
   "cell_type": "code",
   "execution_count": 43,
   "id": "a87866c3",
   "metadata": {},
   "outputs": [],
   "source": [
    "q25, q75 = np.nanpercentile (data_opsi['cons.price.idx'], [25, 75])"
   ]
  },
  {
   "cell_type": "code",
   "execution_count": 45,
   "id": "9f331e90",
   "metadata": {},
   "outputs": [
    {
     "data": {
      "text/plain": [
       "(93.075, 93.994)"
      ]
     },
     "execution_count": 45,
     "metadata": {},
     "output_type": "execute_result"
    }
   ],
   "source": [
    "q25, q75"
   ]
  },
  {
   "cell_type": "code",
   "execution_count": 44,
   "id": "d92d9125",
   "metadata": {},
   "outputs": [
    {
     "data": {
      "text/plain": [
       "0.9189999999999969"
      ]
     },
     "execution_count": 44,
     "metadata": {},
     "output_type": "execute_result"
    }
   ],
   "source": [
    "(q75-q25)"
   ]
  },
  {
   "cell_type": "code",
   "execution_count": 46,
   "id": "6df1593f",
   "metadata": {},
   "outputs": [],
   "source": [
    "q25, q75 = np.nanpercentile(data_opsi['cons.conf.idx'], [25, 75])"
   ]
  },
  {
   "cell_type": "code",
   "execution_count": 47,
   "id": "651e313a",
   "metadata": {},
   "outputs": [
    {
     "data": {
      "text/plain": [
       "(-42.7, -36.4)"
      ]
     },
     "execution_count": 47,
     "metadata": {},
     "output_type": "execute_result"
    }
   ],
   "source": [
    "q25, q75"
   ]
  },
  {
   "cell_type": "code",
   "execution_count": 49,
   "id": "12783475",
   "metadata": {},
   "outputs": [
    {
     "data": {
      "text/plain": [
       "6.300000000000004"
      ]
     },
     "execution_count": 49,
     "metadata": {},
     "output_type": "execute_result"
    }
   ],
   "source": [
    "(q75-q25)"
   ]
  },
  {
   "cell_type": "code",
   "execution_count": null,
   "id": "b8fe9260",
   "metadata": {},
   "outputs": [],
   "source": []
  },
  {
   "cell_type": "markdown",
   "id": "2b4a6269",
   "metadata": {},
   "source": [
    "* Kolom Standar Deviation"
   ]
  },
  {
   "cell_type": "code",
   "execution_count": 36,
   "id": "e9aa816e",
   "metadata": {},
   "outputs": [
    {
     "data": {
      "text/plain": [
       "age               10.313362\n",
       "cons.price.idx     0.579349\n",
       "cons.conf.idx      4.594578\n",
       "dtype: float64"
      ]
     },
     "execution_count": 36,
     "metadata": {},
     "output_type": "execute_result"
    }
   ],
   "source": [
    "data_opsi.std()"
   ]
  },
  {
   "cell_type": "code",
   "execution_count": 37,
   "id": "eeebe4d2",
   "metadata": {},
   "outputs": [
    {
     "data": {
      "text/plain": [
       "10.313361547199822"
      ]
     },
     "execution_count": 37,
     "metadata": {},
     "output_type": "execute_result"
    }
   ],
   "source": [
    "data_opsi['age'].std()"
   ]
  },
  {
   "cell_type": "code",
   "execution_count": 38,
   "id": "e6a3a798",
   "metadata": {},
   "outputs": [
    {
     "data": {
      "text/plain": [
       "0.5793488049889657"
      ]
     },
     "execution_count": 38,
     "metadata": {},
     "output_type": "execute_result"
    }
   ],
   "source": [
    "data_opsi['cons.price.idx'].std()"
   ]
  },
  {
   "cell_type": "code",
   "execution_count": 39,
   "id": "956c0926",
   "metadata": {},
   "outputs": [
    {
     "data": {
      "text/plain": [
       "4.594577506837506"
      ]
     },
     "execution_count": 39,
     "metadata": {},
     "output_type": "execute_result"
    }
   ],
   "source": [
    "data_opsi['cons.conf.idx'].std()"
   ]
  },
  {
   "cell_type": "code",
   "execution_count": null,
   "id": "80cc881f",
   "metadata": {},
   "outputs": [],
   "source": []
  },
  {
   "cell_type": "markdown",
   "id": "0e9deeb5",
   "metadata": {},
   "source": [
    "**Input seluruh value terhadap feature yang dipilih berdasarkan hasil yang telah diperoleh**\n",
    "* Membuat Dataframe terhadap hasil yang diperoleh. \n",
    "* Diasumsikan bahwa nilai 'NaN' merupakan nilai yang tidak dapat dihitung menggunakan metode pencarian value yang diinginkan. "
   ]
  },
  {
   "cell_type": "code",
   "execution_count": 93,
   "id": "21a0f817",
   "metadata": {},
   "outputs": [],
   "source": [
    "bank = pd.DataFrame({\n",
    "                     'nama_kolom': ['age', 'job', 'education',\n",
    "                                    'contact', 'cons.price.idx', 'cons.conf.idx'], \n",
    "                     'Mean' : [40.11,'NaN','NaN', 'NaN', 93.57, -40.49], \n",
    "                     'Median' : [38.00, 'NaN', 'NaN', 'NaN', 93.74, -41.80], \n",
    "                     'Mode' : [32,'admin.', 'university.degree', 'cellular', 93.99, -36.40], \n",
    "                     '75%_Percentile' : [47.0, 'NaN', 'NaN', 'NaN', 93.99, -36.40],\n",
    "                     '90%_Percentile' : [55.0, 'NaN', 'NaN', 'NaN', 94.4, -36.1], \n",
    "                     'Standar_Deviation' : [10.31, 'NaN', 'NaN', 'NaN', 0.57, 4.59],\n",
    "                     'Inter_quartile_range' : [15.00, 'NaN', 'NaN', 'NaN', 0.91, 6.30]\n",
    "                     })"
   ]
  },
  {
   "cell_type": "code",
   "execution_count": 94,
   "id": "c311f9cd",
   "metadata": {},
   "outputs": [
    {
     "data": {
      "text/html": [
       "<div>\n",
       "<style scoped>\n",
       "    .dataframe tbody tr th:only-of-type {\n",
       "        vertical-align: middle;\n",
       "    }\n",
       "\n",
       "    .dataframe tbody tr th {\n",
       "        vertical-align: top;\n",
       "    }\n",
       "\n",
       "    .dataframe thead th {\n",
       "        text-align: right;\n",
       "    }\n",
       "</style>\n",
       "<table border=\"1\" class=\"dataframe\">\n",
       "  <thead>\n",
       "    <tr style=\"text-align: right;\">\n",
       "      <th></th>\n",
       "      <th>nama_kolom</th>\n",
       "      <th>Mean</th>\n",
       "      <th>Median</th>\n",
       "      <th>Mode</th>\n",
       "      <th>75%_Percentile</th>\n",
       "      <th>90%_Percentile</th>\n",
       "      <th>Standar_Deviation</th>\n",
       "      <th>Inter_quartile_range</th>\n",
       "    </tr>\n",
       "  </thead>\n",
       "  <tbody>\n",
       "    <tr>\n",
       "      <th>0</th>\n",
       "      <td>age</td>\n",
       "      <td>40.11</td>\n",
       "      <td>38.0</td>\n",
       "      <td>32</td>\n",
       "      <td>47.0</td>\n",
       "      <td>55.0</td>\n",
       "      <td>10.31</td>\n",
       "      <td>15.0</td>\n",
       "    </tr>\n",
       "    <tr>\n",
       "      <th>1</th>\n",
       "      <td>job</td>\n",
       "      <td>NaN</td>\n",
       "      <td>NaN</td>\n",
       "      <td>admin.</td>\n",
       "      <td>NaN</td>\n",
       "      <td>NaN</td>\n",
       "      <td>NaN</td>\n",
       "      <td>NaN</td>\n",
       "    </tr>\n",
       "    <tr>\n",
       "      <th>2</th>\n",
       "      <td>education</td>\n",
       "      <td>NaN</td>\n",
       "      <td>NaN</td>\n",
       "      <td>university.degree</td>\n",
       "      <td>NaN</td>\n",
       "      <td>NaN</td>\n",
       "      <td>NaN</td>\n",
       "      <td>NaN</td>\n",
       "    </tr>\n",
       "    <tr>\n",
       "      <th>3</th>\n",
       "      <td>contact</td>\n",
       "      <td>NaN</td>\n",
       "      <td>NaN</td>\n",
       "      <td>cellular</td>\n",
       "      <td>NaN</td>\n",
       "      <td>NaN</td>\n",
       "      <td>NaN</td>\n",
       "      <td>NaN</td>\n",
       "    </tr>\n",
       "    <tr>\n",
       "      <th>4</th>\n",
       "      <td>cons.price.idx</td>\n",
       "      <td>93.57</td>\n",
       "      <td>93.74</td>\n",
       "      <td>93.99</td>\n",
       "      <td>93.99</td>\n",
       "      <td>94.4</td>\n",
       "      <td>0.57</td>\n",
       "      <td>0.91</td>\n",
       "    </tr>\n",
       "    <tr>\n",
       "      <th>5</th>\n",
       "      <td>cons.conf.idx</td>\n",
       "      <td>-40.49</td>\n",
       "      <td>-41.8</td>\n",
       "      <td>-36.4</td>\n",
       "      <td>-36.4</td>\n",
       "      <td>-36.1</td>\n",
       "      <td>4.59</td>\n",
       "      <td>6.3</td>\n",
       "    </tr>\n",
       "  </tbody>\n",
       "</table>\n",
       "</div>"
      ],
      "text/plain": [
       "       nama_kolom   Mean Median               Mode 75%_Percentile  \\\n",
       "0             age  40.11   38.0                 32           47.0   \n",
       "1             job    NaN    NaN             admin.            NaN   \n",
       "2       education    NaN    NaN  university.degree            NaN   \n",
       "3         contact    NaN    NaN           cellular            NaN   \n",
       "4  cons.price.idx  93.57  93.74              93.99          93.99   \n",
       "5   cons.conf.idx -40.49  -41.8              -36.4          -36.4   \n",
       "\n",
       "  90%_Percentile Standar_Deviation Inter_quartile_range  \n",
       "0           55.0             10.31                 15.0  \n",
       "1            NaN               NaN                  NaN  \n",
       "2            NaN               NaN                  NaN  \n",
       "3            NaN               NaN                  NaN  \n",
       "4           94.4              0.57                 0.91  \n",
       "5          -36.1              4.59                  6.3  "
      ]
     },
     "execution_count": 94,
     "metadata": {},
     "output_type": "execute_result"
    }
   ],
   "source": [
    "bank"
   ]
  },
  {
   "cell_type": "code",
   "execution_count": null,
   "id": "243ddba2",
   "metadata": {},
   "outputs": [],
   "source": []
  },
  {
   "cell_type": "markdown",
   "id": "399c59a2",
   "metadata": {},
   "source": [
    "**FINISHED**"
   ]
  }
 ],
 "metadata": {
  "kernelspec": {
   "display_name": "Python 3",
   "language": "python",
   "name": "python3"
  },
  "language_info": {
   "codemirror_mode": {
    "name": "ipython",
    "version": 3
   },
   "file_extension": ".py",
   "mimetype": "text/x-python",
   "name": "python",
   "nbconvert_exporter": "python",
   "pygments_lexer": "ipython3",
   "version": "3.8.8"
  }
 },
 "nbformat": 4,
 "nbformat_minor": 5
}
