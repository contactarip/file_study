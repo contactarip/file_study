{
 "cells": [
  {
   "cell_type": "markdown",
   "id": "979f8884",
   "metadata": {},
   "source": [
    "**Jawablah pertanyaan di bawah ini:**\n",
    "\n",
    "**1. Buatlah SQLlite DB dan tabel dengan use case / objective yang kalian inginkan dan juga dijelaskan (misal,       ingin store student information untuk dianalisa student performance).**"
   ]
  },
  {
   "cell_type": "markdown",
   "id": "d871f3b0",
   "metadata": {},
   "source": [
    "* mengimport sqlalchemy untuk memanggil toolkit python sql"
   ]
  },
  {
   "cell_type": "code",
   "execution_count": 13,
   "id": "2a1ed24f",
   "metadata": {},
   "outputs": [],
   "source": [
    "import sqlalchemy"
   ]
  },
  {
   "cell_type": "code",
   "execution_count": 14,
   "id": "54d5af9d",
   "metadata": {},
   "outputs": [
    {
     "data": {
      "text/plain": [
       "'1.4.7'"
      ]
     },
     "execution_count": 14,
     "metadata": {},
     "output_type": "execute_result"
    }
   ],
   "source": [
    "sqlalchemy.__version__ "
   ]
  },
  {
   "cell_type": "code",
   "execution_count": 15,
   "id": "c85c3fff",
   "metadata": {},
   "outputs": [],
   "source": [
    "from sqlalchemy import create_engine, MetaData, Table, Column, Integer, String, inspect\n"
   ]
  },
  {
   "cell_type": "markdown",
   "id": "a43f6333",
   "metadata": {},
   "source": [
    "* Mempersiapkan sistem dengan menginstall sql adapter dari PostgreeSQL dalam Python"
   ]
  },
  {
   "cell_type": "code",
   "execution_count": 1,
   "id": "d3537616",
   "metadata": {},
   "outputs": [
    {
     "name": "stdout",
     "output_type": "stream",
     "text": [
      "Requirement already satisfied: psycopg2-binary in c:\\users\\acer\\anaconda3\\lib\\site-packages (2.9.2)\n"
     ]
    }
   ],
   "source": [
    "!pip install psycopg2-binary"
   ]
  },
  {
   "cell_type": "code",
   "execution_count": 16,
   "id": "c0a956ad",
   "metadata": {},
   "outputs": [],
   "source": [
    "import psycopg2"
   ]
  },
  {
   "cell_type": "code",
   "execution_count": 17,
   "id": "43f7b26a",
   "metadata": {},
   "outputs": [],
   "source": [
    "from sqlalchemy.sql import select, text"
   ]
  },
  {
   "cell_type": "markdown",
   "id": "2d738559",
   "metadata": {},
   "source": [
    "**MEMBUAT TABLE CASE DATABASE DI DALAM LOCAL SYSTEM**\n",
    "\n",
    "* Case ini adalah tabel berisi tentang program diet, yang berisi id, nama, berat dan tinggi dari tiap-tiap personil."
   ]
  },
  {
   "cell_type": "code",
   "execution_count": 18,
   "id": "45b7bd3b",
   "metadata": {},
   "outputs": [
    {
     "name": "stdout",
     "output_type": "stream",
     "text": [
      "2021-12-19 16:02:07,798 INFO sqlalchemy.engine.Engine BEGIN (implicit)\n",
      "2021-12-19 16:02:07,798 INFO sqlalchemy.engine.Engine PRAGMA main.table_info(\"bmi\")\n",
      "2021-12-19 16:02:07,798 INFO sqlalchemy.engine.Engine [raw sql] ()\n",
      "2021-12-19 16:02:07,798 INFO sqlalchemy.engine.Engine PRAGMA temp.table_info(\"bmi\")\n",
      "2021-12-19 16:02:07,798 INFO sqlalchemy.engine.Engine [raw sql] ()\n",
      "2021-12-19 16:02:07,814 INFO sqlalchemy.engine.Engine \n",
      "CREATE TABLE bmi (\n",
      "\t\"Id\" VARCHAR NOT NULL, \n",
      "\t\"Name\" VARCHAR, \n",
      "\t\"Weight_kg\" INTEGER, \n",
      "\t\"Height_cm\" INTEGER, \n",
      "\tPRIMARY KEY (\"Id\")\n",
      ")\n",
      "\n",
      "\n",
      "2021-12-19 16:02:07,814 INFO sqlalchemy.engine.Engine [no key 0.00172s] ()\n",
      "2021-12-19 16:02:07,830 INFO sqlalchemy.engine.Engine COMMIT\n"
     ]
    }
   ],
   "source": [
    "engine = create_engine('sqlite:///bmi.db', echo = True)\n",
    "meta = MetaData()\n",
    "\n",
    "bmi = Table(\n",
    "   'bmi', meta, \n",
    "   Column ('Id', String, primary_key = True), \n",
    "   Column ('Name',String ), \n",
    "   Column ('Weight_kg', Integer ),\n",
    "   Column ('Height_cm',Integer),\n",
    ")\n",
    "meta.create_all(engine)"
   ]
  },
  {
   "cell_type": "code",
   "execution_count": null,
   "id": "b474012e",
   "metadata": {},
   "outputs": [],
   "source": []
  },
  {
   "cell_type": "markdown",
   "id": "9619ba80",
   "metadata": {},
   "source": [
    "**2. Lakukan beberapa langkah di bawah ini:**\n",
    "\n",
    "   **a. Insert value ke table tersebut (min 5).**\n",
    "     \n",
    "   **b. Update value dari table tersebut.**\n",
    "     \n",
    "   **c. Delete value dari table tersebut.**"
   ]
  },
  {
   "cell_type": "markdown",
   "id": "2fcca053",
   "metadata": {},
   "source": [
    "**JAWAB:**"
   ]
  },
  {
   "cell_type": "markdown",
   "id": "d4b0df0f",
   "metadata": {},
   "source": [
    " **a. Insert value ke table tersebut (min 5).**"
   ]
  },
  {
   "cell_type": "markdown",
   "id": "412dfd9e",
   "metadata": {},
   "source": [
    "* Insert value tiap-tiap personil yang mengikuti program diet selama 1 bulan. "
   ]
  },
  {
   "cell_type": "code",
   "execution_count": 19,
   "id": "ab4dad31",
   "metadata": {},
   "outputs": [
    {
     "name": "stdout",
     "output_type": "stream",
     "text": [
      "2021-12-19 16:02:15,589 INFO sqlalchemy.engine.Engine INSERT INTO bmi (\"Id\", \"Name\", \"Weight_kg\", \"Height_cm\") VALUES (?, ?, ?, ?)\n",
      "2021-12-19 16:02:15,589 INFO sqlalchemy.engine.Engine [generated in 0.00247s] (('id_1', 'Abdul', 68, 168), ('id_2', 'Aminah', 65, 158), ('id_3', 'Angga', 59, 179), ('id_4', 'Ben', 78, 177), ('id_5', 'Cacha', 50, 160), ('id_6', 'Dea', 45, 155), ('id_7', 'Farhan', 55, 165), ('id_8', 'Gea', 50, 172), ('id_9', 'Hamid', 72, 167), ('id_10', 'Ikhwan', 66, 169))\n",
      "2021-12-19 16:02:15,604 INFO sqlalchemy.engine.Engine COMMIT\n"
     ]
    },
    {
     "data": {
      "text/plain": [
       "<sqlalchemy.engine.cursor.LegacyCursorResult at 0x25df5620070>"
      ]
     },
     "execution_count": 19,
     "metadata": {},
     "output_type": "execute_result"
    }
   ],
   "source": [
    "engine.execute(bmi.insert(), [\n",
    "    {'Id': 'id_1', 'Name' : 'Abdul', 'Weight_kg' : 68, 'Height_cm' : 168 },\n",
    "    {'Id': 'id_2', 'Name' : 'Aminah', 'Weight_kg' : 65, 'Height_cm' : 158},\n",
    "    {'Id': 'id_3', 'Name' : 'Angga', 'Weight_kg' : 59, 'Height_cm' : 179},\n",
    "    {'Id': 'id_4', 'Name' : 'Ben', 'Weight_kg' : 78, 'Height_cm' : 177},\n",
    "    {'Id': 'id_5', 'Name' : 'Cacha', 'Weight_kg' : 50, 'Height_cm' : 160},\n",
    "    {'Id': 'id_6', 'Name' : 'Dea', 'Weight_kg' : 45, 'Height_cm' : 155},\n",
    "    {'Id': 'id_7', 'Name' : 'Farhan', 'Weight_kg' : 55, 'Height_cm' : 165},\n",
    "    {'Id': 'id_8', 'Name' : 'Gea', 'Weight_kg' : 50, 'Height_cm' : 172},\n",
    "    {'Id': 'id_9', 'Name' : 'Hamid', 'Weight_kg' : 72, 'Height_cm' : 167},\n",
    "    {'Id': 'id_10','Name' : 'Ikhwan', 'Weight_kg' : 66, 'Height_cm' : 169}, \n",
    "       \n",
    "                ])"
   ]
  },
  {
   "cell_type": "code",
   "execution_count": null,
   "id": "3cfdf8df",
   "metadata": {},
   "outputs": [],
   "source": []
  },
  {
   "cell_type": "markdown",
   "id": "e76f3946",
   "metadata": {},
   "source": [
    "* Mengecek Database, apakah nilai yang di innsert sudah masuk kedalam table yang dibuat atau tidak. "
   ]
  },
  {
   "cell_type": "code",
   "execution_count": 20,
   "id": "c921657f",
   "metadata": {},
   "outputs": [],
   "source": [
    "query = \"\"\"SELECT * FROM bmi \"\"\""
   ]
  },
  {
   "cell_type": "code",
   "execution_count": 21,
   "id": "d8bd53a7",
   "metadata": {},
   "outputs": [
    {
     "name": "stdout",
     "output_type": "stream",
     "text": [
      "2021-12-19 16:02:18,710 INFO sqlalchemy.engine.Engine SELECT * FROM bmi \n",
      "2021-12-19 16:02:18,710 INFO sqlalchemy.engine.Engine [raw sql] ()\n"
     ]
    },
    {
     "data": {
      "text/plain": [
       "[('id_1', 'Abdul', 68, 168),\n",
       " ('id_2', 'Aminah', 65, 158),\n",
       " ('id_3', 'Angga', 59, 179),\n",
       " ('id_4', 'Ben', 78, 177),\n",
       " ('id_5', 'Cacha', 50, 160),\n",
       " ('id_6', 'Dea', 45, 155),\n",
       " ('id_7', 'Farhan', 55, 165),\n",
       " ('id_8', 'Gea', 50, 172),\n",
       " ('id_9', 'Hamid', 72, 167),\n",
       " ('id_10', 'Ikhwan', 66, 169)]"
      ]
     },
     "execution_count": 21,
     "metadata": {},
     "output_type": "execute_result"
    }
   ],
   "source": [
    "rest = engine.execute(query).fetchall()\n",
    "rest"
   ]
  },
  {
   "cell_type": "code",
   "execution_count": null,
   "id": "0f242e6a",
   "metadata": {},
   "outputs": [],
   "source": []
  },
  {
   "cell_type": "markdown",
   "id": "38ddd38c",
   "metadata": {},
   "source": [
    "**b. Update value dari table tersebut.**"
   ]
  },
  {
   "cell_type": "markdown",
   "id": "4bdba819",
   "metadata": {},
   "source": [
    "* Ternyata belum sampai 1 bulan, terdapat beberapa personil yang memiliki perubahan berat badan."
   ]
  },
  {
   "cell_type": "code",
   "execution_count": 22,
   "id": "02e44a1d",
   "metadata": {},
   "outputs": [
    {
     "name": "stdout",
     "output_type": "stream",
     "text": [
      "2021-12-19 16:02:22,934 INFO sqlalchemy.engine.Engine UPDATE bmi SET \"Weight_kg\"=? WHERE bmi.\"Name\" = ?\n",
      "2021-12-19 16:02:22,934 INFO sqlalchemy.engine.Engine [generated in 0.00277s] (60, 'Abdul')\n",
      "2021-12-19 16:02:22,950 INFO sqlalchemy.engine.Engine COMMIT\n"
     ]
    },
    {
     "data": {
      "text/plain": [
       "<sqlalchemy.engine.cursor.LegacyCursorResult at 0x25df56205b0>"
      ]
     },
     "execution_count": 22,
     "metadata": {},
     "output_type": "execute_result"
    }
   ],
   "source": [
    "stmt1 = bmi.update().where(bmi.c.Name=='Abdul').values(Weight_kg=60)\n",
    "engine.execute(stmt1)"
   ]
  },
  {
   "cell_type": "code",
   "execution_count": 23,
   "id": "9525db27",
   "metadata": {},
   "outputs": [
    {
     "name": "stdout",
     "output_type": "stream",
     "text": [
      "2021-12-19 16:02:23,666 INFO sqlalchemy.engine.Engine UPDATE bmi SET \"Weight_kg\"=? WHERE bmi.\"Name\" = ?\n",
      "2021-12-19 16:02:23,682 INFO sqlalchemy.engine.Engine [cached since 0.742s ago] (59, 'Aminah')\n",
      "2021-12-19 16:02:23,688 INFO sqlalchemy.engine.Engine COMMIT\n"
     ]
    },
    {
     "data": {
      "text/plain": [
       "<sqlalchemy.engine.cursor.LegacyCursorResult at 0x25df55f9be0>"
      ]
     },
     "execution_count": 23,
     "metadata": {},
     "output_type": "execute_result"
    }
   ],
   "source": [
    "stmt2 = bmi.update().where(bmi.c.Name=='Aminah').values(Weight_kg=59)\n",
    "engine.execute(stmt2)"
   ]
  },
  {
   "cell_type": "code",
   "execution_count": 24,
   "id": "e1fe2890",
   "metadata": {},
   "outputs": [
    {
     "name": "stdout",
     "output_type": "stream",
     "text": [
      "2021-12-19 16:02:26,792 INFO sqlalchemy.engine.Engine UPDATE bmi SET \"Weight_kg\"=? WHERE bmi.\"Name\" = ?\n",
      "2021-12-19 16:02:26,807 INFO sqlalchemy.engine.Engine [cached since 3.867s ago] (70, 'Hamid')\n",
      "2021-12-19 16:02:26,807 INFO sqlalchemy.engine.Engine COMMIT\n"
     ]
    },
    {
     "data": {
      "text/plain": [
       "<sqlalchemy.engine.cursor.LegacyCursorResult at 0x25df5620f10>"
      ]
     },
     "execution_count": 24,
     "metadata": {},
     "output_type": "execute_result"
    }
   ],
   "source": [
    "stmt3 = bmi.update().where(bmi.c.Name=='Hamid').values(Weight_kg=70)\n",
    "engine.execute(stmt3)"
   ]
  },
  {
   "cell_type": "code",
   "execution_count": 25,
   "id": "16d42ca3",
   "metadata": {},
   "outputs": [
    {
     "name": "stdout",
     "output_type": "stream",
     "text": [
      "2021-12-19 16:02:27,186 INFO sqlalchemy.engine.Engine UPDATE bmi SET \"Weight_kg\"=? WHERE bmi.\"Name\" = ?\n",
      "2021-12-19 16:02:27,193 INFO sqlalchemy.engine.Engine [cached since 4.253s ago] (65, 'Ikhwan')\n",
      "2021-12-19 16:02:27,193 INFO sqlalchemy.engine.Engine COMMIT\n"
     ]
    },
    {
     "data": {
      "text/plain": [
       "<sqlalchemy.engine.cursor.LegacyCursorResult at 0x25df5620880>"
      ]
     },
     "execution_count": 25,
     "metadata": {},
     "output_type": "execute_result"
    }
   ],
   "source": [
    "stmt4 = bmi.update().where(bmi.c.Name=='Ikhwan').values(Weight_kg=65)\n",
    "engine.execute(stmt4)"
   ]
  },
  {
   "cell_type": "code",
   "execution_count": 26,
   "id": "78a7557a",
   "metadata": {},
   "outputs": [
    {
     "name": "stdout",
     "output_type": "stream",
     "text": [
      "2021-12-19 16:02:27,709 INFO sqlalchemy.engine.Engine UPDATE bmi SET \"Weight_kg\"=? WHERE bmi.\"Name\" = ?\n",
      "2021-12-19 16:02:27,709 INFO sqlalchemy.engine.Engine [cached since 4.78s ago] (70, 'Hamid')\n",
      "2021-12-19 16:02:27,724 INFO sqlalchemy.engine.Engine COMMIT\n"
     ]
    },
    {
     "data": {
      "text/plain": [
       "<sqlalchemy.engine.cursor.LegacyCursorResult at 0x25df565b1f0>"
      ]
     },
     "execution_count": 26,
     "metadata": {},
     "output_type": "execute_result"
    }
   ],
   "source": [
    "stmt5 = bmi.update().where(bmi.c.Name=='Hamid').values(Weight_kg=70)\n",
    "engine.execute(stmt5)"
   ]
  },
  {
   "cell_type": "markdown",
   "id": "151cc7bf",
   "metadata": {},
   "source": [
    "* Mengecek database personil terhadap nilai update."
   ]
  },
  {
   "cell_type": "code",
   "execution_count": 27,
   "id": "766ea72c",
   "metadata": {},
   "outputs": [],
   "source": [
    "query = \"\"\"SELECT * FROM bmi \"\"\""
   ]
  },
  {
   "cell_type": "code",
   "execution_count": 28,
   "id": "96677714",
   "metadata": {},
   "outputs": [
    {
     "name": "stdout",
     "output_type": "stream",
     "text": [
      "2021-12-19 16:02:30,836 INFO sqlalchemy.engine.Engine SELECT * FROM bmi \n",
      "2021-12-19 16:02:30,836 INFO sqlalchemy.engine.Engine [raw sql] ()\n"
     ]
    },
    {
     "data": {
      "text/plain": [
       "[('id_1', 'Abdul', 60, 168),\n",
       " ('id_2', 'Aminah', 59, 158),\n",
       " ('id_3', 'Angga', 59, 179),\n",
       " ('id_4', 'Ben', 78, 177),\n",
       " ('id_5', 'Cacha', 50, 160),\n",
       " ('id_6', 'Dea', 45, 155),\n",
       " ('id_7', 'Farhan', 55, 165),\n",
       " ('id_8', 'Gea', 50, 172),\n",
       " ('id_9', 'Hamid', 70, 167),\n",
       " ('id_10', 'Ikhwan', 65, 169)]"
      ]
     },
     "execution_count": 28,
     "metadata": {},
     "output_type": "execute_result"
    }
   ],
   "source": [
    "rest = engine.execute(query).fetchall()\n",
    "rest"
   ]
  },
  {
   "cell_type": "code",
   "execution_count": null,
   "id": "c986853f",
   "metadata": {},
   "outputs": [],
   "source": []
  },
  {
   "cell_type": "markdown",
   "id": "74c939c7",
   "metadata": {},
   "source": [
    " **c. Delete value dari table tersebut.**"
   ]
  },
  {
   "cell_type": "markdown",
   "id": "2cfe54c6",
   "metadata": {},
   "source": [
    "* Delete sebagian personil dalam data dikarenakan mereka tidak melanjutkan program diet untuk dibulan berikutnya.  \n",
    "* Diasusmsikan bahwa mereka satu-persatu keluar dari program diet di bulan berikutnya."
   ]
  },
  {
   "cell_type": "code",
   "execution_count": 29,
   "id": "685836ef",
   "metadata": {},
   "outputs": [
    {
     "name": "stdout",
     "output_type": "stream",
     "text": [
      "2021-12-19 16:02:34,130 INFO sqlalchemy.engine.Engine DELETE FROM bmi WHERE bmi.\"Name\" = ?\n",
      "2021-12-19 16:02:34,146 INFO sqlalchemy.engine.Engine [generated in 0.00217s] ('Ikhwan',)\n",
      "2021-12-19 16:02:34,161 INFO sqlalchemy.engine.Engine COMMIT\n"
     ]
    },
    {
     "data": {
      "text/plain": [
       "<sqlalchemy.engine.cursor.LegacyCursorResult at 0x25df57558e0>"
      ]
     },
     "execution_count": 29,
     "metadata": {},
     "output_type": "execute_result"
    }
   ],
   "source": [
    "stmt = bmi.delete().where(bmi.c.Name == 'Ikhwan')\n",
    "engine.execute(stmt)"
   ]
  },
  {
   "cell_type": "code",
   "execution_count": 30,
   "id": "80c7ecf8",
   "metadata": {},
   "outputs": [
    {
     "name": "stdout",
     "output_type": "stream",
     "text": [
      "2021-12-19 16:02:34,446 INFO sqlalchemy.engine.Engine DELETE FROM bmi WHERE bmi.\"Name\" = ?\n",
      "2021-12-19 16:02:34,461 INFO sqlalchemy.engine.Engine [cached since 0.3173s ago] ('Hamid',)\n",
      "2021-12-19 16:02:34,461 INFO sqlalchemy.engine.Engine COMMIT\n"
     ]
    },
    {
     "data": {
      "text/plain": [
       "<sqlalchemy.engine.cursor.LegacyCursorResult at 0x25df4ef0190>"
      ]
     },
     "execution_count": 30,
     "metadata": {},
     "output_type": "execute_result"
    }
   ],
   "source": [
    "stmt = bmi.delete().where(bmi.c.Name == 'Hamid')\n",
    "engine.execute(stmt)"
   ]
  },
  {
   "cell_type": "code",
   "execution_count": null,
   "id": "4784b37e",
   "metadata": {},
   "outputs": [],
   "source": []
  },
  {
   "cell_type": "markdown",
   "id": "b239cd1f",
   "metadata": {},
   "source": [
    "* Mengecek kembali database apakah personil yang keluar sudah tidak berada didalam database. "
   ]
  },
  {
   "cell_type": "code",
   "execution_count": 31,
   "id": "d94f415c",
   "metadata": {},
   "outputs": [],
   "source": [
    "query = \"\"\"SELECT * FROM bmi \"\"\""
   ]
  },
  {
   "cell_type": "code",
   "execution_count": 32,
   "id": "a972283a",
   "metadata": {},
   "outputs": [
    {
     "name": "stdout",
     "output_type": "stream",
     "text": [
      "2021-12-19 16:02:38,236 INFO sqlalchemy.engine.Engine SELECT * FROM bmi \n",
      "2021-12-19 16:02:38,236 INFO sqlalchemy.engine.Engine [raw sql] ()\n"
     ]
    },
    {
     "data": {
      "text/plain": [
       "[('id_1', 'Abdul', 60, 168),\n",
       " ('id_2', 'Aminah', 59, 158),\n",
       " ('id_3', 'Angga', 59, 179),\n",
       " ('id_4', 'Ben', 78, 177),\n",
       " ('id_5', 'Cacha', 50, 160),\n",
       " ('id_6', 'Dea', 45, 155),\n",
       " ('id_7', 'Farhan', 55, 165),\n",
       " ('id_8', 'Gea', 50, 172)]"
      ]
     },
     "execution_count": 32,
     "metadata": {},
     "output_type": "execute_result"
    }
   ],
   "source": [
    "rest = engine.execute(query).fetchall()\n",
    "rest"
   ]
  },
  {
   "cell_type": "code",
   "execution_count": null,
   "id": "a7ef4774",
   "metadata": {},
   "outputs": [],
   "source": []
  },
  {
   "cell_type": "markdown",
   "id": "1eabf94a",
   "metadata": {},
   "source": [
    "**FINISEHD**"
   ]
  }
 ],
 "metadata": {
  "kernelspec": {
   "display_name": "Python 3",
   "language": "python",
   "name": "python3"
  },
  "language_info": {
   "codemirror_mode": {
    "name": "ipython",
    "version": 3
   },
   "file_extension": ".py",
   "mimetype": "text/x-python",
   "name": "python",
   "nbconvert_exporter": "python",
   "pygments_lexer": "ipython3",
   "version": "3.8.8"
  }
 },
 "nbformat": 4,
 "nbformat_minor": 5
}
