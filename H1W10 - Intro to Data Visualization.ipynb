{
 "cells": [
  {
   "cell_type": "markdown",
   "id": "3f2b68ca",
   "metadata": {},
   "source": [
    "**No. 3) Dari dataset Real_estate.csv pada assignment Intermediate Statistics, buatlah  sebuah visualisasi data yang menggambarkan seberapa banyak (count) dari harga  unit rumah yang termasuk kategori MURAH, SEDANG, dan MAHAL.** \n",
    "\n",
    "* MURAH : house price of unit area ≤ 30 \n",
    "* SEDANG : house price of unit area > 30 - ≤ 60 \n",
    "* MAHAL : house price of unit area > 60 \n",
    "\n",
    "Apa key take away dari chart tersebut? Berilah interpretasi penjelasan! \n"
   ]
  },
  {
   "cell_type": "markdown",
   "id": "85bf6e2d",
   "metadata": {},
   "source": [
    "**Jawab:**\n",
    "******"
   ]
  },
  {
   "cell_type": "markdown",
   "id": "b0bbd3ee",
   "metadata": {},
   "source": [
    "* Sebelum data di visualisasikan, diperlukan penyusunan algoritma agar data yang ditampilkan sesuai dengan yang diinginkan.\n",
    "* Data dibentuk yang divisualisasikan adalah perbandingan kategorikal dari sebuah harga rumah yang ada (variabel kategorikal). \n",
    "* Maka dari hal tersebut, data di visualisasikan ke dalam Bar chart. "
   ]
  },
  {
   "cell_type": "code",
   "execution_count": 3,
   "id": "f55cd8e8",
   "metadata": {},
   "outputs": [],
   "source": [
    "import matplotlib.pyplot as plt\n",
    "%matplotlib inline"
   ]
  },
  {
   "cell_type": "code",
   "execution_count": 4,
   "id": "97cad41a",
   "metadata": {},
   "outputs": [],
   "source": [
    "import pandas as pd "
   ]
  },
  {
   "cell_type": "code",
   "execution_count": 5,
   "id": "21f72190",
   "metadata": {},
   "outputs": [],
   "source": [
    "import numpy as np"
   ]
  },
  {
   "cell_type": "code",
   "execution_count": 6,
   "id": "f586a8b8",
   "metadata": {},
   "outputs": [],
   "source": [
    "real_estate = pd.read_csv(r\"D:\\M Arif\\Digital School\\WEEK 10\\Session 25\\Real_estate - Hsesi25.csv\")"
   ]
  },
  {
   "cell_type": "code",
   "execution_count": 7,
   "id": "fe56cba2",
   "metadata": {},
   "outputs": [
    {
     "data": {
      "text/html": [
       "<div>\n",
       "<style scoped>\n",
       "    .dataframe tbody tr th:only-of-type {\n",
       "        vertical-align: middle;\n",
       "    }\n",
       "\n",
       "    .dataframe tbody tr th {\n",
       "        vertical-align: top;\n",
       "    }\n",
       "\n",
       "    .dataframe thead th {\n",
       "        text-align: right;\n",
       "    }\n",
       "</style>\n",
       "<table border=\"1\" class=\"dataframe\">\n",
       "  <thead>\n",
       "    <tr style=\"text-align: right;\">\n",
       "      <th></th>\n",
       "      <th>No</th>\n",
       "      <th>X1 transaction date</th>\n",
       "      <th>X2 house age</th>\n",
       "      <th>X3 distance to the nearest MRT station</th>\n",
       "      <th>X4 number of convenience stores</th>\n",
       "      <th>X5 latitude</th>\n",
       "      <th>X6 longitude</th>\n",
       "      <th>Y house price of unit area</th>\n",
       "    </tr>\n",
       "  </thead>\n",
       "  <tbody>\n",
       "    <tr>\n",
       "      <th>0</th>\n",
       "      <td>1</td>\n",
       "      <td>2.012.917</td>\n",
       "      <td>32.0</td>\n",
       "      <td>8.487.882</td>\n",
       "      <td>10</td>\n",
       "      <td>2.498.298</td>\n",
       "      <td>12.154.024</td>\n",
       "      <td>37.9</td>\n",
       "    </tr>\n",
       "    <tr>\n",
       "      <th>1</th>\n",
       "      <td>2</td>\n",
       "      <td>2.012.917</td>\n",
       "      <td>19.5</td>\n",
       "      <td>3.065.947</td>\n",
       "      <td>9</td>\n",
       "      <td>2.498.034</td>\n",
       "      <td>12.153.951</td>\n",
       "      <td>42.2</td>\n",
       "    </tr>\n",
       "    <tr>\n",
       "      <th>2</th>\n",
       "      <td>3</td>\n",
       "      <td>2.013.583</td>\n",
       "      <td>13.3</td>\n",
       "      <td>5.619.845</td>\n",
       "      <td>5</td>\n",
       "      <td>2.498.746</td>\n",
       "      <td>12.154.391</td>\n",
       "      <td>47.3</td>\n",
       "    </tr>\n",
       "    <tr>\n",
       "      <th>3</th>\n",
       "      <td>4</td>\n",
       "      <td>2.013.500</td>\n",
       "      <td>13.3</td>\n",
       "      <td>5.619.845</td>\n",
       "      <td>5</td>\n",
       "      <td>2.498.746</td>\n",
       "      <td>12.154.391</td>\n",
       "      <td>54.8</td>\n",
       "    </tr>\n",
       "    <tr>\n",
       "      <th>4</th>\n",
       "      <td>5</td>\n",
       "      <td>2.012.833</td>\n",
       "      <td>5.0</td>\n",
       "      <td>3.905.684</td>\n",
       "      <td>5</td>\n",
       "      <td>2.497.937</td>\n",
       "      <td>12.154.245</td>\n",
       "      <td>43.1</td>\n",
       "    </tr>\n",
       "    <tr>\n",
       "      <th>...</th>\n",
       "      <td>...</td>\n",
       "      <td>...</td>\n",
       "      <td>...</td>\n",
       "      <td>...</td>\n",
       "      <td>...</td>\n",
       "      <td>...</td>\n",
       "      <td>...</td>\n",
       "      <td>...</td>\n",
       "    </tr>\n",
       "    <tr>\n",
       "      <th>409</th>\n",
       "      <td>410</td>\n",
       "      <td>2.013.000</td>\n",
       "      <td>13.7</td>\n",
       "      <td>4.082.015</td>\n",
       "      <td>0</td>\n",
       "      <td>2.494.155</td>\n",
       "      <td>12.150.381</td>\n",
       "      <td>15.4</td>\n",
       "    </tr>\n",
       "    <tr>\n",
       "      <th>410</th>\n",
       "      <td>411</td>\n",
       "      <td>2.012.667</td>\n",
       "      <td>5.6</td>\n",
       "      <td>9.045.606</td>\n",
       "      <td>9</td>\n",
       "      <td>2.497.433</td>\n",
       "      <td>1.215.431</td>\n",
       "      <td>50.0</td>\n",
       "    </tr>\n",
       "    <tr>\n",
       "      <th>411</th>\n",
       "      <td>412</td>\n",
       "      <td>2.013.250</td>\n",
       "      <td>18.8</td>\n",
       "      <td>3.909.696</td>\n",
       "      <td>7</td>\n",
       "      <td>2.497.923</td>\n",
       "      <td>12.153.986</td>\n",
       "      <td>40.6</td>\n",
       "    </tr>\n",
       "    <tr>\n",
       "      <th>412</th>\n",
       "      <td>413</td>\n",
       "      <td>2.013.000</td>\n",
       "      <td>8.1</td>\n",
       "      <td>1.048.101</td>\n",
       "      <td>5</td>\n",
       "      <td>2.496.674</td>\n",
       "      <td>12.154.067</td>\n",
       "      <td>52.5</td>\n",
       "    </tr>\n",
       "    <tr>\n",
       "      <th>413</th>\n",
       "      <td>414</td>\n",
       "      <td>2.013.500</td>\n",
       "      <td>6.5</td>\n",
       "      <td>9.045.606</td>\n",
       "      <td>9</td>\n",
       "      <td>2.497.433</td>\n",
       "      <td>1.215.431</td>\n",
       "      <td>63.9</td>\n",
       "    </tr>\n",
       "  </tbody>\n",
       "</table>\n",
       "<p>414 rows × 8 columns</p>\n",
       "</div>"
      ],
      "text/plain": [
       "      No X1 transaction date  X2 house age  \\\n",
       "0      1           2.012.917          32.0   \n",
       "1      2           2.012.917          19.5   \n",
       "2      3           2.013.583          13.3   \n",
       "3      4           2.013.500          13.3   \n",
       "4      5           2.012.833           5.0   \n",
       "..   ...                 ...           ...   \n",
       "409  410           2.013.000          13.7   \n",
       "410  411           2.012.667           5.6   \n",
       "411  412           2.013.250          18.8   \n",
       "412  413           2.013.000           8.1   \n",
       "413  414           2.013.500           6.5   \n",
       "\n",
       "    X3 distance to the nearest MRT station  X4 number of convenience stores  \\\n",
       "0                                8.487.882                               10   \n",
       "1                                3.065.947                                9   \n",
       "2                                5.619.845                                5   \n",
       "3                                5.619.845                                5   \n",
       "4                                3.905.684                                5   \n",
       "..                                     ...                              ...   \n",
       "409                              4.082.015                                0   \n",
       "410                              9.045.606                                9   \n",
       "411                              3.909.696                                7   \n",
       "412                              1.048.101                                5   \n",
       "413                              9.045.606                                9   \n",
       "\n",
       "    X5 latitude X6 longitude  Y house price of unit area  \n",
       "0     2.498.298   12.154.024                        37.9  \n",
       "1     2.498.034   12.153.951                        42.2  \n",
       "2     2.498.746   12.154.391                        47.3  \n",
       "3     2.498.746   12.154.391                        54.8  \n",
       "4     2.497.937   12.154.245                        43.1  \n",
       "..          ...          ...                         ...  \n",
       "409   2.494.155   12.150.381                        15.4  \n",
       "410   2.497.433    1.215.431                        50.0  \n",
       "411   2.497.923   12.153.986                        40.6  \n",
       "412   2.496.674   12.154.067                        52.5  \n",
       "413   2.497.433    1.215.431                        63.9  \n",
       "\n",
       "[414 rows x 8 columns]"
      ]
     },
     "execution_count": 7,
     "metadata": {},
     "output_type": "execute_result"
    }
   ],
   "source": [
    "real_estate"
   ]
  },
  {
   "cell_type": "code",
   "execution_count": 8,
   "id": "de340a80",
   "metadata": {},
   "outputs": [],
   "source": [
    "house_category =[]\n",
    "for i in real_estate['Y house price of unit area']:\n",
    "    if i <= 30:\n",
    "        house_category.append(\"Murah\")\n",
    "    if i > 30 and i <= 60:\n",
    "        house_category.append(\"Sedang\")\n",
    "    if i >60:\n",
    "        house_category.append(\"Mahal\")\n",
    "    else: \n",
    "        False"
   ]
  },
  {
   "cell_type": "code",
   "execution_count": 9,
   "id": "295b269b",
   "metadata": {},
   "outputs": [],
   "source": [
    "real_estate['price_category']= house_category"
   ]
  },
  {
   "cell_type": "code",
   "execution_count": 10,
   "id": "e41c59d1",
   "metadata": {},
   "outputs": [
    {
     "data": {
      "text/html": [
       "<div>\n",
       "<style scoped>\n",
       "    .dataframe tbody tr th:only-of-type {\n",
       "        vertical-align: middle;\n",
       "    }\n",
       "\n",
       "    .dataframe tbody tr th {\n",
       "        vertical-align: top;\n",
       "    }\n",
       "\n",
       "    .dataframe thead th {\n",
       "        text-align: right;\n",
       "    }\n",
       "</style>\n",
       "<table border=\"1\" class=\"dataframe\">\n",
       "  <thead>\n",
       "    <tr style=\"text-align: right;\">\n",
       "      <th></th>\n",
       "      <th>No</th>\n",
       "      <th>X1 transaction date</th>\n",
       "      <th>X2 house age</th>\n",
       "      <th>X3 distance to the nearest MRT station</th>\n",
       "      <th>X4 number of convenience stores</th>\n",
       "      <th>X5 latitude</th>\n",
       "      <th>X6 longitude</th>\n",
       "      <th>Y house price of unit area</th>\n",
       "      <th>price_category</th>\n",
       "    </tr>\n",
       "  </thead>\n",
       "  <tbody>\n",
       "    <tr>\n",
       "      <th>0</th>\n",
       "      <td>1</td>\n",
       "      <td>2.012.917</td>\n",
       "      <td>32.0</td>\n",
       "      <td>8.487.882</td>\n",
       "      <td>10</td>\n",
       "      <td>2.498.298</td>\n",
       "      <td>12.154.024</td>\n",
       "      <td>37.9</td>\n",
       "      <td>Sedang</td>\n",
       "    </tr>\n",
       "    <tr>\n",
       "      <th>1</th>\n",
       "      <td>2</td>\n",
       "      <td>2.012.917</td>\n",
       "      <td>19.5</td>\n",
       "      <td>3.065.947</td>\n",
       "      <td>9</td>\n",
       "      <td>2.498.034</td>\n",
       "      <td>12.153.951</td>\n",
       "      <td>42.2</td>\n",
       "      <td>Sedang</td>\n",
       "    </tr>\n",
       "    <tr>\n",
       "      <th>2</th>\n",
       "      <td>3</td>\n",
       "      <td>2.013.583</td>\n",
       "      <td>13.3</td>\n",
       "      <td>5.619.845</td>\n",
       "      <td>5</td>\n",
       "      <td>2.498.746</td>\n",
       "      <td>12.154.391</td>\n",
       "      <td>47.3</td>\n",
       "      <td>Sedang</td>\n",
       "    </tr>\n",
       "    <tr>\n",
       "      <th>3</th>\n",
       "      <td>4</td>\n",
       "      <td>2.013.500</td>\n",
       "      <td>13.3</td>\n",
       "      <td>5.619.845</td>\n",
       "      <td>5</td>\n",
       "      <td>2.498.746</td>\n",
       "      <td>12.154.391</td>\n",
       "      <td>54.8</td>\n",
       "      <td>Sedang</td>\n",
       "    </tr>\n",
       "    <tr>\n",
       "      <th>4</th>\n",
       "      <td>5</td>\n",
       "      <td>2.012.833</td>\n",
       "      <td>5.0</td>\n",
       "      <td>3.905.684</td>\n",
       "      <td>5</td>\n",
       "      <td>2.497.937</td>\n",
       "      <td>12.154.245</td>\n",
       "      <td>43.1</td>\n",
       "      <td>Sedang</td>\n",
       "    </tr>\n",
       "    <tr>\n",
       "      <th>...</th>\n",
       "      <td>...</td>\n",
       "      <td>...</td>\n",
       "      <td>...</td>\n",
       "      <td>...</td>\n",
       "      <td>...</td>\n",
       "      <td>...</td>\n",
       "      <td>...</td>\n",
       "      <td>...</td>\n",
       "      <td>...</td>\n",
       "    </tr>\n",
       "    <tr>\n",
       "      <th>409</th>\n",
       "      <td>410</td>\n",
       "      <td>2.013.000</td>\n",
       "      <td>13.7</td>\n",
       "      <td>4.082.015</td>\n",
       "      <td>0</td>\n",
       "      <td>2.494.155</td>\n",
       "      <td>12.150.381</td>\n",
       "      <td>15.4</td>\n",
       "      <td>Murah</td>\n",
       "    </tr>\n",
       "    <tr>\n",
       "      <th>410</th>\n",
       "      <td>411</td>\n",
       "      <td>2.012.667</td>\n",
       "      <td>5.6</td>\n",
       "      <td>9.045.606</td>\n",
       "      <td>9</td>\n",
       "      <td>2.497.433</td>\n",
       "      <td>1.215.431</td>\n",
       "      <td>50.0</td>\n",
       "      <td>Sedang</td>\n",
       "    </tr>\n",
       "    <tr>\n",
       "      <th>411</th>\n",
       "      <td>412</td>\n",
       "      <td>2.013.250</td>\n",
       "      <td>18.8</td>\n",
       "      <td>3.909.696</td>\n",
       "      <td>7</td>\n",
       "      <td>2.497.923</td>\n",
       "      <td>12.153.986</td>\n",
       "      <td>40.6</td>\n",
       "      <td>Sedang</td>\n",
       "    </tr>\n",
       "    <tr>\n",
       "      <th>412</th>\n",
       "      <td>413</td>\n",
       "      <td>2.013.000</td>\n",
       "      <td>8.1</td>\n",
       "      <td>1.048.101</td>\n",
       "      <td>5</td>\n",
       "      <td>2.496.674</td>\n",
       "      <td>12.154.067</td>\n",
       "      <td>52.5</td>\n",
       "      <td>Sedang</td>\n",
       "    </tr>\n",
       "    <tr>\n",
       "      <th>413</th>\n",
       "      <td>414</td>\n",
       "      <td>2.013.500</td>\n",
       "      <td>6.5</td>\n",
       "      <td>9.045.606</td>\n",
       "      <td>9</td>\n",
       "      <td>2.497.433</td>\n",
       "      <td>1.215.431</td>\n",
       "      <td>63.9</td>\n",
       "      <td>Mahal</td>\n",
       "    </tr>\n",
       "  </tbody>\n",
       "</table>\n",
       "<p>414 rows × 9 columns</p>\n",
       "</div>"
      ],
      "text/plain": [
       "      No X1 transaction date  X2 house age  \\\n",
       "0      1           2.012.917          32.0   \n",
       "1      2           2.012.917          19.5   \n",
       "2      3           2.013.583          13.3   \n",
       "3      4           2.013.500          13.3   \n",
       "4      5           2.012.833           5.0   \n",
       "..   ...                 ...           ...   \n",
       "409  410           2.013.000          13.7   \n",
       "410  411           2.012.667           5.6   \n",
       "411  412           2.013.250          18.8   \n",
       "412  413           2.013.000           8.1   \n",
       "413  414           2.013.500           6.5   \n",
       "\n",
       "    X3 distance to the nearest MRT station  X4 number of convenience stores  \\\n",
       "0                                8.487.882                               10   \n",
       "1                                3.065.947                                9   \n",
       "2                                5.619.845                                5   \n",
       "3                                5.619.845                                5   \n",
       "4                                3.905.684                                5   \n",
       "..                                     ...                              ...   \n",
       "409                              4.082.015                                0   \n",
       "410                              9.045.606                                9   \n",
       "411                              3.909.696                                7   \n",
       "412                              1.048.101                                5   \n",
       "413                              9.045.606                                9   \n",
       "\n",
       "    X5 latitude X6 longitude  Y house price of unit area price_category  \n",
       "0     2.498.298   12.154.024                        37.9         Sedang  \n",
       "1     2.498.034   12.153.951                        42.2         Sedang  \n",
       "2     2.498.746   12.154.391                        47.3         Sedang  \n",
       "3     2.498.746   12.154.391                        54.8         Sedang  \n",
       "4     2.497.937   12.154.245                        43.1         Sedang  \n",
       "..          ...          ...                         ...            ...  \n",
       "409   2.494.155   12.150.381                        15.4          Murah  \n",
       "410   2.497.433    1.215.431                        50.0         Sedang  \n",
       "411   2.497.923   12.153.986                        40.6         Sedang  \n",
       "412   2.496.674   12.154.067                        52.5         Sedang  \n",
       "413   2.497.433    1.215.431                        63.9          Mahal  \n",
       "\n",
       "[414 rows x 9 columns]"
      ]
     },
     "execution_count": 10,
     "metadata": {},
     "output_type": "execute_result"
    }
   ],
   "source": [
    "real_estate"
   ]
  },
  {
   "cell_type": "code",
   "execution_count": 11,
   "id": "64c9ec18",
   "metadata": {},
   "outputs": [
    {
     "data": {
      "text/html": [
       "<div>\n",
       "<style scoped>\n",
       "    .dataframe tbody tr th:only-of-type {\n",
       "        vertical-align: middle;\n",
       "    }\n",
       "\n",
       "    .dataframe tbody tr th {\n",
       "        vertical-align: top;\n",
       "    }\n",
       "\n",
       "    .dataframe thead th {\n",
       "        text-align: right;\n",
       "    }\n",
       "</style>\n",
       "<table border=\"1\" class=\"dataframe\">\n",
       "  <thead>\n",
       "    <tr style=\"text-align: right;\">\n",
       "      <th>price_category</th>\n",
       "      <th>Mahal</th>\n",
       "      <th>Murah</th>\n",
       "      <th>Sedang</th>\n",
       "    </tr>\n",
       "  </thead>\n",
       "  <tbody>\n",
       "    <tr>\n",
       "      <th>No</th>\n",
       "      <td>19</td>\n",
       "      <td>126</td>\n",
       "      <td>269</td>\n",
       "    </tr>\n",
       "    <tr>\n",
       "      <th>X1 transaction date</th>\n",
       "      <td>19</td>\n",
       "      <td>126</td>\n",
       "      <td>269</td>\n",
       "    </tr>\n",
       "    <tr>\n",
       "      <th>X2 house age</th>\n",
       "      <td>19</td>\n",
       "      <td>126</td>\n",
       "      <td>269</td>\n",
       "    </tr>\n",
       "    <tr>\n",
       "      <th>X3 distance to the nearest MRT station</th>\n",
       "      <td>19</td>\n",
       "      <td>126</td>\n",
       "      <td>269</td>\n",
       "    </tr>\n",
       "    <tr>\n",
       "      <th>X4 number of convenience stores</th>\n",
       "      <td>19</td>\n",
       "      <td>126</td>\n",
       "      <td>269</td>\n",
       "    </tr>\n",
       "    <tr>\n",
       "      <th>X5 latitude</th>\n",
       "      <td>19</td>\n",
       "      <td>126</td>\n",
       "      <td>269</td>\n",
       "    </tr>\n",
       "    <tr>\n",
       "      <th>X6 longitude</th>\n",
       "      <td>19</td>\n",
       "      <td>126</td>\n",
       "      <td>269</td>\n",
       "    </tr>\n",
       "    <tr>\n",
       "      <th>Y house price of unit area</th>\n",
       "      <td>19</td>\n",
       "      <td>126</td>\n",
       "      <td>269</td>\n",
       "    </tr>\n",
       "  </tbody>\n",
       "</table>\n",
       "</div>"
      ],
      "text/plain": [
       "price_category                          Mahal  Murah  Sedang\n",
       "No                                         19    126     269\n",
       "X1 transaction date                        19    126     269\n",
       "X2 house age                               19    126     269\n",
       "X3 distance to the nearest MRT station     19    126     269\n",
       "X4 number of convenience stores            19    126     269\n",
       "X5 latitude                                19    126     269\n",
       "X6 longitude                               19    126     269\n",
       "Y house price of unit area                 19    126     269"
      ]
     },
     "execution_count": 11,
     "metadata": {},
     "output_type": "execute_result"
    }
   ],
   "source": [
    "data = real_estate.pivot_table(columns=\"price_category\", aggfunc='count')\n",
    "data"
   ]
  },
  {
   "cell_type": "code",
   "execution_count": 12,
   "id": "5be0fc72",
   "metadata": {},
   "outputs": [
    {
     "data": {
      "text/html": [
       "<div>\n",
       "<style scoped>\n",
       "    .dataframe tbody tr th:only-of-type {\n",
       "        vertical-align: middle;\n",
       "    }\n",
       "\n",
       "    .dataframe tbody tr th {\n",
       "        vertical-align: top;\n",
       "    }\n",
       "\n",
       "    .dataframe thead th {\n",
       "        text-align: right;\n",
       "    }\n",
       "</style>\n",
       "<table border=\"1\" class=\"dataframe\">\n",
       "  <thead>\n",
       "    <tr style=\"text-align: right;\">\n",
       "      <th>price_category</th>\n",
       "      <th>Mahal</th>\n",
       "      <th>Murah</th>\n",
       "      <th>Sedang</th>\n",
       "    </tr>\n",
       "  </thead>\n",
       "  <tbody>\n",
       "    <tr>\n",
       "      <th>Y house price of unit area</th>\n",
       "      <td>19</td>\n",
       "      <td>126</td>\n",
       "      <td>269</td>\n",
       "    </tr>\n",
       "  </tbody>\n",
       "</table>\n",
       "</div>"
      ],
      "text/plain": [
       "price_category              Mahal  Murah  Sedang\n",
       "Y house price of unit area     19    126     269"
      ]
     },
     "execution_count": 12,
     "metadata": {},
     "output_type": "execute_result"
    }
   ],
   "source": [
    "data_ = data[-1:]\n",
    "data_"
   ]
  },
  {
   "cell_type": "code",
   "execution_count": 13,
   "id": "ec0fcb16",
   "metadata": {},
   "outputs": [
    {
     "name": "stderr",
     "output_type": "stream",
     "text": [
      "C:\\Users\\ACER\\anaconda3\\lib\\site-packages\\pandas\\core\\frame.py:4441: SettingWithCopyWarning: \n",
      "A value is trying to be set on a copy of a slice from a DataFrame\n",
      "\n",
      "See the caveats in the documentation: https://pandas.pydata.org/pandas-docs/stable/user_guide/indexing.html#returning-a-view-versus-a-copy\n",
      "  return super().rename(\n"
     ]
    },
    {
     "data": {
      "text/html": [
       "<div>\n",
       "<style scoped>\n",
       "    .dataframe tbody tr th:only-of-type {\n",
       "        vertical-align: middle;\n",
       "    }\n",
       "\n",
       "    .dataframe tbody tr th {\n",
       "        vertical-align: top;\n",
       "    }\n",
       "\n",
       "    .dataframe thead th {\n",
       "        text-align: right;\n",
       "    }\n",
       "</style>\n",
       "<table border=\"1\" class=\"dataframe\">\n",
       "  <thead>\n",
       "    <tr style=\"text-align: right;\">\n",
       "      <th>price_category</th>\n",
       "      <th>Mahal</th>\n",
       "      <th>Murah</th>\n",
       "      <th>Sedang</th>\n",
       "    </tr>\n",
       "  </thead>\n",
       "  <tbody>\n",
       "    <tr>\n",
       "      <th>Count</th>\n",
       "      <td>19</td>\n",
       "      <td>126</td>\n",
       "      <td>269</td>\n",
       "    </tr>\n",
       "  </tbody>\n",
       "</table>\n",
       "</div>"
      ],
      "text/plain": [
       "price_category  Mahal  Murah  Sedang\n",
       "Count              19    126     269"
      ]
     },
     "execution_count": 13,
     "metadata": {},
     "output_type": "execute_result"
    }
   ],
   "source": [
    "data_.rename(index={'Y house price of unit area': 'Count'}, inplace=True)\n",
    "data_.head()"
   ]
  },
  {
   "cell_type": "code",
   "execution_count": 14,
   "id": "655d029a",
   "metadata": {},
   "outputs": [
    {
     "data": {
      "text/plain": [
       "price_category\n",
       "Mahal      19\n",
       "Murah     126\n",
       "Sedang    269\n",
       "Name: Count, dtype: int64"
      ]
     },
     "execution_count": 14,
     "metadata": {},
     "output_type": "execute_result"
    }
   ],
   "source": [
    "data_count=data_.iloc[0]\n",
    "data_count"
   ]
  },
  {
   "cell_type": "code",
   "execution_count": 15,
   "id": "89913588",
   "metadata": {},
   "outputs": [
    {
     "data": {
      "text/plain": [
       "['Mahal', 'Murah', 'Sedang']"
      ]
     },
     "execution_count": 15,
     "metadata": {},
     "output_type": "execute_result"
    }
   ],
   "source": [
    "outer = list(data_)\n",
    "outer"
   ]
  },
  {
   "cell_type": "code",
   "execution_count": 16,
   "id": "fbb7cef1",
   "metadata": {},
   "outputs": [
    {
     "data": {
      "text/plain": [
       "[19, 126, 269]"
      ]
     },
     "execution_count": 16,
     "metadata": {},
     "output_type": "execute_result"
    }
   ],
   "source": [
    "inner = list(data_count)\n",
    "inner"
   ]
  },
  {
   "cell_type": "code",
   "execution_count": 17,
   "id": "5796024c",
   "metadata": {},
   "outputs": [
    {
     "data": {
      "image/png": "[encoded data removed]",
      "text/plain": [
       "<Figure size 432x288 with 1 Axes>"
      ]
     },
     "metadata": {
      "needs_background": "light"
     },
     "output_type": "display_data"
    }
   ],
   "source": [
    "labels = outer\n",
    "sizes = inner\n",
    "\n",
    "#set position of bar on x axis\n",
    "r1 = np.arange(len(labels))\n",
    "r2 = [x + 0.25 for x in r1] #to set data label centerelize\n",
    "\n",
    "status_pos = [i for i, _ in enumerate(labels)]\n",
    "\n",
    "plt.bar(status_pos, inner, color='#368BC1')\n",
    "plt.xlabel(\"House\", fontsize=10)\n",
    "plt.ylabel(\"count\", fontsize=10)\n",
    "plt.title(\"House_category\", fontsize=15)\n",
    "\n",
    "plt.xticks(status_pos, labels, rotation=0)\n",
    "\n",
    "#Text on the top of each barplot\n",
    "label= list(data_count)\n",
    "for i in range(len(r2)):\n",
    "    plt.text(x=r2[i]-0.35, y = list(data_count)[i]+0.2, s=label[i], size=10)\n",
    "\n",
    "plt.show()"
   ]
  },
  {
   "cell_type": "markdown",
   "id": "b2503e1e",
   "metadata": {},
   "source": [
    "* Dari pengkategorian yang diperoleh dengan tingkatan Mahal, Sedang, dan Murah adalah berturut-turut memiliki nilai yaitu: 19, 269, dan 126. \n",
    "* Dilihat dari nilai yang dihasilkan disetiap kategori harga rumah bahwa harga Mahal memiliki jumlah rumah yang paling sedikit, diikuti dengan harga rumah Murah di posisi ke dua terbesar, dan harga rumah kategori sedang yang memiliki jumlah rumah paling banyak. \n",
    "    * MURAH : house price of unit area ≤ 30\n",
    "    * SEDANG : house price of unit area > 30 - ≤ 60\n",
    "    * MAHAL : house price of unit area > 60\n",
    "* Dari kategori tersebut bahwa kebanyakan rumah memiliki luas berkategori sedang. \n",
    "* Kategori ini disusun berdasarkan dari harga rumah terhadap luas. \n"
   ]
  },
  {
   "cell_type": "markdown",
   "id": "6dd6f40f",
   "metadata": {},
   "source": [
    "**No. 4) Dari soal nomor 3 kemudian buatlah sebuah visualisasi data untuk menggambarkan  proporsi (%) banyaknya kategori harga unit rumah! Apa key take away dari chart tersebut? Berilah interpretasi penjelasn!**"
   ]
  },
  {
   "cell_type": "markdown",
   "id": "8f97625e",
   "metadata": {},
   "source": [
    "**Jawab:**\n",
    "*****"
   ]
  },
  {
   "cell_type": "markdown",
   "id": "1fd8aeb7",
   "metadata": {},
   "source": [
    "* Data dengan variabel komposisi, visualisasi yang tepat adalah menggunakan pie chart.\n",
    "* Dalam pie chart, menampilkan bagaiman proporsi persentase dari banyaknya kategori harga unit rumah terhadap satuan luasnya. "
   ]
  },
  {
   "cell_type": "code",
   "execution_count": 32,
   "id": "69757c9c",
   "metadata": {},
   "outputs": [
    {
     "data": {
      "image/png": "[encoded data removed]",
      "text/plain": [
       "<Figure size 432x288 with 1 Axes>"
      ]
     },
     "metadata": {},
     "output_type": "display_data"
    }
   ],
   "source": [
    "# Data to plot\n",
    "labels = outer\n",
    "sizes = inner\n",
    "colors = ['gold', 'yellowgreen', 'lightblue']\n",
    "explode = (0.15,0,0)  # explode 1st slice\n",
    "\n",
    "# Plot\n",
    "plt.pie(sizes, explode=explode, labels=labels, colors=colors,\n",
    "autopct='%1.1f%%', shadow=True, startangle=125)\n",
    "\n",
    "plt.title('House_type', fontsize=17)\n",
    "plt.axis('equal')\n",
    "plt.show()"
   ]
  },
  {
   "cell_type": "markdown",
   "id": "0179e989",
   "metadata": {},
   "source": [
    "* Dari hasil visualisasi, proporsi kategori harga unit rumah tidak tersebar dengan merata, terjadi ketimpangan antara tiap kategorikal. \n",
    "* Harga unit rumah dengan kategori Mahal memiliki proporsi sebesar 4.6% dari total rumah yang ada, diikuti dengan kategori Murah sebesar 30.4% dan harga unit rumah dengan kategori Sedang sebesar 65.0%. \n",
    "* Perbedaan proporsi persentase dari kategori harga unit rumah juga dapat dilihat dari warna chart."
   ]
  },
  {
   "cell_type": "markdown",
   "id": "40065f60",
   "metadata": {},
   "source": [
    "**FINISHED**"
   ]
  }
 ],
 "metadata": {
  "kernelspec": {
   "display_name": "Python 3",
   "language": "python",
   "name": "python3"
  },
  "language_info": {
   "codemirror_mode": {
    "name": "ipython",
    "version": 3
   },
   "file_extension": ".py",
   "mimetype": "text/x-python",
   "name": "python",
   "nbconvert_exporter": "python",
   "pygments_lexer": "ipython3",
   "version": "3.8.8"
  }
 },
 "nbformat": 4,
 "nbformat_minor": 5
}
