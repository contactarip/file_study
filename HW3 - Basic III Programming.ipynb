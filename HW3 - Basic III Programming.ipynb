{
 "cells": [
  {
   "cell_type": "markdown",
   "id": "palestinian-aviation",
   "metadata": {},
   "source": [
    "## HW Basic Programming III: Array and Other Data Types\n",
    "\n",
    "### Sabtu, 27 November 2021"
   ]
  },
  {
   "cell_type": "markdown",
   "id": "unlikely-royalty",
   "metadata": {},
   "source": [
    "------------------------"
   ]
  },
  {
   "cell_type": "markdown",
   "id": "filled-malta",
   "metadata": {},
   "source": [
    "### Kerjakan soal di bawah ini dengan tepat sesuai instruksi.  Tugas dikerjakan secara individu dikumpulkan dalam bentuk pdf dan jupyter notebook. Dikumpulkan paling lambat Selasa, 30 November 2021 pukul 23.59. Selamat mengerjakan! :)"
   ]
  },
  {
   "cell_type": "markdown",
   "id": "brazilian-plain",
   "metadata": {},
   "source": [
    "### 1) a. Buatlah array 3 dimensi berukuran 3x8 yang berisi elemen bilangan 0 sampai 23 secara terurut! Beri nama arr1 dan tampilkan elemen-elemennya!"
   ]
  },
  {
   "cell_type": "code",
   "execution_count": 303,
   "id": "spectacular-decrease",
   "metadata": {},
   "outputs": [
    {
     "name": "stdout",
     "output_type": "stream",
     "text": [
      "[[ 0  1  2  3  4  5  6  7]\n",
      " [ 8  9 10 11 12 13 14 15]\n",
      " [16 17 18 19 20 21 22 23]]\n",
      "<class 'numpy.ndarray'>\n"
     ]
    }
   ],
   "source": [
    "#Tulis kode kamu di sini, tekan Shift + Enter untuk execute\n",
    "#Disclaimer: Makin singkat dan simple kodemu makin bagus dan efisien\n",
    "import numpy as np\n",
    "\n",
    "arr1 = np.array([[0,1,2,3,4,5,6,7],[8,9,10,11,12,13,14,15],[16,17,18,19,20,21,22,23]])\n",
    "print(arr1)\n",
    "print (type(arr1))\n"
   ]
  },
  {
   "cell_type": "code",
   "execution_count": 304,
   "id": "c5cf3c27",
   "metadata": {},
   "outputs": [
    {
     "name": "stdout",
     "output_type": "stream",
     "text": [
      "[[ 0  1  2  3  4  5  6  7]\n",
      " [ 8  9 10 11 12 13 14 15]\n",
      " [16 17 18 19 20 21 22 23]]\n",
      "<class 'numpy.ndarray'>\n"
     ]
    }
   ],
   "source": [
    "arr1 = np.arange(24).reshape(3,8)\n",
    "print (arr1)\n",
    "print(type(arr1))"
   ]
  },
  {
   "cell_type": "markdown",
   "id": "english-advantage",
   "metadata": {},
   "source": [
    "### b. Tambahkan elemen berikut [24, 25, 26, 27, 28, 29, 30, 31] pada array arr1 di atas sehingga array baru bernama arr2 adalah array berukuran berukuran 4x8. Tampilkan array baru tersebut!"
   ]
  },
  {
   "cell_type": "code",
   "execution_count": 305,
   "id": "union-officer",
   "metadata": {},
   "outputs": [
    {
     "name": "stdout",
     "output_type": "stream",
     "text": [
      "[[ 0  1  2  3  4  5  6  7]\n",
      " [ 8  9 10 11 12 13 14 15]\n",
      " [16 17 18 19 20 21 22 23]\n",
      " [24 25 26 27 28 29 30 31]]\n",
      "<class 'numpy.ndarray'>\n"
     ]
    }
   ],
   "source": [
    "#Tulis kode kamu di sini, tekan Shift + Enter untuk execute\n",
    "\n",
    "a = np.array([24,25,26,27,28,29,30,31])\n",
    "arr2 = (np.append(arr1,([a]),axis=0))\n",
    "print (arr2)\n",
    "print (type(arr2))"
   ]
  },
  {
   "cell_type": "markdown",
   "id": "secure-crack",
   "metadata": {},
   "source": [
    "### 3) Gabung arr1 dan arr2 sehingga menjadi arr3 yang merupakan array berukuran 7x8. Tampilkan arr3 tersebut!"
   ]
  },
  {
   "cell_type": "code",
   "execution_count": 306,
   "id": "ongoing-injury",
   "metadata": {},
   "outputs": [
    {
     "name": "stdout",
     "output_type": "stream",
     "text": [
      "[[ 0  1  2  3  4  5  6  7]\n",
      " [ 8  9 10 11 12 13 14 15]\n",
      " [16 17 18 19 20 21 22 23]\n",
      " [ 0  1  2  3  4  5  6  7]\n",
      " [ 8  9 10 11 12 13 14 15]\n",
      " [16 17 18 19 20 21 22 23]\n",
      " [24 25 26 27 28 29 30 31]]\n",
      "<class 'numpy.ndarray'>\n"
     ]
    }
   ],
   "source": [
    "#Tulis kode kamu di sini, tekan Shift + Enter untuk execute\n",
    "arr3 = (np.concatenate((arr1,arr2),axis = 0))\n",
    "print (arr3)\n",
    "print (type(arr3))"
   ]
  },
  {
   "cell_type": "markdown",
   "id": "conventional-addition",
   "metadata": {},
   "source": [
    "### 4) Ubah ukuran arr3 menjadi array dengan 4 kolom dan 14 baris"
   ]
  },
  {
   "cell_type": "code",
   "execution_count": 307,
   "id": "f6eead6d",
   "metadata": {},
   "outputs": [
    {
     "name": "stdout",
     "output_type": "stream",
     "text": [
      "[[ 0  1  2  3]\n",
      " [ 4  5  6  7]\n",
      " [ 8  9 10 11]\n",
      " [12 13 14 15]\n",
      " [16 17 18 19]\n",
      " [20 21 22 23]\n",
      " [ 0  1  2  3]\n",
      " [ 4  5  6  7]\n",
      " [ 8  9 10 11]\n",
      " [12 13 14 15]\n",
      " [16 17 18 19]\n",
      " [20 21 22 23]\n",
      " [24 25 26 27]\n",
      " [28 29 30 31]]\n",
      "<class 'numpy.ndarray'>\n"
     ]
    }
   ],
   "source": [
    "a = np.array([arr3]).reshape(14,4)\n",
    "print (a)\n",
    "print (type(a))"
   ]
  },
  {
   "cell_type": "markdown",
   "id": "looking-curve",
   "metadata": {},
   "source": [
    "### 2) Di bawah ini  ada sebuah array yang berisi elemen berupa nomor urut peserta pada sebuah \"SLICE GAME\". Lakukan ekstraksi elemen-elemen untuk array tersebut menggunakan slicing untuk mengiris setiap nomor urut berikut!"
   ]
  },
  {
   "cell_type": "code",
   "execution_count": 6,
   "id": "orange-conviction",
   "metadata": {},
   "outputs": [
    {
     "name": "stdout",
     "output_type": "stream",
     "text": [
      "[[121 232 343 454]\n",
      " [565 676 787 898]\n",
      " [989 878 767 656]\n",
      " [545 434 323 212]]\n",
      "<class 'numpy.ndarray'>\n"
     ]
    }
   ],
   "source": [
    "#Tekan Shift + Enter untuk execute syntax ini\n",
    "import numpy as np\n",
    "slice_game = np.array([[121, 232,343, 454], [565,676,787,898],[989,878,767,656],\n",
    "                [545,434,323,212]])\n",
    "print(slice_game)\n",
    "print(type(slice_game))"
   ]
  },
  {
   "cell_type": "markdown",
   "id": "negative-wonder",
   "metadata": {},
   "source": [
    "### a. Nomor urut 212 harus diambil dari Slice Game. Eksekusi dia!"
   ]
  },
  {
   "cell_type": "code",
   "execution_count": 7,
   "id": "ceramic-patch",
   "metadata": {},
   "outputs": [
    {
     "data": {
      "text/plain": [
       "212"
      ]
     },
     "execution_count": 7,
     "metadata": {},
     "output_type": "execute_result"
    }
   ],
   "source": [
    "#Tulis kode kamu di sini, tekan Shift + Enter untuk execute\n",
    "slice_game [3,3]"
   ]
  },
  {
   "cell_type": "markdown",
   "id": "endless-intensity",
   "metadata": {},
   "source": [
    "### b. Ganti nomor urut 212 tersebut dengan nomor 456 . Cek nomor urut semua peserta SLICE GAME dengan menampilkan semua elemennya!"
   ]
  },
  {
   "cell_type": "code",
   "execution_count": 8,
   "id": "celtic-substance",
   "metadata": {},
   "outputs": [
    {
     "name": "stdout",
     "output_type": "stream",
     "text": [
      "[[121 232 343 454]\n",
      " [565 676 787 898]\n",
      " [989 878 767 656]\n",
      " [545 434 323 456]]\n",
      "<class 'numpy.ndarray'>\n"
     ]
    }
   ],
   "source": [
    "#Tulis kode kamu di sini, tekan Shift + Enter untuk execute\n",
    "slice_game [3,3] = 456\n",
    "print(slice_game)\n",
    "print (type(slice_game))"
   ]
  },
  {
   "cell_type": "markdown",
   "id": "consolidated-xerox",
   "metadata": {},
   "source": [
    "### c. Ambil nomor urut peserta pada semua baris ke-1 dan baris ke-3 secara langsung, karena mereka harus bertanding dalam SLICE GAME."
   ]
  },
  {
   "cell_type": "code",
   "execution_count": 9,
   "id": "magnetic-finder",
   "metadata": {},
   "outputs": [
    {
     "data": {
      "text/plain": [
       "array([[121, 232, 343, 454],\n",
       "       [989, 878, 767, 656]])"
      ]
     },
     "execution_count": 9,
     "metadata": {},
     "output_type": "execute_result"
    }
   ],
   "source": [
    "#Tulis kode kamu di sini, tekan Shift + Enter untuk execute\n",
    "slice_game [0:3:2]"
   ]
  },
  {
   "cell_type": "markdown",
   "id": "electric-period",
   "metadata": {},
   "source": [
    "### d. Ubah formasi SLICE GAME dimana nomor 565 ada pada nomor urut kedua dan 656 menjadi nomor urut kedua terakhir!"
   ]
  },
  {
   "cell_type": "code",
   "execution_count": 10,
   "id": "finite-rotation",
   "metadata": {},
   "outputs": [
    {
     "name": "stdout",
     "output_type": "stream",
     "text": [
      "[[121 565 343 454]\n",
      " [232 676 787 898]\n",
      " [989 878 767 323]\n",
      " [545 434 656 456]]\n",
      "<class 'numpy.ndarray'>\n"
     ]
    }
   ],
   "source": [
    "#Tulis kode kamu di sini, tekan Shift + Enter untuk execute\n",
    "slice_game [0,1]= 565\n",
    "slice_game [1,0]= 232\n",
    "slice_game [3,2]= 656\n",
    "slice_game [2,3]= 323\n",
    "\n",
    "print(slice_game)\n",
    "print (type(slice_game))\n"
   ]
  },
  {
   "cell_type": "markdown",
   "id": "speaking-burst",
   "metadata": {},
   "source": [
    "### e. Bagilah peserta SLICE GAME menjadi 2 tim, golongan kanan dan golongan kiri.  Kedua tim tersebut ada dalam sebuah variabel bernama *team_slice_game*. Tampilkan kedua tim tersebut!"
   ]
  },
  {
   "cell_type": "code",
   "execution_count": 11,
   "id": "swedish-unemployment",
   "metadata": {},
   "outputs": [
    {
     "name": "stdout",
     "output_type": "stream",
     "text": [
      "[array([[121, 565],\n",
      "       [232, 676],\n",
      "       [989, 878],\n",
      "       [545, 434]]), array([[343, 454],\n",
      "       [787, 898],\n",
      "       [767, 323],\n",
      "       [656, 456]])]\n"
     ]
    }
   ],
   "source": [
    "#Tulis kode kamu di sini, tekan Shift + Enter untuk execute\n",
    "c = slice_game\n",
    "d = np.hsplit(c,2)\n",
    "print (d)\n"
   ]
  },
  {
   "cell_type": "code",
   "execution_count": 13,
   "id": "203631f2",
   "metadata": {},
   "outputs": [
    {
     "name": "stdout",
     "output_type": "stream",
     "text": [
      "[array([[121, 565, 343, 454],\n",
      "       [232, 676, 787, 898]]), array([[989, 878, 767, 323],\n",
      "       [545, 434, 656, 456]])] [array([[121, 565],\n",
      "       [232, 676],\n",
      "       [989, 878],\n",
      "       [545, 434]]), array([[343, 454],\n",
      "       [787, 898],\n",
      "       [767, 323],\n",
      "       [656, 456]])]\n"
     ]
    }
   ],
   "source": [
    "c = slice_game \n",
    "e = np.vsplit(c,2)\n",
    "print (e,d)"
   ]
  },
  {
   "cell_type": "markdown",
   "id": "loose-lodging",
   "metadata": {},
   "source": [
    "### 3) Buatlah sebuah perulangan (loop) yang mampu menelusuri setiap elemen array kemudian print elemen tersebut.\n",
    "Output haruslah dalam bentuk angka kembar 1 1, 2 2, dst sampai 8 8."
   ]
  },
  {
   "cell_type": "code",
   "execution_count": 329,
   "id": "artificial-denial",
   "metadata": {},
   "outputs": [
    {
     "name": "stdout",
     "output_type": "stream",
     "text": [
      "1 1\n",
      "2 2\n",
      "3 3\n",
      "4 4\n",
      "5 5\n",
      "6 6\n",
      "7 7\n",
      "8 8\n"
     ]
    }
   ],
   "source": [
    "#Tulis kode kamu di sini, tekan Shift + Enter untuk execute\n",
    "\n",
    "arr = np.array([1,2,3,4,5,6,7,8])\n",
    "for i in arr:\n",
    "    print (i,i)\n",
    "    "
   ]
  },
  {
   "cell_type": "markdown",
   "id": "korean-grain",
   "metadata": {},
   "source": [
    "### 4) Buatlah array berukuran 1X100 yang berisi elemen 0 - 99. Kemudian lakukan data type conversion elemen array tersebut menjadi tipe data string. Tampilkan semua elemen array tersebut!"
   ]
  },
  {
   "cell_type": "code",
   "execution_count": 330,
   "id": "committed-scenario",
   "metadata": {},
   "outputs": [
    {
     "name": "stdout",
     "output_type": "stream",
     "text": [
      "[[ 0  1  2  3  4  5  6  7  8  9 10 11 12 13 14 15 16 17 18 19 20 21 22 23\n",
      "  24 25 26 27 28 29 30 31 32 33 34 35 36 37 38 39 40 41 42 43 44 45 46 47\n",
      "  48 49 50 51 52 53 54 55 56 57 58 59 60 61 62 63 64 65 66 67 68 69 70 71\n",
      "  72 73 74 75 76 77 78 79 80 81 82 83 84 85 86 87 88 89 90 91 92 93 94 95\n",
      "  96 97 98 99]]\n",
      "<class 'numpy.ndarray'>\n"
     ]
    }
   ],
   "source": [
    "#Tulis kode kamu di sini, tekan Shift + Enter untuk execute\n",
    "x = np.arange(100).reshape(1,100)\n",
    "print (x)\n",
    "print (type(x))"
   ]
  },
  {
   "cell_type": "code",
   "execution_count": 331,
   "id": "2da9d726",
   "metadata": {},
   "outputs": [
    {
     "name": "stdout",
     "output_type": "stream",
     "text": [
      "[['0' '1' '2' '3' '4' '5' '6' '7' '8' '9' '10' '11' '12' '13' '14' '15'\n",
      "  '16' '17' '18' '19' '20' '21' '22' '23' '24' '25' '26' '27' '28' '29'\n",
      "  '30' '31' '32' '33' '34' '35' '36' '37' '38' '39' '40' '41' '42' '43'\n",
      "  '44' '45' '46' '47' '48' '49' '50' '51' '52' '53' '54' '55' '56' '57'\n",
      "  '58' '59' '60' '61' '62' '63' '64' '65' '66' '67' '68' '69' '70' '71'\n",
      "  '72' '73' '74' '75' '76' '77' '78' '79' '80' '81' '82' '83' '84' '85'\n",
      "  '86' '87' '88' '89' '90' '91' '92' '93' '94' '95' '96' '97' '98' '99']]\n",
      "<class 'numpy.ndarray'>\n"
     ]
    },
    {
     "name": "stderr",
     "output_type": "stream",
     "text": [
      "<ipython-input-331-d7aaa399db52>:1: DeprecationWarning: `np.str` is a deprecated alias for the builtin `str`. To silence this warning, use `str` by itself. Doing this will not modify any behavior and is safe. If you specifically wanted the numpy scalar type, use `np.str_` here.\n",
      "Deprecated in NumPy 1.20; for more details and guidance: https://numpy.org/devdocs/release/1.20.0-notes.html#deprecations\n",
      "  u = x.astype(np.str)\n"
     ]
    }
   ],
   "source": [
    "u = x.astype(np.str)\n",
    "print (u)\n",
    "print (type(u))"
   ]
  },
  {
   "cell_type": "markdown",
   "id": "2a0f32fc",
   "metadata": {},
   "source": [
    "# Finished"
   ]
  }
 ],
 "metadata": {
  "kernelspec": {
   "display_name": "Python 3",
   "language": "python",
   "name": "python3"
  },
  "language_info": {
   "codemirror_mode": {
    "name": "ipython",
    "version": 3
   },
   "file_extension": ".py",
   "mimetype": "text/x-python",
   "name": "python",
   "nbconvert_exporter": "python",
   "pygments_lexer": "ipython3",
   "version": "3.8.8"
  }
 },
 "nbformat": 4,
 "nbformat_minor": 5
}
