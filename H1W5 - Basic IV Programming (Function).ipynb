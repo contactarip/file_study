{
 "cells": [
  {
   "cell_type": "markdown",
   "id": "1da93dfe",
   "metadata": {},
   "source": [
    "**1) Tulis fungsi Python untuk menemukan angka terbesar dari tiga angka.**"
   ]
  },
  {
   "cell_type": "markdown",
   "id": "50cbcf08",
   "metadata": {},
   "source": [
    "**Jawab**\n",
    "* Berikut ini merupakan fungsi untuk menemukan angka terbesar dari sebuah list yang ada.\n",
    "* list nilai yang diperoleh dari nilai \"arr\"\n",
    "* dengan kondisi, untuk setiap elemen didalam range nilai 1 hingga panjang elemen dari array, \n",
    "   jika array elemen i lebih besar dari elemen Max, \n",
    "   maka elemen max (imax) = arr elemen i\n",
    "* nilai dikembalikan ke imax sesuai list nilai yang ada. \n",
    "* fungsi ini berlaku tidak hanya memberikan list sebanyak tiga angka, namun bisa lebih. "
   ]
  },
  {
   "cell_type": "code",
   "execution_count": 450,
   "id": "d347c727",
   "metadata": {},
   "outputs": [
    {
     "name": "stdout",
     "output_type": "stream",
     "text": [
      "18\n"
     ]
    }
   ],
   "source": [
    "def num_Max(arr):\n",
    "    iMax = arr[0]\n",
    "    for i in range(1, len(arr)):\n",
    "        if(arr[i] > iMax):\n",
    "            iMax = arr[i]\n",
    "    return iMax\n",
    "arr = [4,18,9]\n",
    "iMax = arr[0]\n",
    "for i in range(1, len(arr)):\n",
    "    if(arr[i] > iMax):\n",
    "        iMax = arr[i]\n",
    "print (iMax)"
   ]
  },
  {
   "cell_type": "markdown",
   "id": "1fa8e96b",
   "metadata": {},
   "source": [
    "* Nilai maksimum dari elemen list yang diberikan adalah : 18, dan akan berubah sesuai list yang diberikan"
   ]
  },
  {
   "cell_type": "markdown",
   "id": "f36197a8",
   "metadata": {},
   "source": [
    "**2) Tulis fungsi Python untuk menjumlahkan semua angka dalam list.**"
   ]
  },
  {
   "cell_type": "markdown",
   "id": "37d0291a",
   "metadata": {},
   "source": [
    "**Jawab**\n",
    "* fungsi python berikut akan menjumlahkan semua list yang diberikan.\n",
    "* dimana menggunakan non keyword argument apabila list yang dimasukkan lebih dari 1.\n",
    "* dimana, c adalah argumen ke satu.  \n",
    "* untuk setiap elemen pada non keyword argument, nilai c merupakan jumlah sama dengan nilai elemen tersebut. \n"
   ]
  },
  {
   "cell_type": "code",
   "execution_count": 81,
   "id": "4b5f0b99",
   "metadata": {},
   "outputs": [],
   "source": [
    "def jumlah (a,*b):\n",
    "    c = a\n",
    "    for i in b:\n",
    "        c += i \n",
    "    print (c)"
   ]
  },
  {
   "cell_type": "code",
   "execution_count": 168,
   "id": "e969a214",
   "metadata": {},
   "outputs": [
    {
     "name": "stdout",
     "output_type": "stream",
     "text": [
      "40\n"
     ]
    }
   ],
   "source": [
    "jumlah (1,3,4,5,7,9,11)"
   ]
  },
  {
   "cell_type": "markdown",
   "id": "55f157ec",
   "metadata": {},
   "source": [
    "* Jumlah semua angka dari list tersebut adalah : 40, dan akan berubah sesuai list yang diberikan "
   ]
  },
  {
   "cell_type": "markdown",
   "id": "2da1479e",
   "metadata": {},
   "source": [
    "**3) Tulis fungsi Python untuk mengalikan semua angka dalam list.**\n",
    "     Sample list : [8, 2, 3, -1, 7], Output yang Diharapkan : -336"
   ]
  },
  {
   "cell_type": "markdown",
   "id": "a744988c",
   "metadata": {},
   "source": [
    "**Jawab** \n",
    "* merupakan fungsi untuk mengalikan nilai yang ada di dalam list.\n",
    "* digunakan nilai c sama dengan kali dengan elemen nya. \n",
    "* hal ini hampir sama dengan pernyataan pada soal nomor 2, namun pada kasus ini operator nya adalah kali. \n"
   ]
  },
  {
   "cell_type": "code",
   "execution_count": 83,
   "id": "f95aee39",
   "metadata": {},
   "outputs": [],
   "source": [
    "def new (a,*b):\n",
    "    c = a\n",
    "    for i in b:\n",
    "        c *= i \n",
    "    print (c)"
   ]
  },
  {
   "cell_type": "code",
   "execution_count": 70,
   "id": "4decd4cb",
   "metadata": {},
   "outputs": [
    {
     "name": "stdout",
     "output_type": "stream",
     "text": [
      "630\n"
     ]
    }
   ],
   "source": [
    "new (2,5,7,9)"
   ]
  },
  {
   "cell_type": "markdown",
   "id": "7bf3b1b1",
   "metadata": {},
   "source": [
    "* Jumlah hasil kali dari setiap elemen list adalah: 630, dan akan berubah sesuai list yang diberikan. "
   ]
  },
  {
   "cell_type": "markdown",
   "id": "8bc3c4dc",
   "metadata": {},
   "source": [
    "**4) Tulis program Python untuk membalikkan string.** Contoh String : \"1234abcd\", Output yang Diharapkan : \"dcba4321\""
   ]
  },
  {
   "cell_type": "markdown",
   "id": "2196ee84",
   "metadata": {},
   "source": [
    "**Jawab**\n",
    "* ini merupakan fungsi unutk membalikkan nilai string yang diberikan. \n",
    "* untuk menghasilkan nilai yang terbalik ketika fungsi dijalankan adalah menggunakan metode slicing. \n",
    "* dimana hasil adalah dengan semua indeks, dan dihitung dari indeks paling belakang dari sebuah string. \n"
   ]
  },
  {
   "cell_type": "code",
   "execution_count": 172,
   "id": "b046cfde",
   "metadata": {},
   "outputs": [],
   "source": [
    "def reverse_(string):\n",
    "    result = string [::-1]\n",
    "    print (result)"
   ]
  },
  {
   "cell_type": "code",
   "execution_count": 173,
   "id": "87228634",
   "metadata": {},
   "outputs": [
    {
     "name": "stdout",
     "output_type": "stream",
     "text": [
      "asinnA ollaH\n"
     ]
    }
   ],
   "source": [
    "reverse_(\"Hallo Annisa\")"
   ]
  },
  {
   "cell_type": "markdown",
   "id": "30da2cfd",
   "metadata": {},
   "source": [
    "* Hasil dapat berubah sesuai dengan string yang diberikan "
   ]
  },
  {
   "cell_type": "markdown",
   "id": "d7392e1e",
   "metadata": {},
   "source": [
    "**5) Tulis fungsi Python yang menerima string dan menghitung jumlah\n",
    "huruf besar dan huruf kecil.** Contoh String : 'Hello World' , Output yang Diharapkan : Jumlah\n",
    "Karakter Huruf Besar : 2 dan Jumlah Karakter Huruf Kecil : 8"
   ]
  },
  {
   "cell_type": "markdown",
   "id": "c581d04f",
   "metadata": {},
   "source": [
    "**Jawab**\n",
    "* fungsi ini berlaku untuk data jenis string, tidak dapat digunakan jenis integer. \n",
    "* dimana result1 merupakan jumlah dari pemeriksaan setiap item berhurup kapital. \n",
    "* dimana result2 merupakan jumlah dari pemeriksaan setiap item berhuruf kecil. \n",
    "* menggunakan fungsi map sebagai u=fungsi untuk memeriksa setiap item didalam object atau kalimat. "
   ]
  },
  {
   "cell_type": "code",
   "execution_count": 454,
   "id": "84ae23b5",
   "metadata": {},
   "outputs": [],
   "source": [
    "def n_chars(string):\n",
    "    result1 = sum (map(str.isupper, string))\n",
    "    result2 = sum (map(str.islower, string))\n",
    "    print ('Jumlah huruf kapital:',result1, 'Jumlah huruf kecil:', result2)"
   ]
  },
  {
   "cell_type": "code",
   "execution_count": 453,
   "id": "6af19a93",
   "metadata": {},
   "outputs": [
    {
     "name": "stdout",
     "output_type": "stream",
     "text": [
      "Jumlah huruf kapital: 3 Jumlah huruf kecil: 19\n"
     ]
    }
   ],
   "source": [
    "n_chars ('Ayam Bebek Angsa dipotong')"
   ]
  },
  {
   "cell_type": "markdown",
   "id": "54de1b21",
   "metadata": {},
   "source": [
    "* Jumlah huruf kapital dan kecil akan berubah sesuai kalimat yang diberikan. "
   ]
  },
  {
   "cell_type": "markdown",
   "id": "703d8a2f",
   "metadata": {},
   "source": [
    "**6) Tulis fungsi Python yang mengambil daftar dan mengembalikan list\n",
    "baru dengan elemen unik dari list pertama.**\n",
    "Sample list : [1,2,3,3,3,3,4,5], Unique list : [1, 2, 3, 4, 5]"
   ]
  },
  {
   "cell_type": "markdown",
   "id": "5e6d3cb4",
   "metadata": {},
   "source": [
    "**Jawab**\n",
    "* fungsi ini merupakan fungsi untuk mendapatkan nilai unik dari sebuah list yang ada. \n",
    "* nilai diurutkan dari nilai terkecil hingga nilai terbesar. \n",
    "* setiap nilai ganda akan diambil satu angka untuk disimpan ke dalam list value baru. "
   ]
  },
  {
   "cell_type": "code",
   "execution_count": 161,
   "id": "80e50c90",
   "metadata": {},
   "outputs": [],
   "source": [
    "def unik(list):\n",
    "    list = np.array([list])\n",
    "    result = np.unique(list)\n",
    "    print (result)\n",
    "    "
   ]
  },
  {
   "cell_type": "code",
   "execution_count": 166,
   "id": "c09ca865",
   "metadata": {},
   "outputs": [
    {
     "name": "stdout",
     "output_type": "stream",
     "text": [
      "[   0    1    3    5    7   13   66 5555]\n"
     ]
    }
   ],
   "source": [
    "unik ([1,1,13,3,5,66,5,0,0,0,5555,7])"
   ]
  },
  {
   "cell_type": "markdown",
   "id": "5d103bae",
   "metadata": {},
   "source": [
    "* Hasil akan berubah sesuai nilai list yang diberikan. \n"
   ]
  },
  {
   "cell_type": "markdown",
   "id": "e3a3f4af",
   "metadata": {},
   "source": [
    "**7) Tulis fungsi Python yang menggunakan angka sebagai input\n",
    "parameter dan periksa angkanya prima atau tidak.**"
   ]
  },
  {
   "cell_type": "markdown",
   "id": "ff365b1d",
   "metadata": {},
   "source": [
    "**Jawab**\n",
    "* fungsi ini mengecek sebuang nilai atau angka merupakan bilangan prima atau bukan.\n",
    "* dimana nilai yang diberikan merupakan nilai input parameter oleh user sendiri. \n",
    "* dengan kondisi, untuk setiap elemen input didalam range nilai 2 dan nilai elemen ke -n, \n",
    "  jika elemen n dengan pembagi elemen habis dibagi dengan elemen adalah sama dengan nol, \n",
    "  berarti elemen terebut bukan elemen bilangan prima. \n",
    "* jika elemen habis dibagi tidak sama dengan nol, maka elemen termasuk ke dalam bilangan prima. \n"
   ]
  },
  {
   "cell_type": "code",
   "execution_count": 456,
   "id": "130b3901",
   "metadata": {},
   "outputs": [
    {
     "name": "stdout",
     "output_type": "stream",
     "text": [
      "angka: 97\n"
     ]
    },
    {
     "data": {
      "text/plain": [
       "True"
      ]
     },
     "execution_count": 456,
     "metadata": {},
     "output_type": "execute_result"
    }
   ],
   "source": [
    "def prima (n):\n",
    "    n = int(input(\"angka: \"))\n",
    "    for i in range (2, n):\n",
    "        if n % i == 0: \n",
    "            return False\n",
    "    return True\n",
    "prima(n)"
   ]
  },
  {
   "cell_type": "markdown",
   "id": "035fc9ce",
   "metadata": {},
   "source": [
    "* Hasil True menyatakan bahwa nilai atau angka yang dimasukkan merupakan bilangan prima. \n",
    "* hasil False menyatakan bahwa nilai atau angka yang dimasukkan merupakan bukan bilangan prima. \n"
   ]
  },
  {
   "cell_type": "markdown",
   "id": "2b05666a",
   "metadata": {},
   "source": [
    "**8) Tulis program Python untuk mencetak bilangan genap dari list yang\n",
    "diberikan.**\n",
    "Sample list : [1, 2, 3, 4, 5, 6, 7, 8, 9], Hasil yang Diharapkan : [2, 4, 6, 8]"
   ]
  },
  {
   "cell_type": "markdown",
   "id": "ba316c42",
   "metadata": {},
   "source": [
    "**Jawab**\n",
    "* merupakan fungsi untuk menampilkan bilangan genap dari nilai yang diberikan. \n",
    "* menggunaka non keywords argumen sebagai pilihan karena untuk membebaskan nilai \n",
    "  yang diberikan lebih dari satu. \n",
    "* dengan menggunakan kondisi for, unutk setiap elemen didalam nilai y, \n",
    "  berlaku jika elemen habis dibagi dengan 2 adalah 0, maka merupakan bilangan genap. "
   ]
  },
  {
   "cell_type": "code",
   "execution_count": 445,
   "id": "e88d4026",
   "metadata": {},
   "outputs": [],
   "source": [
    "def bilangan (*y):\n",
    "    result = []\n",
    "    for i in (y):\n",
    "        if i % 2==0:\n",
    "            print (i)\n",
    "            result= True\n",
    "    "
   ]
  },
  {
   "cell_type": "code",
   "execution_count": 448,
   "id": "46936eb7",
   "metadata": {},
   "outputs": [
    {
     "name": "stdout",
     "output_type": "stream",
     "text": [
      "4\n",
      "6\n",
      "8\n",
      "12\n",
      "16\n",
      "4\n"
     ]
    }
   ],
   "source": [
    "bilangan (1,3,4,6,8,12,16,4,11)"
   ]
  },
  {
   "cell_type": "markdown",
   "id": "ef046f84",
   "metadata": {},
   "source": [
    "* Hasil dapat berubah sesuai nilai yang diberikan \n"
   ]
  },
  {
   "cell_type": "markdown",
   "id": "a6897c67",
   "metadata": {},
   "source": [
    "**FINISHED**"
   ]
  }
 ],
 "metadata": {
  "kernelspec": {
   "display_name": "Python 3",
   "language": "python",
   "name": "python3"
  },
  "language_info": {
   "codemirror_mode": {
    "name": "ipython",
    "version": 3
   },
   "file_extension": ".py",
   "mimetype": "text/x-python",
   "name": "python",
   "nbconvert_exporter": "python",
   "pygments_lexer": "ipython3",
   "version": "3.8.8"
  }
 },
 "nbformat": 4,
 "nbformat_minor": 5
}
