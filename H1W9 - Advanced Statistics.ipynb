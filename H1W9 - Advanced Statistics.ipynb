{
 "cells": [
  {
   "cell_type": "markdown",
   "id": "414d6eca",
   "metadata": {},
   "source": [
    "**No 1.**\n",
    "\n",
    "Anda adalah seorang Manager yang baru bekerja di Supermarket X. Berdasarkan data history di\n",
    "tahun 2020, rata-rata usia pembeli di Supermarket anda berusia 20 tahun ke atas. Anda ingin\n",
    "melakukan study di bulan-bulan ini setelah anda bergabung, berapa banyak proporsi pembeli\n",
    "yang berusia 20 tahun ke atas. Untuk itu, anda mengambil random sample 500 pengunjung yang\n",
    "melakukan pembelian di Supermarket anda.\n",
    "\n",
    "a. Tuliskan Null Hypothesis dan Alternative Hypothesis dari studi yang anda lakukan.\n",
    "****\n",
    "**Jawab:** \n"
   ]
  },
  {
   "cell_type": "markdown",
   "id": "c5198f39",
   "metadata": {},
   "source": [
    "Null Hypothesis :  Bahwa rata-rata pembeli di supermarket adalah berusia 20 tahun, H0 = 20\n",
    "\n",
    "alternative hypothesis : \n",
    "* Bahwa rata-rata pembeli di supermarket adalah berusia diatas 20 tahun ,  H1 > 20\n",
    "* Bahwa rata-rata pembeli di supermarket adalah tidak sama dengan 20 tahun , H1 != 20\n",
    "* Bahwa rata-rata pembeli di supermarket adalah lebih kecil dari 20 tahun , H1 < 20\n"
   ]
  },
  {
   "cell_type": "markdown",
   "id": "2e6da895",
   "metadata": {},
   "source": [
    "**No 2.** \n",
    "\n",
    "Terhadap 500 orang tersebut, anda ingin melakukan uji 1 sample-test untuk memverifikasi\n",
    "hipotesis yang telah anda tulis di jawaban No. 1. Berikut adalah distribusi usia dari 500 random\n",
    "sample tersebut.(Buka file age_distribution.txt)\n",
    "\n",
    "a. Uji Hypothesis testing apakah yang akan anda lakukan? Ambil asumsi normality dalam hal\n",
    "ini.\n",
    "\n",
    "b. Berapakah besaran test statistic dari uji hipotesis pada poin a) ? Berapakah besaran p-\n",
    "value-nya? Gunakan ilustrasi yang diberikan pada sesi materi untuk melakukan\n",
    "\n",
    "perhitungannya.\n",
    "\n",
    "c. Bagaimana kesimpulan dari hypothesis testing poin a) dan b) ? Apakah anda akan me-\n",
    "reject atau meng-accept Null Hypothesis-nya?\n",
    "****\n",
    "**Jawab:** "
   ]
  },
  {
   "cell_type": "markdown",
   "id": "4a04bd90",
   "metadata": {},
   "source": [
    "a. Diambil asumsi hipotesis adalah: \n",
    "* Null Hipotesis = Bahwa rata-rata pembeli di Supermarket berusia 20 tahun\n",
    "* Sebagai data verifikasi diambil sample data random sebanyak 500 orang dari distribusi usia pembeli"
   ]
  },
  {
   "cell_type": "code",
   "execution_count": 79,
   "id": "89ec1124",
   "metadata": {},
   "outputs": [],
   "source": [
    "import pandas as pd \n",
    "import numpy as np"
   ]
  },
  {
   "cell_type": "code",
   "execution_count": 83,
   "id": "ffd36d19",
   "metadata": {},
   "outputs": [],
   "source": [
    "age_distrib = pd.read_csv (r\"D:\\M Arif\\Digital School\\WEEK 9\\Session 24\\age_distribution.txt\", header = None)"
   ]
  },
  {
   "cell_type": "code",
   "execution_count": 84,
   "id": "31c51015",
   "metadata": {},
   "outputs": [
    {
     "data": {
      "text/html": [
       "<div>\n",
       "<style scoped>\n",
       "    .dataframe tbody tr th:only-of-type {\n",
       "        vertical-align: middle;\n",
       "    }\n",
       "\n",
       "    .dataframe tbody tr th {\n",
       "        vertical-align: top;\n",
       "    }\n",
       "\n",
       "    .dataframe thead th {\n",
       "        text-align: right;\n",
       "    }\n",
       "</style>\n",
       "<table border=\"1\" class=\"dataframe\">\n",
       "  <thead>\n",
       "    <tr style=\"text-align: right;\">\n",
       "      <th></th>\n",
       "      <th>0</th>\n",
       "    </tr>\n",
       "  </thead>\n",
       "  <tbody>\n",
       "    <tr>\n",
       "      <th>0</th>\n",
       "      <td>15.0</td>\n",
       "    </tr>\n",
       "    <tr>\n",
       "      <th>1</th>\n",
       "      <td>13.0</td>\n",
       "    </tr>\n",
       "    <tr>\n",
       "      <th>2</th>\n",
       "      <td>23.0</td>\n",
       "    </tr>\n",
       "    <tr>\n",
       "      <th>3</th>\n",
       "      <td>16.0</td>\n",
       "    </tr>\n",
       "    <tr>\n",
       "      <th>4</th>\n",
       "      <td>22.0</td>\n",
       "    </tr>\n",
       "    <tr>\n",
       "      <th>...</th>\n",
       "      <td>...</td>\n",
       "    </tr>\n",
       "    <tr>\n",
       "      <th>495</th>\n",
       "      <td>37.0</td>\n",
       "    </tr>\n",
       "    <tr>\n",
       "      <th>496</th>\n",
       "      <td>13.0</td>\n",
       "    </tr>\n",
       "    <tr>\n",
       "      <th>497</th>\n",
       "      <td>25.0</td>\n",
       "    </tr>\n",
       "    <tr>\n",
       "      <th>498</th>\n",
       "      <td>19.0</td>\n",
       "    </tr>\n",
       "    <tr>\n",
       "      <th>499</th>\n",
       "      <td>30.0</td>\n",
       "    </tr>\n",
       "  </tbody>\n",
       "</table>\n",
       "<p>500 rows × 1 columns</p>\n",
       "</div>"
      ],
      "text/plain": [
       "        0\n",
       "0    15.0\n",
       "1    13.0\n",
       "2    23.0\n",
       "3    16.0\n",
       "4    22.0\n",
       "..    ...\n",
       "495  37.0\n",
       "496  13.0\n",
       "497  25.0\n",
       "498  19.0\n",
       "499  30.0\n",
       "\n",
       "[500 rows x 1 columns]"
      ]
     },
     "execution_count": 84,
     "metadata": {},
     "output_type": "execute_result"
    }
   ],
   "source": [
    "age_distrib"
   ]
  },
  {
   "cell_type": "code",
   "execution_count": 85,
   "id": "097b81b7",
   "metadata": {},
   "outputs": [
    {
     "data": {
      "text/plain": [
       "0    20.848\n",
       "dtype: float64"
      ]
     },
     "execution_count": 85,
     "metadata": {},
     "output_type": "execute_result"
    }
   ],
   "source": [
    "age_distrib.mean()"
   ]
  },
  {
   "cell_type": "code",
   "execution_count": 86,
   "id": "7b58c5b7",
   "metadata": {},
   "outputs": [
    {
     "name": "stdout",
     "output_type": "stream",
     "text": [
      "500\n"
     ]
    }
   ],
   "source": [
    "print (len(age_distrib))"
   ]
  },
  {
   "cell_type": "code",
   "execution_count": 87,
   "id": "29eb9e05",
   "metadata": {},
   "outputs": [
    {
     "data": {
      "text/html": [
       "<div>\n",
       "<style scoped>\n",
       "    .dataframe tbody tr th:only-of-type {\n",
       "        vertical-align: middle;\n",
       "    }\n",
       "\n",
       "    .dataframe tbody tr th {\n",
       "        vertical-align: top;\n",
       "    }\n",
       "\n",
       "    .dataframe thead th {\n",
       "        text-align: right;\n",
       "    }\n",
       "</style>\n",
       "<table border=\"1\" class=\"dataframe\">\n",
       "  <thead>\n",
       "    <tr style=\"text-align: right;\">\n",
       "      <th></th>\n",
       "      <th>0</th>\n",
       "    </tr>\n",
       "  </thead>\n",
       "  <tbody>\n",
       "    <tr>\n",
       "      <th>count</th>\n",
       "      <td>500.000000</td>\n",
       "    </tr>\n",
       "    <tr>\n",
       "      <th>mean</th>\n",
       "      <td>20.848000</td>\n",
       "    </tr>\n",
       "    <tr>\n",
       "      <th>std</th>\n",
       "      <td>7.197813</td>\n",
       "    </tr>\n",
       "    <tr>\n",
       "      <th>min</th>\n",
       "      <td>-0.000000</td>\n",
       "    </tr>\n",
       "    <tr>\n",
       "      <th>25%</th>\n",
       "      <td>16.000000</td>\n",
       "    </tr>\n",
       "    <tr>\n",
       "      <th>50%</th>\n",
       "      <td>21.000000</td>\n",
       "    </tr>\n",
       "    <tr>\n",
       "      <th>75%</th>\n",
       "      <td>25.000000</td>\n",
       "    </tr>\n",
       "    <tr>\n",
       "      <th>max</th>\n",
       "      <td>43.000000</td>\n",
       "    </tr>\n",
       "  </tbody>\n",
       "</table>\n",
       "</div>"
      ],
      "text/plain": [
       "                0\n",
       "count  500.000000\n",
       "mean    20.848000\n",
       "std      7.197813\n",
       "min     -0.000000\n",
       "25%     16.000000\n",
       "50%     21.000000\n",
       "75%     25.000000\n",
       "max     43.000000"
      ]
     },
     "execution_count": 87,
     "metadata": {},
     "output_type": "execute_result"
    }
   ],
   "source": [
    "age_distrib.describe()"
   ]
  },
  {
   "cell_type": "code",
   "execution_count": 88,
   "id": "5e9f57d8",
   "metadata": {},
   "outputs": [],
   "source": [
    "feature = 0"
   ]
  },
  {
   "cell_type": "code",
   "execution_count": 89,
   "id": "4ff1541c",
   "metadata": {},
   "outputs": [
    {
     "data": {
      "text/plain": [
       "0"
      ]
     },
     "execution_count": 89,
     "metadata": {},
     "output_type": "execute_result"
    }
   ],
   "source": [
    "feature"
   ]
  },
  {
   "cell_type": "markdown",
   "id": "854562b5",
   "metadata": {},
   "source": [
    "* Merupakan histogram dari distribusi usia pada 500 orang sample yang diambil secara acak "
   ]
  },
  {
   "cell_type": "code",
   "execution_count": 90,
   "id": "71497ecd",
   "metadata": {},
   "outputs": [],
   "source": [
    "import matplotlib.pyplot as plt \n",
    "\n",
    "%matplotlib inline"
   ]
  },
  {
   "cell_type": "code",
   "execution_count": 91,
   "id": "d166950d",
   "metadata": {},
   "outputs": [
    {
     "data": {
      "image/png": "[encoded data removed]",
      "text/plain": [
       "<Figure size 432x288 with 1 Axes>"
      ]
     },
     "metadata": {
      "needs_background": "light"
     },
     "output_type": "display_data"
    }
   ],
   "source": [
    "plt.hist(teks[feature])\n",
    "plt.show()"
   ]
  },
  {
   "cell_type": "code",
   "execution_count": 92,
   "id": "ab736fe6",
   "metadata": {},
   "outputs": [
    {
     "name": "stdout",
     "output_type": "stream",
     "text": [
      "20.848 7.197813072458332\n"
     ]
    }
   ],
   "source": [
    "print (age_distrib[feature].mean(), age_distrib[feature].std())"
   ]
  },
  {
   "cell_type": "markdown",
   "id": "db6f89b4",
   "metadata": {},
   "source": [
    "* Diambil sample dari distribusi usia yang diambil secara acak "
   ]
  },
  {
   "cell_type": "code",
   "execution_count": 94,
   "id": "56225710",
   "metadata": {},
   "outputs": [
    {
     "data": {
      "text/plain": [
       "21.825"
      ]
     },
     "execution_count": 94,
     "metadata": {},
     "output_type": "execute_result"
    }
   ],
   "source": [
    "sample_size = 40\n",
    "age_distrib[feature].sample(sample_size).mean()"
   ]
  },
  {
   "cell_type": "code",
   "execution_count": 98,
   "id": "43428281",
   "metadata": {},
   "outputs": [
    {
     "name": "stdout",
     "output_type": "stream",
     "text": [
      "1500 20.853633333333335\n"
     ]
    }
   ],
   "source": [
    "n_range = 1500\n",
    "\n",
    "sample_means = [age_distrib[feature].sample(sample_size).mean() for i in range (n_range)]\n",
    "sample_means = pd.Series(sample_means)\n",
    "\n",
    "print (len(sample_means), sample_means.mean())"
   ]
  },
  {
   "cell_type": "code",
   "execution_count": 99,
   "id": "e1167b3a",
   "metadata": {},
   "outputs": [
    {
     "data": {
      "image/png": "[encoded data removed]",
      "text/plain": [
       "<Figure size 432x288 with 1 Axes>"
      ]
     },
     "metadata": {
      "needs_background": "light"
     },
     "output_type": "display_data"
    }
   ],
   "source": [
    "plt.hist(sample_means)\n",
    "plt.show()"
   ]
  },
  {
   "cell_type": "markdown",
   "id": "594e2101",
   "metadata": {},
   "source": [
    "b. Mencari nilai p-value dan t-value"
   ]
  },
  {
   "cell_type": "code",
   "execution_count": 49,
   "id": "f83a1e72",
   "metadata": {},
   "outputs": [],
   "source": [
    "from scipy.stats import ttest_1samp\n",
    "import numpy as np"
   ]
  },
  {
   "cell_type": "code",
   "execution_count": 55,
   "id": "4fdd223a",
   "metadata": {},
   "outputs": [
    {
     "name": "stdout",
     "output_type": "stream",
     "text": [
      "20.848\n"
     ]
    }
   ],
   "source": [
    "ages_mean = np.mean(teks[feature])\n",
    "print(ages_mean)"
   ]
  },
  {
   "cell_type": "code",
   "execution_count": 103,
   "id": "bc5b4c05",
   "metadata": {},
   "outputs": [
    {
     "name": "stdout",
     "output_type": "stream",
     "text": [
      "21.0\n",
      "342    26.0\n",
      "13     24.0\n",
      "185    22.0\n",
      "2      23.0\n",
      "309    11.0\n",
      "294    27.0\n",
      "4      22.0\n",
      "494    26.0\n",
      "43      9.0\n",
      "386    23.0\n",
      "430    20.0\n",
      "354    32.0\n",
      "104    16.0\n",
      "164    28.0\n",
      "451    21.0\n",
      "376    17.0\n",
      "130    14.0\n",
      "146    26.0\n",
      "232    17.0\n",
      "23     32.0\n",
      "173    25.0\n",
      "31      7.0\n",
      "96     27.0\n",
      "262    22.0\n",
      "299    19.0\n",
      "226    15.0\n",
      "174    26.0\n",
      "322    18.0\n",
      "340    16.0\n",
      "402    31.0\n",
      "234    25.0\n",
      "317    25.0\n",
      "479    28.0\n",
      "261    24.0\n",
      "181    16.0\n",
      "51     17.0\n",
      "462     9.0\n",
      "119    10.0\n",
      "460    17.0\n",
      "45     27.0\n",
      "Name: 0, dtype: float64\n"
     ]
    }
   ],
   "source": [
    "sample = teks[feature].dropna().sample(40)\n",
    "print (sample.mean())\n",
    "print (sample)"
   ]
  },
  {
   "cell_type": "code",
   "execution_count": 104,
   "id": "ce81213c",
   "metadata": {},
   "outputs": [
    {
     "name": "stdout",
     "output_type": "stream",
     "text": [
      "p-values 0.8778294663075276 tset 0.15473346775395913\n",
      "we are accepting null hypothesis\n"
     ]
    }
   ],
   "source": [
    "tset, pval = ttest_1samp(sample, 20.84)\n",
    "print(\"p-values\", pval, \"tset\", tset)\n",
    "\n",
    "if pval < 0.05:    # alpha value is 0.05 or 5%\n",
    "   print(\" we are rejecting null hypothesis\") # Null hypothesis : tidak ada perbedaan rata-rata antara sample dengan populasi\n",
    "else:\n",
    "  print(\"we are accepting null hypothesis\")"
   ]
  },
  {
   "cell_type": "markdown",
   "id": "58ba3111",
   "metadata": {},
   "source": [
    "c. Berdasarkan pengujian hipotesis testing menggunakan T-test, disimpulkan bahwa tidak ada statistical difference (Null Hipotesis) terhadap karakteristik sample yang diambil dari populasi pengujian.  "
   ]
  },
  {
   "cell_type": "markdown",
   "id": "b360e02e",
   "metadata": {},
   "source": [
    "**A/B Testing**\n",
    "\n",
    "Sebagai Data Scientist, anda ingin melakukan eksperimen untuk membuktikan bahwa algoritma\n",
    "rekomendasi produk baru yang anda buat dapat meningkatkan performance bisnis di perusahaan anda.\n",
    "Bayangkan bahwa anda harus melakukan A/B testing terhadap performance suatu metrics (silakan pilih\n",
    "metrics yang relevan dalam bisnis e-commerce). Tuliskan dalam tabel di bawah, apa yang akan anda isi\n",
    "untuk setiap parameter atau aspek A/B testing."
   ]
  },
  {
   "cell_type": "markdown",
   "id": "9186028b",
   "metadata": {},
   "source": [
    "**Jawab:**"
   ]
  },
  {
   "cell_type": "markdown",
   "id": "8d5a8f13",
   "metadata": {},
   "source": [
    "**Problem statement**\n",
    "****"
   ]
  },
  {
   "cell_type": "markdown",
   "id": "087fc20b",
   "metadata": {},
   "source": [
    "Dilakukan pembuatan dua kampanye periklanan oleh bisnis penjualan buku online melalui media ilkan di dalam sosial media instagram. Hal ini dilakukan pembuatan iklan dengan sistem paket bersamaan dengan diskon (Group A), sedangkan satu nya lagi hanya menggunakan diskon tanpa menggunakan paket buku (Group B), dengan dasar pehitungan harga buku dan total diskon yang diberikan terhadap buku dan paket adalah bernilai sama. "
   ]
  },
  {
   "cell_type": "markdown",
   "id": "6496b255",
   "metadata": {},
   "source": [
    "**Hipotesis**\n",
    "****"
   ]
  },
  {
   "cell_type": "markdown",
   "id": "8b83d4af",
   "metadata": {},
   "source": [
    "Null hipotesis : H0, = Tidak ada perbedaan CTR terhadap kasus iklan tersebut, Group A dan B memiliki nilai CTR yang sama. \n",
    "\n",
    "Alternative Hipotesis : CTR Group A lebih besar dari pada Group B "
   ]
  },
  {
   "cell_type": "markdown",
   "id": "ce2024b4",
   "metadata": {},
   "source": [
    "**Metrik sukses dalam\n",
    "eksperimen A/B testing anda**\n",
    "****\n",
    "\n"
   ]
  },
  {
   "cell_type": "markdown",
   "id": "f88ccce2",
   "metadata": {},
   "source": [
    "Metriks sukses dalam eksperimen adalah ketika persentase kenaikan antara kedua grup lebih besar dari 5% terhadap jumlah pengunjung, diasumsikan 17000 visitor dari total populasi.  "
   ]
  },
  {
   "cell_type": "markdown",
   "id": "b4bc8e25",
   "metadata": {},
   "source": [
    "**Audiences dari group A dan\n",
    "B (populasi)**\n",
    "*****"
   ]
  },
  {
   "cell_type": "markdown",
   "id": "e350e3e3",
   "metadata": {},
   "source": [
    "Populasi dari group A dan B adalah seluruh masyarakat yang menyukai membaca dan sosial media instagram sebagai salah satu pilihan tempat untuk mencari buku yang mereka inginkan.  "
   ]
  },
  {
   "cell_type": "markdown",
   "id": "0e648a96",
   "metadata": {},
   "source": [
    "****\n",
    "Setelah anda menjalankan A/B test tersebut, anda mendapatkan hasilnya. Tuliskan hasil yang kira-kira\n",
    "akan anda dapatkan dari A/B test tersebut. Jangan gunakan angka yang sama persis dengan group A dan\n",
    "B anda, berikan sedikit variasi/perbedaan. Pastikan jumlah visitors anda di angka yang lebih besari dari\n",
    "10,000 orang. Anda bebas mengisi dengan angka apapun. Untuk membatasi scope, gunakan metrics yang\n",
    "bersifat Categorical (seperti Click Through Rate, atau Conversion Rate), sehingga anda dapat\n",
    "menggunakan uji Chi-Square."
   ]
  },
  {
   "cell_type": "markdown",
   "id": "d59d55f6",
   "metadata": {},
   "source": [
    "a. Terhadap hasil di tabel di atas, lakukan uji Chi-square test untuk menentukan apakah hasil\n",
    "A/B testing anda statistically significance.\n",
    "\n",
    "b. Lampirkan cara perhitungannya dalam Jupyter Notebook"
   ]
  },
  {
   "cell_type": "markdown",
   "id": "ae54fc84",
   "metadata": {},
   "source": [
    "**Jawab:**\n",
    "\n",
    "a. Diperoleh bahwa dari 17000 visitors yang mengunnjungi pad kedua iklan tersebut, diketahui hanya 1015 CTR pada Group A dan 700 CTR pada iklan Group B "
   ]
  },
  {
   "cell_type": "code",
   "execution_count": 77,
   "id": "ad595505",
   "metadata": {},
   "outputs": [
    {
     "data": {
      "text/html": [
       "<div>\n",
       "<style scoped>\n",
       "    .dataframe tbody tr th:only-of-type {\n",
       "        vertical-align: middle;\n",
       "    }\n",
       "\n",
       "    .dataframe tbody tr th {\n",
       "        vertical-align: top;\n",
       "    }\n",
       "\n",
       "    .dataframe thead th {\n",
       "        text-align: right;\n",
       "    }\n",
       "</style>\n",
       "<table border=\"1\" class=\"dataframe\">\n",
       "  <thead>\n",
       "    <tr style=\"text-align: right;\">\n",
       "      <th></th>\n",
       "      <th>Group</th>\n",
       "      <th>Click</th>\n",
       "      <th>Visitors</th>\n",
       "      <th>ctr</th>\n",
       "    </tr>\n",
       "  </thead>\n",
       "  <tbody>\n",
       "    <tr>\n",
       "      <th>0</th>\n",
       "      <td>Group_A</td>\n",
       "      <td>1015</td>\n",
       "      <td>17000</td>\n",
       "      <td>0.059706</td>\n",
       "    </tr>\n",
       "    <tr>\n",
       "      <th>1</th>\n",
       "      <td>Group_B</td>\n",
       "      <td>700</td>\n",
       "      <td>17000</td>\n",
       "      <td>0.041176</td>\n",
       "    </tr>\n",
       "  </tbody>\n",
       "</table>\n",
       "</div>"
      ],
      "text/plain": [
       "     Group  Click  Visitors       ctr\n",
       "0  Group_A   1015     17000  0.059706\n",
       "1  Group_B    700     17000  0.041176"
      ]
     },
     "execution_count": 77,
     "metadata": {},
     "output_type": "execute_result"
    }
   ],
   "source": [
    "experimental_result = (\n",
    "    \n",
    "    pd.DataFrame(\n",
    "     [\n",
    "      {\"Group\": \"Group_A\", \"Click\": 1015, \"Visitors\": 17000},\n",
    "      {\"Group\": \"Group_B\", \"Click\": 700, \"Visitors\": 17000}\n",
    "     ]   \n",
    "    )\n",
    ")\n",
    "\n",
    "experimental_result[\"ctr\"] = experimental_result[\"Click\"] / experimental_result[\"Visitors\"] \n",
    "experimental_result"
   ]
  },
  {
   "cell_type": "markdown",
   "id": "196f8283",
   "metadata": {},
   "source": [
    "b. Menguji hipotesis dengan melihat statistically significant menggunakan uji Chi-square test yang menyatakan bahwa tidak ada perbedaan CTR terhadap kedua grup tersebut. "
   ]
  },
  {
   "cell_type": "code",
   "execution_count": 67,
   "id": "b5ce5ce2",
   "metadata": {},
   "outputs": [
    {
     "data": {
      "text/plain": [
       "array([[ 1015, 15985],\n",
       "       [  700, 16300]])"
      ]
     },
     "execution_count": 67,
     "metadata": {},
     "output_type": "execute_result"
    }
   ],
   "source": [
    "a_click = 1015\n",
    "a_noclick = 17000 - a_click\n",
    "\n",
    "b_click = 700\n",
    "b_noclick = 17000 - b_click\n",
    "\n",
    "T = np.array([[a_click, a_noclick], [b_click, b_noclick]])\n",
    "T"
   ]
  },
  {
   "cell_type": "code",
   "execution_count": 74,
   "id": "54b8e503",
   "metadata": {},
   "outputs": [
    {
     "name": "stdout",
     "output_type": "stream",
     "text": [
      "7.19409230896897e-15\n"
     ]
    }
   ],
   "source": [
    "import scipy\n",
    "from scipy import stats\n",
    "\n",
    "pval = scipy.stats.chi2_contingency(T)[1]\n",
    "print(pval)"
   ]
  },
  {
   "cell_type": "code",
   "execution_count": 69,
   "id": "3960e0ef",
   "metadata": {},
   "outputs": [
    {
     "name": "stdout",
     "output_type": "stream",
     "text": [
      "reject null hypothesis\n"
     ]
    }
   ],
   "source": [
    "if pval<0.05:\n",
    "    print(\"reject null hypothesis\") # null : tidak ada perbedaan\n",
    "else:\n",
    "    print(\"accept null hypothesis\")"
   ]
  },
  {
   "cell_type": "markdown",
   "id": "f210185d",
   "metadata": {},
   "source": [
    "* Berdasarkan hasil uji chi-square diperoleh bahwa tidak statistically significant, terdapat perbedaan antara CTR group A dengan CTR Group B. Dimana CTR group A lebih besar dibanding dengan CTR pada Group B. "
   ]
  },
  {
   "cell_type": "markdown",
   "id": "d8eaf854",
   "metadata": {},
   "source": [
    "**FINISHED**"
   ]
  }
 ],
 "metadata": {
  "kernelspec": {
   "display_name": "Python 3",
   "language": "python",
   "name": "python3"
  },
  "language_info": {
   "codemirror_mode": {
    "name": "ipython",
    "version": 3
   },
   "file_extension": ".py",
   "mimetype": "text/x-python",
   "name": "python",
   "nbconvert_exporter": "python",
   "pygments_lexer": "ipython3",
   "version": "3.8.8"
  }
 },
 "nbformat": 4,
 "nbformat_minor": 5
}
