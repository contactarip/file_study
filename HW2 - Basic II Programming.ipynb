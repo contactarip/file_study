{
 "cells": [
  {
   "cell_type": "markdown",
   "id": "b43252dc",
   "metadata": {},
   "source": [
    "# Soal No : \n",
    "**1. Buatlah program untuk mencetak tabel perkalian dari bilangan yang\n",
    "   diberikan.** "
   ]
  },
  {
   "cell_type": "markdown",
   "id": "7d64b5fa",
   "metadata": {},
   "source": [
    "**Jawab:**\n",
    "\n",
    "*  Memerintahkan bahwa nilai bilangan berdasarkan \n",
    "   inputan oleh user.\n",
    "*  Dan terjadi pembatasan ini dilakukan agar tampilan output lebih baik saja. \n",
    "   Sehingga tidak sulit melihat nilai yang keluar.\n",
    "*  Namun nilai inputan tidak dibatasi."
   ]
  },
  {
   "cell_type": "code",
   "execution_count": 172,
   "id": "0aeecbf8",
   "metadata": {},
   "outputs": [
    {
     "name": "stdout",
     "output_type": "stream",
     "text": [
      "Please enter a positive integer between 1 and 10: 10\n"
     ]
    }
   ],
   "source": [
    "n = int(input('Please enter a positive integer between 1 and 10: '))\n"
   ]
  },
  {
   "cell_type": "code",
   "execution_count": 175,
   "id": "72548b75",
   "metadata": {},
   "outputs": [
    {
     "name": "stdout",
     "output_type": "stream",
     "text": [
      "1\t2\t3\t4\t5\t6\t7\t8\t9\t10\t\n",
      "2\t4\t6\t8\t10\t12\t14\t16\t18\t20\t\n",
      "3\t6\t9\t12\t15\t18\t21\t24\t27\t30\t\n",
      "4\t8\t12\t16\t20\t24\t28\t32\t36\t40\t\n",
      "5\t10\t15\t20\t25\t30\t35\t40\t45\t50\t\n",
      "6\t12\t18\t24\t30\t36\t42\t48\t54\t60\t\n",
      "7\t14\t21\t28\t35\t42\t49\t56\t63\t70\t\n",
      "8\t16\t24\t32\t40\t48\t56\t64\t72\t80\t\n",
      "9\t18\t27\t36\t45\t54\t63\t72\t81\t90\t\n",
      "10\t20\t30\t40\t50\t60\t70\t80\t90\t100\t\n"
     ]
    }
   ],
   "source": [
    "for row in range(1,n+1):\n",
    "    for col in range(1,n+1):\n",
    "        print(row*col, end=\"\\t\")\n",
    "    print()"
   ]
  },
  {
   "cell_type": "markdown",
   "id": "3f24f7b2",
   "metadata": {},
   "source": [
    "**Penjelasan:**\n",
    "1. Pernyataan for untuk setiap elemen didalam baris adalah bernilai dimulai dari \n",
    "   angka 1 hingga angka inputan yang diberikan oleh user.\n",
    "2. Pernyataan for kedua merupakan bagian dari pernyataan ke 1, \n",
    "   yang menyatakan bahwa setiap elemen di dalam kolom bernilai dimulai dari angka 1\n",
    "   hingga angka inputan yang diberikan oleh user.\n",
    "3. Pernyataan ke 3 merupakan bagian dari for yang ke 1, hal ini karena untuk \n",
    "    mengisi nilai-nilai atau perkalian dari angka pada row dan colom yang telah dibuat, \n",
    "    sehingga ketika program di jalankan nilai perkalian termasuk ke dalam\n",
    "    row dan colom yang telah dibuat. "
   ]
  },
  {
   "cell_type": "markdown",
   "id": "0dc5c266",
   "metadata": {},
   "source": [
    "# Soal No : \n",
    "**2. Buatlah program untuk menghitung jumlah semua angka dari 1 ke\n",
    "    angka yang diberikan.**\n"
   ]
  },
  {
   "cell_type": "markdown",
   "id": "e1718ad6",
   "metadata": {},
   "source": [
    "**Jawab:**"
   ]
  },
  {
   "cell_type": "markdown",
   "id": "1e17914a",
   "metadata": {},
   "source": [
    "* Tahap membuat bilangan inputan sesuai dengan inputan oleh user. \n",
    "* Program ini hanya berlaku untuk inputan user dengan nilai \n",
    "  bilangan bulat positif. \n",
    "* Apabila user memasukkan dengan nilai bilangan bulat negatif, maka hasilnya akan (0) nol. "
   ]
  },
  {
   "cell_type": "code",
   "execution_count": 404,
   "id": "7bc3d4e1",
   "metadata": {},
   "outputs": [
    {
     "name": "stdout",
     "output_type": "stream",
     "text": [
      "Masukkan Nilai: 15\n"
     ]
    }
   ],
   "source": [
    "y = int (input (\"Masukkan Nilai: \"))"
   ]
  },
  {
   "cell_type": "markdown",
   "id": "e6a95ad1",
   "metadata": {},
   "source": [
    "**Penjelasan:**\n",
    "\n",
    "  * Memasukkan fungsi for ke dalam situasi\n",
    "  * situasi for pertama menyatakan bahwa, untuk setiap elemen \n",
    "    didalam range dimulai dari nilai 1 hingga nilai inputan oleh user\n",
    "  * diketahui bahwa nilai awal sebelum dimasukkan kedalam kondisi for adalah Nol, \n",
    "  * Kemudian kita masukkan situasi didalam statement for, bahwa nilai merupakan nilai ditambah\n",
    "    dengan setiap elemen berikutnya hingga elemen user input sehingga akan menjumlahnkan \n",
    "    setiap nilai dengan nilai berikutnya. "
   ]
  },
  {
   "cell_type": "code",
   "execution_count": 405,
   "id": "94012d46",
   "metadata": {},
   "outputs": [
    {
     "name": "stdout",
     "output_type": "stream",
     "text": [
      "120\n",
      "list dari angka: 1 hingga 15 adalah: [1, 2, 3, 4, 5, 6, 7, 8, 9, 10, 11, 12, 13, 14, 15] maka jumlahnya:  120\n"
     ]
    }
   ],
   "source": [
    "nilai = 0\n",
    "for i in range (1,y+1):  \n",
    "    nilai = nilai + i\n",
    "print (nilai)\n",
    "deret = [i for i in range (1, y+1)]\n",
    "print (\"list dari angka: 1 hingga\", y, \"adalah:\",deret, \"maka jumlahnya: \", nilai)"
   ]
  },
  {
   "cell_type": "markdown",
   "id": "c5f9d910",
   "metadata": {},
   "source": [
    "# Soal No :\n",
    "**3. Buat program untuk menampilkan semua bilangan prima dalam suatu\n",
    "   rentang**"
   ]
  },
  {
   "cell_type": "markdown",
   "id": "1476f7fd",
   "metadata": {},
   "source": [
    "**Jawab:**\n",
    "\n",
    "* Memasukkan nilai awal dan nilai akhir berdasarkan inputan oleh user"
   ]
  },
  {
   "cell_type": "code",
   "execution_count": 178,
   "id": "0ac57f65",
   "metadata": {},
   "outputs": [
    {
     "name": "stdout",
     "output_type": "stream",
     "text": [
      "Masukkan angka awal: 3\n",
      "Masukkan angka akhir: 50\n"
     ]
    }
   ],
   "source": [
    "input_awal = int(input('Masukkan angka awal: '))\n",
    "input_akhir = int(input('Masukkan angka akhir: '))\n"
   ]
  },
  {
   "cell_type": "markdown",
   "id": "202fc084",
   "metadata": {},
   "source": [
    "* Mengekspressikan kondisi: \n",
    "      - list angka , merupakan pernyataan untuk kondisi \n",
    "        bahwa nilai elemen yang dimasukkan oleh user berada \n",
    "        pada suatu rentang nilai. \n",
    "      - pernyataan kedua merupakan variabel untuk memunculkan bilangan prima. \n",
    "      - Kemudian dengan menggunakan pernyataan for untuk setiap elemen didalam inputan user, \n",
    "        dengan ekspressi jika setiap elemen adalah nilai 2, atau 3, atau 5, atau7 , atau\n",
    "        bahwa setiap elemen tidak habis dibagi 3, dibagi  dan dibagi 7, maka nilai \n",
    "        tersebut merupakan bilangan prima."
   ]
  },
  {
   "cell_type": "code",
   "execution_count": 179,
   "id": "96fd4d40",
   "metadata": {},
   "outputs": [],
   "source": [
    "angka = [i for i in range(input_awal, input_akhir +1 )]\n",
    "\n",
    "bilprima = []\n",
    "for i in angka:\n",
    "    if (i==2 or i==3 or i==5 or i==7) or (i%2 != 0 and i%3 != 0 and i%5 != 0 and i%7 != 0):\n",
    "        bilprima.append(i)"
   ]
  },
  {
   "cell_type": "markdown",
   "id": "4067ffa1",
   "metadata": {},
   "source": [
    "* Menampilkan keseluruhan nilai bilangan prima dari rentang awal dan akhir\n",
    "   yang di input oleh user. "
   ]
  },
  {
   "cell_type": "code",
   "execution_count": 180,
   "id": "fff3b9fb",
   "metadata": {},
   "outputs": [
    {
     "name": "stdout",
     "output_type": "stream",
     "text": [
      "Bilangan Prima dari: 3 sampai: 50 adalah: [3, 5, 7, 11, 13, 17, 19, 23, 29, 31, 37, 41, 43, 47]\n"
     ]
    }
   ],
   "source": [
    "print(\"Bilangan Prima dari:\", input_awal, \"sampai:\", input_akhir, \"adalah:\" , bilprima)"
   ]
  },
  {
   "cell_type": "markdown",
   "id": "64b43767",
   "metadata": {},
   "source": [
    "# Soal No :\n",
    "**4. Buatlah program untuk membalikkan bilangan bulat yang diberikan.**"
   ]
  },
  {
   "cell_type": "markdown",
   "id": "227d9b57",
   "metadata": {},
   "source": [
    "**Jawab:**"
   ]
  },
  {
   "cell_type": "markdown",
   "id": "2e0cd4a1",
   "metadata": {},
   "source": [
    "* Membuat perintah untuk memasukkan nilai dari user\n",
    "* urutan nilai inputan user berfungsi sebagai data list\n",
    "* Berlaku hanya untuk bilangan bulat positif"
   ]
  },
  {
   "cell_type": "code",
   "execution_count": 402,
   "id": "d9920a86",
   "metadata": {
    "scrolled": true
   },
   "outputs": [
    {
     "name": "stdout",
     "output_type": "stream",
     "text": [
      "Masukkan bilangan bulat: 13649786\n"
     ]
    }
   ],
   "source": [
    "Masuk = list(input(\"Masukkan bilangan bulat: \"))"
   ]
  },
  {
   "cell_type": "markdown",
   "id": "3d11f487",
   "metadata": {},
   "source": [
    "* Karena setiap nilai elemen dari inputan user merupakan \n",
    "  data list maka digunakan fungsi reverse.\n",
    "* yaitu fungsi yang \n",
    "  menghasilkan iterasi yang berisi kebalikan dari suatu sequence."
   ]
  },
  {
   "cell_type": "code",
   "execution_count": 403,
   "id": "bc5250ec",
   "metadata": {},
   "outputs": [
    {
     "name": "stdout",
     "output_type": "stream",
     "text": [
      "6\n",
      "8\n",
      "7\n",
      "9\n",
      "4\n",
      "6\n",
      "3\n",
      "1\n"
     ]
    }
   ],
   "source": [
    "for i in (reversed(Masuk)): \n",
    "    print (i)\n"
   ]
  },
  {
   "cell_type": "markdown",
   "id": "7f692597",
   "metadata": {},
   "source": [
    "# Soal No : \n",
    "**5. Buatlaah program untuk menghitung pangkat tiga dari semua angka\n",
    "   dari 1 ke angka yang diberikan.**\n"
   ]
  },
  {
   "cell_type": "markdown",
   "id": "0f10e993",
   "metadata": {},
   "source": [
    "**Jawab:**"
   ]
  },
  {
   "cell_type": "markdown",
   "id": "8e095bda",
   "metadata": {},
   "source": [
    "* Memasukkan nilai bilangan bulat berdasarkan inputan oleh user\n",
    "* hanya berlaku untuk bilangan bulat positive"
   ]
  },
  {
   "cell_type": "code",
   "execution_count": 170,
   "id": "9a454fc9",
   "metadata": {},
   "outputs": [
    {
     "name": "stdout",
     "output_type": "stream",
     "text": [
      "Please enter a positive integer:  8\n"
     ]
    }
   ],
   "source": [
    "nilai =int(input('Please enter a positive integer:  '))\n"
   ]
  },
  {
   "cell_type": "code",
   "execution_count": 171,
   "id": "0bbb1fe9",
   "metadata": {},
   "outputs": [
    {
     "name": "stdout",
     "output_type": "stream",
     "text": [
      "Nilai pangkat 3 dari: 1 hingga 8 adalah: [1, 8, 27, 64, 125, 216, 343, 512]\n"
     ]
    }
   ],
   "source": [
    "pangkat = [i**3 for i in range (1, nilai+1)]\n",
    "print ('Nilai pangkat 3 dari: 1', 'hingga', nilai, 'adalah:', pangkat)"
   ]
  },
  {
   "cell_type": "markdown",
   "id": "e6b9ea36",
   "metadata": {},
   "source": [
    "**Penjelasan:**\n",
    "   1.  Bahwa setiap nilai elemen adalah hasil pangkat 3, \n",
    "       yang dimulai dari angka 1 hingga angka yang diinput oleh user. "
   ]
  },
  {
   "cell_type": "markdown",
   "id": "15c49991",
   "metadata": {},
   "source": [
    "# Finished"
   ]
  }
 ],
 "metadata": {
  "kernelspec": {
   "display_name": "Python 3",
   "language": "python",
   "name": "python3"
  },
  "language_info": {
   "codemirror_mode": {
    "name": "ipython",
    "version": 3
   },
   "file_extension": ".py",
   "mimetype": "text/x-python",
   "name": "python",
   "nbconvert_exporter": "python",
   "pygments_lexer": "ipython3",
   "version": "3.8.8"
  }
 },
 "nbformat": 4,
 "nbformat_minor": 5
}
