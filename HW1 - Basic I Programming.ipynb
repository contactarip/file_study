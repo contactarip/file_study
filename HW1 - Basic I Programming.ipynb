{
 "cells": [
  {
   "cell_type": "markdown",
   "id": "02b924ef",
   "metadata": {},
   "source": [
    "# Soal No. 1 :"
   ]
  },
  {
   "cell_type": "markdown",
   "id": "ce59d5dc",
   "metadata": {},
   "source": [
    "* Buatlah program untuk memeriksa apakah suatu tahun adalah tahun kabisat atau bukan. \n",
    "Jika tahun habis dibagi 4 maka itu adalah tahun kabisat tetapi jika tahun tersebut adalah tahun abad seperti 2000,\n",
    "1900, 2100 maka harus habis dibagi 400."
   ]
  },
  {
   "cell_type": "markdown",
   "id": "8d76f659",
   "metadata": {},
   "source": [
    "# Jawab : "
   ]
  },
  {
   "cell_type": "markdown",
   "id": "757b95df",
   "metadata": {},
   "source": [
    "* Sebuah tahun dapat dikatakan tahun kabisat atau bukan tahun kabisat: \n",
    "*Pembuatan kondisi: \n",
    " 1. Jika sebuah tahun bisa dibagi 400, maka ia sudah pasti tahun kabisat.\n",
    " 2. Jika suatu tahun bisa dibagi 100 dan tidak bisa dibagi 400, maka tahun tersebut sudah pasti bukan tahun kabisat.\n",
    " 3. Jika suatu tahun tidak bisa dibagi 400, juga tidak bisa dibagi 100, akan tetapi bisa dibagi dengan 4, maka tahun itu adalah tahun kabisat.\n",
    " 4. Dan yang selain itu (yang tidak bisa dibagi 400, dan 100, dan 4) maka dinyatatakan bukan sebagai tahun kabisat\n"
   ]
  },
  {
   "cell_type": "markdown",
   "id": "1faeff17",
   "metadata": {},
   "source": [
    "* Pembuatan variabel "
   ]
  },
  {
   "cell_type": "code",
   "execution_count": 18,
   "id": "c0a08a16",
   "metadata": {},
   "outputs": [
    {
     "name": "stdout",
     "output_type": "stream",
     "text": [
      "input years2016\n",
      "input years is 2016\n"
     ]
    }
   ],
   "source": [
    "tahun = int (input ('input years'))\n",
    "print ('input years is {}'.format(tahun))\n",
    "\n",
    "x_dibagi_400 = tahun % 400 == 0\n",
    "x_dibagi_100 = tahun % 100 == 0\n",
    "x_dibagi_4 = tahun % 4 == 0\n"
   ]
  },
  {
   "cell_type": "markdown",
   "id": "b00721ee",
   "metadata": {},
   "source": [
    "* Membuat statement if function "
   ]
  },
  {
   "cell_type": "code",
   "execution_count": 61,
   "id": "ae46b8de",
   "metadata": {},
   "outputs": [
    {
     "name": "stdout",
     "output_type": "stream",
     "text": [
      "Maka, Tahun\n",
      "2016 merupakan tahun kabisat\n"
     ]
    }
   ],
   "source": [
    "print ('Maka, Tahun')\n",
    "if x_dibagi_400:\n",
    "    print('{} merupakan tahun kabisat'.format(tahun))\n",
    "elif x_dibagi_100:\n",
    "    print('{} bukan tahun kabisat'.format(tahun))\n",
    "elif x_dibagi_4:\n",
    "    print('{} merupakan tahun kabisat'.format(tahun))\n",
    "elif x_dibagi_400 or (x_dibagi_4 and not x_dibagi_100):\n",
    "    print ('{} merupakan tahun kabisat'.format(tahun))\n",
    "else:\n",
    "    print('{} bukan tahun kabisat'.format(tahun))"
   ]
  },
  {
   "cell_type": "markdown",
   "id": "2b50766f",
   "metadata": {},
   "source": [
    "# Penjelasan: \n",
    "* Pada statement ke 1 adalah mengecek kondisi jika tahun tersebut habis dibagi 400 maka tahun tersebut adalah tahun kabisat.\n",
    "* Pada statement ke 2 adalah cek kondisi jika tahun tersebut  habis dibagi 100 maka tahun tersebut bukan tahun kabisat.\n",
    "* Pada statement ke 3 adalah mengecek kondisi jika tahun tersebut habis dibagi 4 maka tahun tersebut adalah tahun kabisat.\n",
    "* Pada statement ke 4 Kalau suatu tahun bisa dibagi 4 dan merupakan kelipatan 100 dan juga kelipatan 400, maka dia termasuk tahun kabisat.\n",
    "* Pada statement ke 5 adalah Jika tahun inputan tidak dapat habis dibagi 400, 100 dan 4 maka tahun tersebut bukan tahun kabisat"
   ]
  },
  {
   "cell_type": "markdown",
   "id": "7e5a4662",
   "metadata": {},
   "source": [
    "# Soal No. 2 "
   ]
  },
  {
   "cell_type": "markdown",
   "id": "35dd0d9b",
   "metadata": {},
   "source": [
    "* Minta pengguna untuk memasukkan usia, jenis kelamin ( L atau F ), status perkawinan ( Y atau T ) dan kemudian gunakan aturan berikut untuk mencetak tempat layanan mereka.\n",
    "        a. jika karyawan perempuan, maka dia hanya akan bekerja di daerah perkotaan.\n",
    "        b. jika karyawan adalah laki-laki dan usia antara 20 sampai 40 maka ia dapat bekerja di mana saja\n",
    "        c. jika karyawan laki-laki dan usia antara 40 t0 60 maka dia akan bekerja di daerah perkotaan saja.\n",
    "        d. Dan input usia lainnya harus mencetak \"ERROR\""
   ]
  },
  {
   "cell_type": "markdown",
   "id": "b95c2cdb",
   "metadata": {},
   "source": [
    "# Jawab: "
   ]
  },
  {
   "cell_type": "markdown",
   "id": "149f909c",
   "metadata": {},
   "source": [
    "* Penentuan variable"
   ]
  },
  {
   "cell_type": "code",
   "execution_count": 148,
   "id": "2971b93f",
   "metadata": {},
   "outputs": [
    {
     "name": "stdout",
     "output_type": "stream",
     "text": [
      "Laki-laki atau Female, L/F : L\n"
     ]
    }
   ],
   "source": [
    "jenis_kelamin = input (\"Laki-laki atau Female, L/F : \")"
   ]
  },
  {
   "cell_type": "code",
   "execution_count": 151,
   "id": "4853bd2d",
   "metadata": {},
   "outputs": [
    {
     "name": "stdout",
     "output_type": "stream",
     "text": [
      "masukkan usia: 61\n"
     ]
    }
   ],
   "source": [
    "usia = int(input(\"masukkan usia: \"))"
   ]
  },
  {
   "cell_type": "code",
   "execution_count": 102,
   "id": "13589bc9",
   "metadata": {},
   "outputs": [
    {
     "name": "stdout",
     "output_type": "stream",
     "text": [
      "Sudah Menikah, Y/T:  Y\n"
     ]
    }
   ],
   "source": [
    "status = input(\"Sudah Menikah, Y/T:  \")"
   ]
  },
  {
   "cell_type": "markdown",
   "id": "2d01fc03",
   "metadata": {},
   "source": [
    "* Menyatakan if statement "
   ]
  },
  {
   "cell_type": "code",
   "execution_count": 152,
   "id": "f48b9517",
   "metadata": {},
   "outputs": [
    {
     "name": "stdout",
     "output_type": "stream",
     "text": [
      "ERROR\n"
     ]
    }
   ],
   "source": [
    "if jenis_kelamin == \"L\": \n",
    "    if usia >= 20:\n",
    "        if usia < 40:\n",
    "            print (\"Bekerja dimana saja\")\n",
    "    if usia >= 40:\n",
    "        if usia <= 60:\n",
    "            print (\"Bekerja di perkotaan saja\")\n",
    "    if usia < 20: \n",
    "        print (\"ERROR\")\n",
    "    if usia > 60: \n",
    "        print (\"ERROR\")    \n",
    "else: \n",
    "    jenis_kelamin == \"F\"\n",
    "    print (\"Bekerja di perkotaan\")    "
   ]
  },
  {
   "cell_type": "markdown",
   "id": "b0930c20",
   "metadata": {},
   "source": [
    "* Penjelasan : \n",
    "       1. statement ke 1 menyatakan untuk jenis kelamin sama dengan \n",
    "           Laki Laki:  \n",
    "            - dengan rentang usia 20 hingga 40 akan bekerja \n",
    "               dimana saja.\n",
    "            - dengan rentang usia 40 hingga 60 akan bekerja \n",
    "              di perkotaan saja .\n",
    "            - dengan inputan pernyataan usia selain 20 hingga 60,\n",
    "               maka akan menampilkan error. \n",
    "       2. statement else: menyatakan bahwa seluruh karyawan \n",
    "          perempuan akan bekerja di perkotaan saja, dengan tidak \n",
    "          memasukkan kategori rentang usia."
   ]
  },
  {
   "cell_type": "markdown",
   "id": "a61d2fa0",
   "metadata": {},
   "source": [
    "# Soal No. 3 \n",
    " * Tulis program untuk mengonversi suhu ke dan dari celsius, fahrenheit, Kelvin dan Reaumur "
   ]
  },
  {
   "cell_type": "markdown",
   "id": "89813ac7",
   "metadata": {},
   "source": [
    "# Jawab: "
   ]
  },
  {
   "cell_type": "markdown",
   "id": "d15ab233",
   "metadata": {},
   "source": [
    "# Dimana: \n",
    " * Rumus konversi suhu Celcius ke Fahrenheit: ⁰F = (9/5) × ⁰C + 32\n",
    " * Rumus konversi suhu Fahrenheit ke Celcius:°C = (°F - 32) × 5/9"
   ]
  },
  {
   "cell_type": "markdown",
   "id": "7547c885",
   "metadata": {},
   "source": [
    "* Pendefinisian variabel"
   ]
  },
  {
   "cell_type": "code",
   "execution_count": 55,
   "id": "57574559",
   "metadata": {},
   "outputs": [
    {
     "name": "stdout",
     "output_type": "stream",
     "text": [
      "Masukan Temperatur?(Contoh: 29C,30F):56F\n"
     ]
    }
   ],
   "source": [
    "Temperatur = input(\"Masukan Temperatur?(Contoh: 29C,30F):\")\n",
    "Derajat = int(Temperatur[:-1])\n",
    "inputan = Temperatur[-1]"
   ]
  },
  {
   "cell_type": "markdown",
   "id": "044ebbf6",
   "metadata": {},
   "source": [
    "* Pembuatan statemen if function "
   ]
  },
  {
   "cell_type": "code",
   "execution_count": 60,
   "id": "6bd328c3",
   "metadata": {},
   "outputs": [
    {
     "name": "stdout",
     "output_type": "stream",
     "text": [
      "Hasil Konversi Suhu\n",
      "56 Fahrenheit = 13.3 Celsius\n"
     ]
    }
   ],
   "source": [
    "print ('Hasil Konversi Suhu')\n",
    "if inputan.upper() == \"C\":\n",
    "    hasil1 = float((9/5)* Derajat + 32)\n",
    "    hasil3 = float(4/5 * Derajat)\n",
    "    jenisX = \"Celcius\"\n",
    "    jenis1 = \"Fahrenheit\"\n",
    "elif inputan.upper() == \"F\":\n",
    "    hasil1 = float((Derajat - 32) * (5 / 9))\n",
    "    jenisX = \"Fahrenheit\"\n",
    "else: \n",
    "    print ('Inputan tidak sesuai!!! Perhatikan penulisan inputan')\n",
    "\n",
    "print(Derajat,jenisX,\"=\",\"{:.1f}\".format(hasil1),jenis1)\n"
   ]
  },
  {
   "cell_type": "markdown",
   "id": "11d1f881",
   "metadata": {},
   "source": [
    "# Penjelasan: \n",
    "\n",
    "* Fungsi if statement yang pertama apabila inputan suhu terdefinisi huruf Kapital C, maka fungsi\n",
    "  rumus yang digunakan adalah expression ke 1. \n",
    "* Fungsi if statement yang ke dua adalah apabila inputan suhu terdeifinisi huruf  Kapital F, maka fungsi \n",
    "  rumus yang digunakan adalah expression ke 2.  \n",
    "* Statement selain if adalah menyatakan apabila inputan tidak terdefinisi huruf kapital satuan. "
   ]
  },
  {
   "cell_type": "markdown",
   "id": "20971411",
   "metadata": {},
   "source": [
    "# Soal No. 4 \n",
    "* Seorang penjual mainan menyediakan tiga jenis mainan: Mainan\n",
    "  Berbasis Baterai, Mainan Berbasis Kunci, dan Mainan Berbasis Pengisian Listrik.\n",
    "           a. Vendor memberikan diskon 10% untuk pesanan mainan berbasis baterai jika pesanan lebih \n",
    "              dari Rp 1000.\n",
    "           b. Pada pesanan lebih dari Rp 100 untuk mainan berbasis kunci, diskon 5% diberikan,\n",
    "           c. dan diskon 10% diberikan untuk pesanan mainan berbasis pengisian listrik dengan nilai lebih\n",
    "              dari Rp 500.\n",
    "           d. Asumsikan bahwa kode angka 1,2 dan 3 masing-masing digunakan untuk mainan berbasis baterai,\n",
    "              mainan berbasis kunci, dan mainan berbasis pengisian listrik.\n",
    "           e. Tulis sebuah program yang membaca kode produk dan jumlah pesanan dan mencetak jumlah bersih \n",
    "              yang harus dibayar pelanggan setelah diskon."
   ]
  },
  {
   "cell_type": "markdown",
   "id": "34979e67",
   "metadata": {},
   "source": [
    "* Penginputan Variabel, berdasarkan input oleh User"
   ]
  },
  {
   "cell_type": "code",
   "execution_count": 117,
   "id": "8ea2772f",
   "metadata": {},
   "outputs": [
    {
     "name": "stdout",
     "output_type": "stream",
     "text": [
      "Masukkan Total Harga Barang Rp: 680\n"
     ]
    }
   ],
   "source": [
    "harga = int(input('Masukkan Total Harga Barang Rp: '))\n",
    "total_order = int(harga)\n",
    "Total = total_order"
   ]
  },
  {
   "cell_type": "markdown",
   "id": "c3d64a83",
   "metadata": {},
   "source": [
    "* Memasukkan nilai fungsi If statement terhadap jenis mainan, Total discount, dan Harga yang harus dibayar.\n",
    "* memasukkan statement apabila harga tidak termasuk ke dalam kategori discount.\n",
    "* Tidak ada harga satuan unit"
   ]
  },
  {
   "cell_type": "code",
   "execution_count": 118,
   "id": "8b8ff4e7",
   "metadata": {},
   "outputs": [
    {
     "name": "stdout",
     "output_type": "stream",
     "text": [
      "----- TOKO MAINAN -----\n",
      "Jumlah Nominal Uang = Rp. 7000\n",
      "Jenis Mainan:  Mainan Berbasis Kunci,  Discount 5%:  Total Harga =  Rp. 646.0\n",
      "Uang Kembalian =  Rp.  6354.0\n",
      "----- TERIMA KASIH -----\n"
     ]
    }
   ],
   "source": [
    "print ('----- TOKO MAINAN -----')\n",
    "\n",
    "if Total > 1000: \n",
    "    Total = float (Total - (0.1* total_order))\n",
    "    J = \"Jenis Mainan: \"\n",
    "    R = \"Mainan Berbasis Baterai, \"\n",
    "    S = \"Discount 10%: \"\n",
    "elif Total > 100: \n",
    "    Total = float (Total - (0.05 * total_order))\n",
    "    J = \"Jenis Mainan: \"\n",
    "    R = \"Mainan Berbasis Kunci, \"\n",
    "    S = \"Discount 5%: \"\n",
    "elif Total > 500: \n",
    "    Total = float (Total - (0.1 * total_order))\n",
    "    J = \"Jenis Mainan: \"\n",
    "    R = \"Mainan Berbasis Pengisian Listrik, \"\n",
    "    S = \"Discount 10%: \"  \n",
    "else: \n",
    "    Total = float (Total) \n",
    "    R = \"Tidak Ada Discount Harga Mainan, \"\n",
    "Bayar = int (input(\"Jumlah Nominal Uang = Rp. \"))\n",
    "Kembalian = (Bayar - Total)\n",
    "print (J,R,S,\"Total Harga = \", \"Rp.\", \"{}\".format(Total))\n",
    "print ( \"Uang Kembalian = \", \"Rp. \", Kembalian)\n",
    "\n",
    "print (\"----- TERIMA KASIH -----\")\n",
    "\n",
    "    "
   ]
  },
  {
   "cell_type": "markdown",
   "id": "de15ae1f",
   "metadata": {},
   "source": [
    "# Soal No. 5 \n",
    "* Sebuhan event organizer memiliki tarif berikut untuk berbagai jenis kursi:\n",
    "        a. Biasa – 2500\n",
    "        b. Paviliun – 3500\n",
    "        c. Paviliun Atas – 4500\n",
    "        d. VIP – 6000\n",
    "        e. VVIP – 8000\n",
    "        f. Mereka memberikan diskon 10% untuk pemesanan online dan\n",
    "           diskon 8% untuk pemesanan di muka dan tidak ada diskon yang\n",
    "           diberikan untuk pemesanan pada hari pertandingan dari jendela tiket.\n",
    "        g. Minta pengguna untuk memasukkan jenis pemesanan seperti\n",
    "           pemesanan online, muka atau jendela.\n",
    "        h. Minta pengguna untuk memilih jenis kursi.\n",
    "        i. Hitung jumlahnya dan cetak tiket dengan format yang benar."
   ]
  },
  {
   "cell_type": "markdown",
   "id": "55f4f35f",
   "metadata": {},
   "source": [
    "# Jawab: \n"
   ]
  },
  {
   "cell_type": "markdown",
   "id": "1416b147",
   "metadata": {},
   "source": [
    "* Menentukan Variabel dan statement \n"
   ]
  },
  {
   "cell_type": "code",
   "execution_count": 154,
   "id": "e6a8f05c",
   "metadata": {},
   "outputs": [
    {
     "name": "stdout",
     "output_type": "stream",
     "text": [
      "\n",
      "          =====================================\n",
      "            Jenis Kursi       Kode       Tarif\n",
      "          =====================================\n",
      "          Biasa              B      :  Rp. 2500\n",
      "          Paviliun           P      :  Rp. 3500\n",
      "          Paviliun_Atas      PA     :  Rp. 4500\n",
      "          VIP                V      :  Rp. 6000\n",
      "          VVIP               VP     :  Rp. 8000\n",
      "          =====================================\n",
      "          \n",
      "\n",
      "                  Metode Pemesanan  \n",
      "          jenis         Kode       Discount\n",
      "          =================================\n",
      "          Order online    O     : discount 10% \n",
      "          H-1             H     : discount 8% \n",
      "          On Place        ON    : No discount \n",
      "          =================================\n",
      "          \n"
     ]
    }
   ],
   "source": [
    "print (\"\"\"\n",
    "          =====================================\n",
    "            Jenis Kursi       Kode       Tarif\n",
    "          =====================================\n",
    "          Biasa              B      :  Rp. 2500\n",
    "          Paviliun           P      :  Rp. 3500\n",
    "          Paviliun_Atas      PA     :  Rp. 4500\n",
    "          VIP                V      :  Rp. 6000\n",
    "          VVIP               VP     :  Rp. 8000\n",
    "          =====================================\n",
    "          \"\"\")\n",
    "\n",
    "print (\"\"\"\n",
    "                  Metode Pemesanan  \n",
    "          jenis         Kode       Discount\n",
    "          =================================\n",
    "          Order online    O     : discount 10% \n",
    "          H-1             H     : discount 8% \n",
    "          On Place        ON    : No discount \n",
    "          =================================\n",
    "          \"\"\")\n"
   ]
  },
  {
   "cell_type": "code",
   "execution_count": 233,
   "id": "a8eabd07",
   "metadata": {},
   "outputs": [
    {
     "name": "stdout",
     "output_type": "stream",
     "text": [
      "Masukkan Kode Kursi yang Anda Pilih: Misal B, P, PA:  PA\n",
      "Jenis Kursi adalah:  PA\n"
     ]
    }
   ],
   "source": [
    "Pesan = input(\"Masukkan Kode Kursi yang Anda Pilih: Misal B, P, PA:  \")\n",
    "print (\"Jenis Kursi adalah: \", Pesan)"
   ]
  },
  {
   "cell_type": "code",
   "execution_count": 234,
   "id": "60f050f5",
   "metadata": {},
   "outputs": [
    {
     "name": "stdout",
     "output_type": "stream",
     "text": [
      "Masukkan Kode Metode Pemesanan: Misal O, H atau ON :   H\n",
      "Jenis Pemesanan adalah:  H\n"
     ]
    }
   ],
   "source": [
    "metode = input(\"Masukkan Kode Metode Pemesanan: Misal O, H atau ON :   \")\n",
    "print (\"Jenis Pemesanan adalah: \", metode)"
   ]
  },
  {
   "cell_type": "markdown",
   "id": "c74ede48",
   "metadata": {},
   "source": [
    "* Memasukkan fungsi if statement "
   ]
  },
  {
   "cell_type": "code",
   "execution_count": 235,
   "id": "c2f6cd1c",
   "metadata": {},
   "outputs": [
    {
     "name": "stdout",
     "output_type": "stream",
     "text": [
      "Jenis pemesanan:  Bayar Muka , Discount 8% Total biaya Rp:  360.0\n",
      " --- Perhatikan Kode Input --- \n"
     ]
    }
   ],
   "source": [
    "if metode == \"O\":\n",
    "    if Pesan == \"B\":\n",
    "        harga = 2500 * 0.1\n",
    "    if Pesan == \"P\":\n",
    "        harga = 3500 * 0.1\n",
    "    if Pesan == \"PA\": \n",
    "        harga = 4500 * 0.1\n",
    "    if Pesan == \"V\": \n",
    "        harga = 6000 * 0.1\n",
    "    if Pesan == \"VP\":\n",
    "        harga = 8000 * 0.1\n",
    "    jenis = \"Order Online\"\n",
    "    disc = \"Discount 10%\"\n",
    "if metode == \"H\": \n",
    "    if Pesan == \"B\":\n",
    "        harga = 2500 * 0.08\n",
    "    if Pesan == \"P\":\n",
    "        harga = 3500 * 0.08\n",
    "    if Pesan == \"PA\": \n",
    "        harga = 4500 * 0.08\n",
    "    if Pesan == \"V\": \n",
    "        harga = 6000 * 0.08\n",
    "    if Pesan == \"VP\":\n",
    "        harga = 8000 * 0.08\n",
    "    jenis = \"Bayar Muka\"\n",
    "    disc = \"Discount 8%\"\n",
    "elif metode == \"ON\": \n",
    "    B = 2500\n",
    "    harga = B\n",
    "    P = 3500\n",
    "    harga = P\n",
    "    PA = 4500  \n",
    "    harga = 4500\n",
    "    V = 6000\n",
    "    harga = V\n",
    "    VP = 8000\n",
    "    harga = VP\n",
    "    jenis = \"ON Place\"\n",
    "    disc = \"No Discount\"\n",
    "else:   \n",
    "    harga = Pesan \n",
    "    metode = harga\n",
    "    disc = metode \n",
    "print(\"Jenis pemesanan: \", jenis,\",\", disc, \"Total biaya Rp: \", harga)\n",
    "print (\" --- Perhatikan Kode Input --- \")"
   ]
  },
  {
   "cell_type": "markdown",
   "id": "00ccf9da",
   "metadata": {},
   "source": [
    "# Penjelasan : \n",
    "             1. Pernyataan ke 1 menyatan apabila melakukan jenis pemesanan \n",
    "                menggunakan order online, maka akan berlaku discount 10%. \n",
    "             2. Pernyataan ke 2 menyatakan apabila menggunakan jenis\n",
    "                pemesanan bayar di muka, maka akan berlaku discount 8%. \n",
    "             3. Pernyataan ke 2 menyatakan apabila memilih beli di tempat, \n",
    "                maka tidak ada discount harga, dan berlaku harga sesuai\n",
    "                pilihan jenis kursi untuk sebuah acara. \n",
    "             4. Pernyataan ke 4 menyatakan bahwa apabila inputan jenis kursi                  \n",
    "                dan jenis pemesanan diluar kode yang ditetapkan, maka akan \n",
    "                tidak akan menampilkan total harga. "
   ]
  },
  {
   "cell_type": "markdown",
   "id": "8cb47118",
   "metadata": {},
   "source": [
    "# Finished"
   ]
  }
 ],
 "metadata": {
  "kernelspec": {
   "display_name": "Python 3",
   "language": "python",
   "name": "python3"
  },
  "language_info": {
   "codemirror_mode": {
    "name": "ipython",
    "version": 3
   },
   "file_extension": ".py",
   "mimetype": "text/x-python",
   "name": "python",
   "nbconvert_exporter": "python",
   "pygments_lexer": "ipython3",
   "version": "3.8.8"
  }
 },
 "nbformat": 4,
 "nbformat_minor": 5
}
